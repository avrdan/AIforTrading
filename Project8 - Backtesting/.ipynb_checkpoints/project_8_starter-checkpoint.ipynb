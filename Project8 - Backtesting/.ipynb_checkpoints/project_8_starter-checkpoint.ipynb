{
 "cells": [
  {
   "cell_type": "markdown",
   "metadata": {},
   "source": [
    "# Project 8: Backtesting\n",
    "\n",
    "In this project, you will build a fairly realistic backtester that uses the Barra data. The backtester will perform portfolio optimization that includes transaction costs, and you'll implement it with computational efficiency in mind, to allow for a reasonably fast backtest. You'll also use performance attribution to identify the major drivers of your portfolio's profit-and-loss (PnL). You will have the option to modify and customize the backtest as well.\n",
    "\n",
    "\n",
    "## Instructions\n",
    "\n",
    "Each problem consists of a function to implement and instructions on how to implement the function.  The parts of the function that need to be implemented are marked with a `# TODO` comment. Your code will be checked for the correct solution when you submit it to Udacity.\n",
    "\n",
    "\n",
    "## Packages\n",
    "\n",
    "When you implement the functions, you'll only need to you use the packages you've used in the classroom, like [Pandas](https://pandas.pydata.org/) and [Numpy](http://www.numpy.org/). These packages will be imported for you. We recommend you don't add any import statements, otherwise the grader might not be able to run your code.\n",
    "\n",
    "### Install Packages"
   ]
  },
  {
   "cell_type": "code",
   "execution_count": 1,
   "metadata": {},
   "outputs": [
    {
     "name": "stdout",
     "output_type": "stream",
     "text": [
      "Requirement already satisfied: matplotlib==2.1.0 in /opt/conda/lib/python3.6/site-packages (from -r requirements.txt (line 1)) (2.1.0)\n",
      "Requirement already satisfied: numpy==1.16.1 in /opt/conda/lib/python3.6/site-packages (from -r requirements.txt (line 2)) (1.16.1)\n",
      "Requirement already satisfied: pandas==0.24.1 in /opt/conda/lib/python3.6/site-packages (from -r requirements.txt (line 3)) (0.24.1)\n",
      "Requirement already satisfied: patsy==0.5.1 in /opt/conda/lib/python3.6/site-packages (from -r requirements.txt (line 4)) (0.5.1)\n",
      "Requirement already satisfied: scipy==0.19.1 in /opt/conda/lib/python3.6/site-packages (from -r requirements.txt (line 5)) (0.19.1)\n",
      "Requirement already satisfied: statsmodels==0.9.0 in /opt/conda/lib/python3.6/site-packages (from -r requirements.txt (line 6)) (0.9.0)\n",
      "Requirement already satisfied: tqdm==4.19.5 in /opt/conda/lib/python3.6/site-packages (from -r requirements.txt (line 7)) (4.19.5)\n",
      "Requirement already satisfied: six>=1.10 in /opt/conda/lib/python3.6/site-packages (from matplotlib==2.1.0->-r requirements.txt (line 1)) (1.11.0)\n",
      "Requirement already satisfied: python-dateutil>=2.0 in /opt/conda/lib/python3.6/site-packages (from matplotlib==2.1.0->-r requirements.txt (line 1)) (2.6.1)\n",
      "Requirement already satisfied: pytz in /opt/conda/lib/python3.6/site-packages (from matplotlib==2.1.0->-r requirements.txt (line 1)) (2017.3)\n",
      "Requirement already satisfied: cycler>=0.10 in /opt/conda/lib/python3.6/site-packages/cycler-0.10.0-py3.6.egg (from matplotlib==2.1.0->-r requirements.txt (line 1)) (0.10.0)\n",
      "Requirement already satisfied: pyparsing!=2.0.4,!=2.1.2,!=2.1.6,>=2.0.1 in /opt/conda/lib/python3.6/site-packages (from matplotlib==2.1.0->-r requirements.txt (line 1)) (2.2.0)\n"
     ]
    }
   ],
   "source": [
    "import sys\n",
    "!{sys.executable} -m pip install -r requirements.txt"
   ]
  },
  {
   "cell_type": "markdown",
   "metadata": {},
   "source": [
    "### Load Packages"
   ]
  },
  {
   "cell_type": "code",
   "execution_count": 2,
   "metadata": {},
   "outputs": [],
   "source": [
    "import scipy\n",
    "import patsy\n",
    "import pickle\n",
    "\n",
    "import numpy as np\n",
    "import pandas as pd\n",
    "\n",
    "import scipy.sparse\n",
    "import matplotlib.pyplot as plt\n",
    "\n",
    "from statistics import median\n",
    "from scipy.stats import gaussian_kde\n",
    "from statsmodels.formula.api import ols\n",
    "from tqdm import tqdm"
   ]
  },
  {
   "cell_type": "markdown",
   "metadata": {},
   "source": [
    "## Load Data\n",
    "\n",
    "We’ll be using the Barra dataset to get factors that can be used to predict risk. Loading and parsing the raw Barra data can be a very slow process that can significantly slow down your backtesting. For this reason, it's important to pre-process the data beforehand. For your convenience, the Barra data has already been pre-processed for you and saved into pickle files. You will load the Barra data from these pickle files.\n",
    "\n",
    "In the code below, we start by loading `2004` factor data from the `pandas-frames.2004.pickle` file. We also load the `2003` and `2004` covariance data from the `covaraince.2003.pickle`  and `covaraince.2004.pickle` files. You are encouraged  to customize the data range for your backtest. For example, we recommend starting with two or three years of factor data. Remember that the covariance data should include all the years that you choose for the factor data,   and also one year earlier. For example, in the code below we are using  `2004` factor data, therefore, we must include `2004` in our covariance data, but also the previous year, `2003`. If you don't remember why must include this previous year, feel free to review the lessons."
   ]
  },
  {
   "cell_type": "code",
   "execution_count": 3,
   "metadata": {},
   "outputs": [],
   "source": [
    "barra_dir = '../../data/project_8_barra/'\n",
    "\n",
    "data = {}\n",
    "for year in [2004]:\n",
    "    fil = barra_dir + \"pandas-frames.\" + str(year) + \".pickle\"\n",
    "    data.update(pickle.load( open( fil, \"rb\" ) ))\n",
    "    \n",
    "covariance = {}\n",
    "for year in [2004]:\n",
    "    fil = barra_dir + \"covariance.\" + str(year) + \".pickle\"\n",
    "    covariance.update(pickle.load( open(fil, \"rb\" ) ))\n",
    "    \n",
    "daily_return = {}\n",
    "for year in [2004, 2005]:\n",
    "    fil = barra_dir + \"price.\" + str(year) + \".pickle\"\n",
    "    daily_return.update(pickle.load( open(fil, \"rb\" ) ))"
   ]
  },
  {
   "cell_type": "markdown",
   "metadata": {},
   "source": [
    "## Shift Daily Returns Data (TODO)\n",
    "\n",
    "In the cell below, we want to incorporate a realistic time delay that exists in live trading, we’ll use a two day delay for the `daily_return` data. That means the `daily_return` should be two days after the data in `data` and `cov_data`. Combine `daily_return` and `data` together in a dict called `frames`.\n",
    "\n",
    "Since reporting of PnL is usually for the date of the returns, make sure to use the two day delay dates (dates that match the `daily_return`) when building `frames`. This means calling `frames['20040108']` will get you the prices from \"20040108\" and the data from `data` at \"20040106\".\n",
    "\n",
    "Note: We're not shifting `covariance`, since we'll use the \"DataDate\" field in `frames` to lookup the covariance data. The \"DataDate\" field contains the date when the `data` in `frames` was recorded. For example, `frames['20040108']` will give you a value of \"20040106\" for the field \"DataDate\"."
   ]
  },
  {
   "cell_type": "code",
   "execution_count": 4,
   "metadata": {},
   "outputs": [],
   "source": [
    "frames ={}\n",
    "dlyreturn_n_days_delay = 2\n",
    "\n",
    "# TODO: Implement\n",
    "#print(list(data.items())[0:10])\n",
    "#print(list(daily_return.items())[0:10])\n",
    "daily_return_shifted = sorted(daily_return.keys())[dlyreturn_n_days_delay:len(data) + dlyreturn_n_days_delay]\n",
    "date_shifts = zip(sorted(data.keys()), daily_return_shifted)\n",
    "\n",
    "for data_date, return_date in date_shifts:\n",
    "    frames[data_date] = data[data_date].merge(daily_return[return_date], on='Barrid') \n",
    "\n"
   ]
  },
  {
   "cell_type": "markdown",
   "metadata": {},
   "source": [
    "## Add Daily Returns date column (Optional)\n",
    "Name the column `DlyReturnDate`.\n",
    "**Hint**: create a list containing copies of the date, then create a pandas series."
   ]
  },
  {
   "cell_type": "code",
   "execution_count": 5,
   "metadata": {},
   "outputs": [
    {
     "data": {
      "text/html": [
       "<div>\n",
       "<style scoped>\n",
       "    .dataframe tbody tr th:only-of-type {\n",
       "        vertical-align: middle;\n",
       "    }\n",
       "\n",
       "    .dataframe tbody tr th {\n",
       "        vertical-align: top;\n",
       "    }\n",
       "\n",
       "    .dataframe thead th {\n",
       "        text-align: right;\n",
       "    }\n",
       "</style>\n",
       "<table border=\"1\" class=\"dataframe\">\n",
       "  <thead>\n",
       "    <tr style=\"text-align: right;\">\n",
       "      <th></th>\n",
       "      <th>Barrid</th>\n",
       "      <th>USFASTD_1DREVRSL</th>\n",
       "      <th>USFASTD_AERODEF</th>\n",
       "      <th>USFASTD_AIRLINES</th>\n",
       "      <th>USFASTD_ALUMSTEL</th>\n",
       "      <th>USFASTD_APPAREL</th>\n",
       "      <th>USFASTD_AUTO</th>\n",
       "      <th>USFASTD_BANKS</th>\n",
       "      <th>USFASTD_BETA</th>\n",
       "      <th>USFASTD_BEVTOB</th>\n",
       "      <th>...</th>\n",
       "      <th>ADTCA_30</th>\n",
       "      <th>IssuerMarketCap</th>\n",
       "      <th>Yield</th>\n",
       "      <th>TotalRisk</th>\n",
       "      <th>SpecRisk</th>\n",
       "      <th>HistBeta</th>\n",
       "      <th>PredBeta</th>\n",
       "      <th>DataDate</th>\n",
       "      <th>DlyReturn</th>\n",
       "      <th>DlyReturnDate</th>\n",
       "    </tr>\n",
       "  </thead>\n",
       "  <tbody>\n",
       "    <tr>\n",
       "      <th>0</th>\n",
       "      <td>USA0001</td>\n",
       "      <td>-0.032</td>\n",
       "      <td>0.000</td>\n",
       "      <td>0.0</td>\n",
       "      <td>0.0</td>\n",
       "      <td>0.0</td>\n",
       "      <td>0.0</td>\n",
       "      <td>0.0</td>\n",
       "      <td>-2.177</td>\n",
       "      <td>0.0</td>\n",
       "      <td>...</td>\n",
       "      <td>NaN</td>\n",
       "      <td>5.392988e+10</td>\n",
       "      <td>0.188679</td>\n",
       "      <td>13.959397</td>\n",
       "      <td>9.014505</td>\n",
       "      <td>-0.000189</td>\n",
       "      <td>0.156387</td>\n",
       "      <td>20040102</td>\n",
       "      <td>0.0</td>\n",
       "      <td>20040102</td>\n",
       "    </tr>\n",
       "    <tr>\n",
       "      <th>1</th>\n",
       "      <td>USA0011</td>\n",
       "      <td>-0.059</td>\n",
       "      <td>0.000</td>\n",
       "      <td>0.0</td>\n",
       "      <td>0.0</td>\n",
       "      <td>0.0</td>\n",
       "      <td>0.0</td>\n",
       "      <td>0.0</td>\n",
       "      <td>-2.176</td>\n",
       "      <td>0.0</td>\n",
       "      <td>...</td>\n",
       "      <td>NaN</td>\n",
       "      <td>5.874999e+09</td>\n",
       "      <td>0.000000</td>\n",
       "      <td>17.033359</td>\n",
       "      <td>11.726327</td>\n",
       "      <td>0.000013</td>\n",
       "      <td>0.147900</td>\n",
       "      <td>20040102</td>\n",
       "      <td>0.0</td>\n",
       "      <td>20040102</td>\n",
       "    </tr>\n",
       "    <tr>\n",
       "      <th>2</th>\n",
       "      <td>USA0031</td>\n",
       "      <td>0.457</td>\n",
       "      <td>0.000</td>\n",
       "      <td>0.0</td>\n",
       "      <td>0.0</td>\n",
       "      <td>0.0</td>\n",
       "      <td>0.0</td>\n",
       "      <td>0.0</td>\n",
       "      <td>-2.061</td>\n",
       "      <td>0.0</td>\n",
       "      <td>...</td>\n",
       "      <td>NaN</td>\n",
       "      <td>7.304963e+10</td>\n",
       "      <td>2.103004</td>\n",
       "      <td>21.738218</td>\n",
       "      <td>18.047415</td>\n",
       "      <td>0.053033</td>\n",
       "      <td>0.216422</td>\n",
       "      <td>20040102</td>\n",
       "      <td>0.0</td>\n",
       "      <td>20040102</td>\n",
       "    </tr>\n",
       "    <tr>\n",
       "      <th>3</th>\n",
       "      <td>USA0062</td>\n",
       "      <td>-0.128</td>\n",
       "      <td>0.431</td>\n",
       "      <td>0.0</td>\n",
       "      <td>0.0</td>\n",
       "      <td>0.0</td>\n",
       "      <td>0.0</td>\n",
       "      <td>0.0</td>\n",
       "      <td>-2.003</td>\n",
       "      <td>0.0</td>\n",
       "      <td>...</td>\n",
       "      <td>NaN</td>\n",
       "      <td>2.866562e+10</td>\n",
       "      <td>2.243494</td>\n",
       "      <td>23.129496</td>\n",
       "      <td>20.830128</td>\n",
       "      <td>0.079755</td>\n",
       "      <td>0.355564</td>\n",
       "      <td>20040102</td>\n",
       "      <td>0.0</td>\n",
       "      <td>20040102</td>\n",
       "    </tr>\n",
       "    <tr>\n",
       "      <th>4</th>\n",
       "      <td>USA00E2</td>\n",
       "      <td>0.374</td>\n",
       "      <td>0.000</td>\n",
       "      <td>0.0</td>\n",
       "      <td>0.0</td>\n",
       "      <td>0.0</td>\n",
       "      <td>0.0</td>\n",
       "      <td>0.0</td>\n",
       "      <td>-1.967</td>\n",
       "      <td>0.0</td>\n",
       "      <td>...</td>\n",
       "      <td>NaN</td>\n",
       "      <td>5.720420e+10</td>\n",
       "      <td>2.167256</td>\n",
       "      <td>25.391653</td>\n",
       "      <td>21.458171</td>\n",
       "      <td>0.096238</td>\n",
       "      <td>0.412602</td>\n",
       "      <td>20040102</td>\n",
       "      <td>0.0</td>\n",
       "      <td>20040102</td>\n",
       "    </tr>\n",
       "  </tbody>\n",
       "</table>\n",
       "<p>5 rows × 94 columns</p>\n",
       "</div>"
      ],
      "text/plain": [
       "    Barrid  USFASTD_1DREVRSL  USFASTD_AERODEF  USFASTD_AIRLINES  \\\n",
       "0  USA0001            -0.032            0.000               0.0   \n",
       "1  USA0011            -0.059            0.000               0.0   \n",
       "2  USA0031             0.457            0.000               0.0   \n",
       "3  USA0062            -0.128            0.431               0.0   \n",
       "4  USA00E2             0.374            0.000               0.0   \n",
       "\n",
       "   USFASTD_ALUMSTEL  USFASTD_APPAREL  USFASTD_AUTO  USFASTD_BANKS  \\\n",
       "0               0.0              0.0           0.0            0.0   \n",
       "1               0.0              0.0           0.0            0.0   \n",
       "2               0.0              0.0           0.0            0.0   \n",
       "3               0.0              0.0           0.0            0.0   \n",
       "4               0.0              0.0           0.0            0.0   \n",
       "\n",
       "   USFASTD_BETA  USFASTD_BEVTOB  ...  ADTCA_30  IssuerMarketCap     Yield  \\\n",
       "0        -2.177             0.0  ...       NaN     5.392988e+10  0.188679   \n",
       "1        -2.176             0.0  ...       NaN     5.874999e+09  0.000000   \n",
       "2        -2.061             0.0  ...       NaN     7.304963e+10  2.103004   \n",
       "3        -2.003             0.0  ...       NaN     2.866562e+10  2.243494   \n",
       "4        -1.967             0.0  ...       NaN     5.720420e+10  2.167256   \n",
       "\n",
       "   TotalRisk   SpecRisk  HistBeta  PredBeta  DataDate  DlyReturn  \\\n",
       "0  13.959397   9.014505 -0.000189  0.156387  20040102        0.0   \n",
       "1  17.033359  11.726327  0.000013  0.147900  20040102        0.0   \n",
       "2  21.738218  18.047415  0.053033  0.216422  20040102        0.0   \n",
       "3  23.129496  20.830128  0.079755  0.355564  20040102        0.0   \n",
       "4  25.391653  21.458171  0.096238  0.412602  20040102        0.0   \n",
       "\n",
       "   DlyReturnDate  \n",
       "0       20040102  \n",
       "1       20040102  \n",
       "2       20040102  \n",
       "3       20040102  \n",
       "4       20040102  \n",
       "\n",
       "[5 rows x 94 columns]"
      ]
     },
     "execution_count": 5,
     "metadata": {},
     "output_type": "execute_result"
    }
   ],
   "source": [
    "# Optional\n",
    "for DlyReturnDate, df in frames.items():\n",
    "    n_rows = df.shape[0]\n",
    "    df['DlyReturnDate'] = pd.Series([DlyReturnDate] * n_rows) \n",
    "frames['20040102'].head()"
   ]
  },
  {
   "cell_type": "markdown",
   "metadata": {},
   "source": [
    "## Winsorize\n",
    "\n",
    "As we have done in other projects, we'll want to avoid extremely positive or negative values in our data. Will therefore create a function, `wins`, that will clip our values to a minimum and maximum range. This process is called **Winsorizing**. Remember that this helps us handle noise, which may otherwise cause unusually large positions."
   ]
  },
  {
   "cell_type": "code",
   "execution_count": 6,
   "metadata": {},
   "outputs": [],
   "source": [
    "def wins(x,a,b):\n",
    "    return np.where(x <= a,a, np.where(x >= b, b, x))"
   ]
  },
  {
   "cell_type": "markdown",
   "metadata": {},
   "source": [
    "## Density Plot\n",
    "\n",
    "Let's check our `wins` function by taking a look at the distribution of returns for a single day `20040102`. We will clip our data from `-0.1` to `0.1` and plot it using our `density_plot` function."
   ]
  },
  {
   "cell_type": "code",
   "execution_count": 7,
   "metadata": {},
   "outputs": [
    {
     "data": {
      "image/png": "[encoded data removed]",
      "text/plain": [
       "<matplotlib.figure.Figure at 0x7f9c86b46780>"
      ]
     },
     "metadata": {
      "needs_background": "light"
     },
     "output_type": "display_data"
    }
   ],
   "source": [
    "def density_plot(data): \n",
    "    density = gaussian_kde(data)\n",
    "    xs = np.linspace(np.min(data),np.max(data),200)\n",
    "    density.covariance_factor = lambda : .25\n",
    "    density._compute_covariance()\n",
    "    plt.plot(xs,density(xs))\n",
    "    plt.xlabel('Daily Returns')\n",
    "    plt.ylabel('Density')\n",
    "    plt.show()\n",
    "    \n",
    "test = frames['20040108']\n",
    "test['DlyReturn'] = wins(test['DlyReturn'],-0.1,0.1)\n",
    "density_plot(test['DlyReturn'])"
   ]
  },
  {
   "cell_type": "markdown",
   "metadata": {},
   "source": [
    "## Factor Exposures and Factor Returns\n",
    "\n",
    "Recall that:\n",
    "\n",
    "$r_{i,t} = \\sum_{j=1}^{k} (\\beta_{i,j,t-2} \\times f_{j,t})$  \n",
    "where $i=1...N$ (N assets),   \n",
    "and $j=1...k$ (k factors).\n",
    "\n",
    "where $r_{i,t}$ is the return, $\\beta_{i,j,t-2}$ is the factor exposure, and $f_{j,t}$ is the factor return. Since we get the factor exposures from the Barra data, and we know the returns, it is possible to estimate the factor returns. In this notebook, we will use the Ordinary Least Squares (OLS) method to estimate the factor exposures, $f_{j,t}$, by using $\\beta_{i,j,t-2}$ as the independent variable, and $r_{i,t}$ as the dependent variable."
   ]
  },
  {
   "cell_type": "code",
   "execution_count": 8,
   "metadata": {},
   "outputs": [],
   "source": [
    "def get_formula(factors, Y):\n",
    "    L = [\"0\"]\n",
    "    L.extend(factors)\n",
    "    return Y + \" ~ \" + \" + \".join(L)\n",
    "\n",
    "def factors_from_names(n):\n",
    "    return list(filter(lambda x: \"USFASTD_\" in x, n))\n",
    "\n",
    "def estimate_factor_returns(df): \n",
    "    ## build universe based on filters \n",
    "    estu = df.loc[df.IssuerMarketCap > 1e9].copy(deep=True)\n",
    "  \n",
    "    ## winsorize returns for fitting \n",
    "    estu['DlyReturn'] = wins(estu['DlyReturn'], -0.25, 0.25)\n",
    "  \n",
    "    all_factors = factors_from_names(list(df))\n",
    "    form = get_formula(all_factors, \"DlyReturn\")\n",
    "    model = ols(form, data=estu)\n",
    "    results = model.fit()\n",
    "    return results"
   ]
  },
  {
   "cell_type": "code",
   "execution_count": 9,
   "metadata": {},
   "outputs": [],
   "source": [
    "facret = {}\n",
    "\n",
    "for date in frames:\n",
    "    facret[date] = estimate_factor_returns(frames[date]).params"
   ]
  },
  {
   "cell_type": "code",
   "execution_count": 10,
   "metadata": {},
   "outputs": [],
   "source": [
    "my_dates = sorted(list(map(lambda date: pd.to_datetime(date, format='%Y%m%d'), frames.keys())))"
   ]
  },
  {
   "cell_type": "markdown",
   "metadata": {},
   "source": [
    "## Choose Alpha Factors\n",
    "\n",
    "We will now choose our alpha factors. Barra's factors include some alpha factors that we have seen before, such as:\n",
    "\n",
    "* **USFASTD_1DREVRSL** : Reversal\n",
    "\n",
    "* **USFASTD_EARNYILD** : Earnings Yield\n",
    "\n",
    "* **USFASTD_VALUE** : Value\n",
    "\n",
    "* **USFASTD_SENTMT** : Sentiment\n",
    "\n",
    "We will choose these alpha factors for now, but you are encouraged to come back to this later and try other factors as well."
   ]
  },
  {
   "cell_type": "code",
   "execution_count": 11,
   "metadata": {},
   "outputs": [
    {
     "name": "stdout",
     "output_type": "stream",
     "text": [
      "<bound method NDFrame.head of             USFASTD_1DREVRSL  USFASTD_EARNYILD  USFASTD_VALUE  USFASTD_SENTMT\n",
      "2004-01-02          0.002149          0.000642      -0.000988        0.000851\n",
      "2004-01-05          0.000360         -0.000856      -0.000118        0.001045\n",
      "2004-01-06          0.000497         -0.002114       0.000843        0.002620\n",
      "2004-01-07          0.000093          0.001255       0.000170        0.000545\n",
      "2004-01-08         -0.000032          0.000985       0.000509        0.001214\n",
      "2004-01-09          0.001245          0.000975       0.000434       -0.000440\n",
      "2004-01-12          0.000710         -0.000701       0.000205        0.001019\n",
      "2004-01-13         -0.001168         -0.000389      -0.000389        0.001241\n",
      "2004-01-14          0.000225         -0.000047       0.000129        0.001538\n",
      "2004-01-15          0.001676          0.000367       0.001705       -0.001227\n",
      "2004-01-16          0.001823         -0.000156       0.000017       -0.000511\n",
      "2004-01-20          0.003213          0.000732       0.001035       -0.000364\n",
      "2004-01-21          0.000415          0.000449       0.001328        0.000368\n",
      "2004-01-22          0.001259          0.000562      -0.001348        0.000561\n",
      "2004-01-23          0.001050          0.000146      -0.000527        0.000264\n",
      "2004-01-26          0.000904          0.000144       0.000821        0.001403\n",
      "2004-01-27          0.000733          0.000152       0.000146       -0.000359\n",
      "2004-01-28          0.000363          0.000247      -0.001451        0.001969\n",
      "2004-01-29          0.000709          0.000840       0.000248       -0.000310\n",
      "2004-01-30          0.001270          0.000091       0.000311       -0.000332\n",
      "2004-02-02          0.001504          0.001656       0.000009       -0.000333\n",
      "2004-02-03          0.001340          0.000168      -0.000388        0.001409\n",
      "2004-02-04          0.001833         -0.000651      -0.001095        0.000264\n",
      "2004-02-05         -0.000328          0.001136      -0.000840       -0.000897\n",
      "2004-02-06          0.000869         -0.000843       0.000517        0.000101\n",
      "2004-02-09         -0.000149          0.001385       0.000301       -0.000768\n",
      "2004-02-10          0.001501          0.000266       0.000164       -0.000907\n",
      "2004-02-11          0.000412          0.001010       0.000444       -0.000418\n",
      "2004-02-12          0.000257         -0.003205       0.000230       -0.000535\n",
      "2004-02-13         -0.000811         -0.000111       0.000259        0.001029\n",
      "...                      ...               ...            ...             ...\n",
      "2004-11-18          0.000374          0.000613       0.000362       -0.000198\n",
      "2004-11-19         -0.000131         -0.000605       0.000550       -0.000033\n",
      "2004-11-22          0.000381         -0.000025       0.000303        0.000058\n",
      "2004-11-23          0.000471          0.000928      -0.000312        0.000268\n",
      "2004-11-24          0.000017         -0.000610       0.001281       -0.000714\n",
      "2004-11-26         -0.000069          0.000857      -0.000084       -0.000477\n",
      "2004-11-29          0.000078          0.000665      -0.000895       -0.000184\n",
      "2004-11-30          0.000858         -0.001092       0.000943       -0.000789\n",
      "2004-12-01          0.000356          0.001144      -0.000562        0.000997\n",
      "2004-12-02          0.000465         -0.000669       0.000831       -0.000309\n",
      "2004-12-03          0.001099          0.000969      -0.000138       -0.000342\n",
      "2004-12-06          0.000898         -0.000922      -0.000465       -0.000713\n",
      "2004-12-07          0.001289         -0.001480      -0.000407        0.000610\n",
      "2004-12-08          0.000322          0.000185      -0.000732        0.001160\n",
      "2004-12-09          0.001154          0.001010       0.000142        0.000697\n",
      "2004-12-10          0.000333         -0.000355       0.000063        0.000641\n",
      "2004-12-13          0.000707          0.000260       0.001733        0.000108\n",
      "2004-12-14         -0.000206          0.000706      -0.000220       -0.000100\n",
      "2004-12-15          0.000280         -0.000400      -0.000249       -0.000029\n",
      "2004-12-16          0.000491          0.000121       0.000472       -0.000462\n",
      "2004-12-17          0.000842         -0.000342      -0.000437       -0.000628\n",
      "2004-12-20          0.001246          0.000165      -0.000128       -0.000099\n",
      "2004-12-21          0.000093         -0.000388       0.000583        0.000289\n",
      "2004-12-22         -0.000414         -0.001121       0.001088       -0.000329\n",
      "2004-12-23          0.000813          0.000469      -0.001113       -0.000596\n",
      "2004-12-27          0.000717          0.000715      -0.000209       -0.000239\n",
      "2004-12-28          0.000611          0.000333       0.001045       -0.000119\n",
      "2004-12-29          0.000527          0.000373       0.000453       -0.000240\n",
      "2004-12-30          0.000616          0.000099      -0.000151       -0.000260\n",
      "2004-12-31          0.000508          0.000260      -0.000204        0.000785\n",
      "\n",
      "[252 rows x 4 columns]>\n"
     ]
    },
    {
     "name": "stderr",
     "output_type": "stream",
     "text": [
      "/opt/conda/lib/python3.6/site-packages/pandas/plotting/_converter.py:129: FutureWarning: Using an implicitly registered datetime converter for a matplotlib plotting method. The converter was registered by pandas on import. Future versions of pandas will require you to explicitly register matplotlib converters.\n",
      "\n",
      "To register the converters:\n",
      "\t>>> from pandas.plotting import register_matplotlib_converters\n",
      "\t>>> register_matplotlib_converters()\n",
      "  warnings.warn(msg, FutureWarning)\n"
     ]
    },
    {
     "data": {
      "image/png": "[encoded data removed]",
      "text/plain": [
       "<matplotlib.figure.Figure at 0x7f9c862f11d0>"
      ]
     },
     "metadata": {
      "needs_background": "light"
     },
     "output_type": "display_data"
    }
   ],
   "source": [
    "alpha_factors = [\"USFASTD_1DREVRSL\", \"USFASTD_EARNYILD\", \"USFASTD_VALUE\", \"USFASTD_SENTMT\"]\n",
    "\n",
    "facret_df = pd.DataFrame(index = my_dates)\n",
    "\n",
    "for dt in my_dates: \n",
    "    for alp in alpha_factors: \n",
    "        facret_df.at[dt, alp] = facret[dt.strftime('%Y%m%d')][alp]\n",
    "print(facret_df.head)\n",
    "for column in facret_df.columns:\n",
    "        plt.plot(facret_df[column].cumsum(), label=column)\n",
    "plt.legend(loc='upper left')\n",
    "plt.xlabel('Date')\n",
    "plt.ylabel('Cumulative Factor Returns')\n",
    "plt.show()"
   ]
  },
  {
   "cell_type": "markdown",
   "metadata": {},
   "source": [
    "## Merge Previous Portfolio Holdings \n",
    "\n",
    "In order to optimize our portfolio we will use the previous day's holdings to estimate the trade size and transaction costs. In order to keep track of the holdings from the previous day we will include a column to hold the portfolio holdings of the previous day. These holdings of all our assets will be initialized to zero when the backtest first starts."
   ]
  },
  {
   "cell_type": "code",
   "execution_count": 12,
   "metadata": {},
   "outputs": [],
   "source": [
    "def clean_nas(df): \n",
    "    numeric_columns = df.select_dtypes(include=[np.number]).columns.tolist()\n",
    "    \n",
    "    for numeric_column in numeric_columns: \n",
    "        df[numeric_column] = np.nan_to_num(df[numeric_column])\n",
    "    \n",
    "    return df"
   ]
  },
  {
   "cell_type": "code",
   "execution_count": 13,
   "metadata": {},
   "outputs": [
    {
     "data": {
      "text/html": [
       "<div>\n",
       "<style scoped>\n",
       "    .dataframe tbody tr th:only-of-type {\n",
       "        vertical-align: middle;\n",
       "    }\n",
       "\n",
       "    .dataframe tbody tr th {\n",
       "        vertical-align: top;\n",
       "    }\n",
       "\n",
       "    .dataframe thead th {\n",
       "        text-align: right;\n",
       "    }\n",
       "</style>\n",
       "<table border=\"1\" class=\"dataframe\">\n",
       "  <thead>\n",
       "    <tr style=\"text-align: right;\">\n",
       "      <th></th>\n",
       "      <th>Barrid</th>\n",
       "      <th>IssuerMarketCap</th>\n",
       "    </tr>\n",
       "  </thead>\n",
       "  <tbody>\n",
       "    <tr>\n",
       "      <th>29</th>\n",
       "      <td>USA02P1</td>\n",
       "      <td>3.853761e+11</td>\n",
       "    </tr>\n",
       "    <tr>\n",
       "      <th>4816</th>\n",
       "      <td>USAFVO1</td>\n",
       "      <td>3.853761e+11</td>\n",
       "    </tr>\n",
       "    <tr>\n",
       "      <th>62</th>\n",
       "      <td>USA06Y1</td>\n",
       "      <td>3.334723e+11</td>\n",
       "    </tr>\n",
       "    <tr>\n",
       "      <th>4604</th>\n",
       "      <td>USAEVS1</td>\n",
       "      <td>3.334723e+11</td>\n",
       "    </tr>\n",
       "    <tr>\n",
       "      <th>43</th>\n",
       "      <td>USA0421</td>\n",
       "      <td>2.906221e+11</td>\n",
       "    </tr>\n",
       "  </tbody>\n",
       "</table>\n",
       "</div>"
      ],
      "text/plain": [
       "       Barrid  IssuerMarketCap\n",
       "29    USA02P1     3.853761e+11\n",
       "4816  USAFVO1     3.853761e+11\n",
       "62    USA06Y1     3.334723e+11\n",
       "4604  USAEVS1     3.334723e+11\n",
       "43    USA0421     2.906221e+11"
      ]
     },
     "execution_count": 13,
     "metadata": {},
     "output_type": "execute_result"
    }
   ],
   "source": [
    "df.sort_values('IssuerMarketCap',ascending=False)[['Barrid','IssuerMarketCap']].head()"
   ]
  },
  {
   "cell_type": "code",
   "execution_count": 14,
   "metadata": {},
   "outputs": [
    {
     "data": {
      "text/plain": [
       "<bound method NDFrame.head of         Barrid  USFASTD_1DREVRSL  USFASTD_AERODEF  USFASTD_AIRLINES  \\\n",
       "0      USA0001            -0.032            0.000               0.0   \n",
       "1      USA0011            -0.059            0.000               0.0   \n",
       "2      USA0031             0.457            0.000               0.0   \n",
       "3      USA0062            -0.128            0.431               0.0   \n",
       "4      USA00E2             0.374            0.000               0.0   \n",
       "5      USA00F1            -0.254            0.000               0.0   \n",
       "6      USA00G2            -0.317            0.000               0.0   \n",
       "7      USA00H1             0.157            0.000               0.0   \n",
       "8      USA00I1            -0.550            0.000               0.0   \n",
       "9      USA00J1            -0.169            0.000               0.0   \n",
       "10     USA00K1            -1.019            0.000               0.0   \n",
       "11     USA00P1             0.334            0.000               0.0   \n",
       "12     USA00R1             0.490            0.000               0.0   \n",
       "13     USA00S1            -0.169            0.000               0.0   \n",
       "14     USA00V1            -0.642            0.000               0.0   \n",
       "15     USA0131            -0.609            1.000               0.0   \n",
       "16     USA0161            -0.098            1.000               0.0   \n",
       "17     USA01I1            -0.230            0.000               0.0   \n",
       "18     USA01J2            -0.175            0.000               0.0   \n",
       "19     USA01L1            -0.116            0.000               0.0   \n",
       "20     USA01P1             0.701            0.000               0.0   \n",
       "21     USA01Q1            -0.249            0.000               0.0   \n",
       "22     USA0202             0.735            0.000               0.0   \n",
       "23     USA0231            -0.007            0.000               0.0   \n",
       "24     USA0281            -0.133            0.000               0.0   \n",
       "25     USA0291             0.639            0.000               0.0   \n",
       "26     USA02A1            -0.339            0.000               0.0   \n",
       "27     USA02B1            -2.745            0.000               0.0   \n",
       "28     USA02H1            -0.560            0.000               0.0   \n",
       "29     USA02P1             0.166            0.000               0.0   \n",
       "...        ...               ...              ...               ...   \n",
       "12405  USAZY41             0.715            0.000               0.0   \n",
       "12406  USAZY51             2.418            0.000               0.0   \n",
       "12407  USAZY61             1.618            0.000               0.0   \n",
       "12408  USAZY71             2.622            0.000               0.0   \n",
       "12409  USAZYI1             2.826            0.000               0.0   \n",
       "12410  USAZYJ1            -1.637            0.000               0.0   \n",
       "12411  USAZYK1             2.077            0.000               0.0   \n",
       "12412  USAZYM1             2.826            0.000               0.0   \n",
       "12413  USAZYR1            -1.874            0.000               0.0   \n",
       "12414  USAZYS1             2.646            0.000               0.0   \n",
       "12415  USAZYT1            -1.704            0.000               0.0   \n",
       "12416  USAZYV1            -1.045            0.000               0.0   \n",
       "12417  USAZYX1             1.151            0.000               0.0   \n",
       "12418  USAZZ41             2.826            0.000               0.0   \n",
       "12419  USAZZ51             2.354            0.000               0.0   \n",
       "12420  USAZZ61             2.481            0.000               0.0   \n",
       "12421  USAZZ71             1.582            0.000               0.0   \n",
       "12422  USAZZ81            -0.164            0.000               0.0   \n",
       "12423  USAZZ91             2.826            0.000               0.0   \n",
       "12424  USAZZA1             2.399            0.000               0.0   \n",
       "12425  USAZZB1             2.301            0.000               0.0   \n",
       "12426  USAZZD1            -0.993            0.000               0.0   \n",
       "12427  USAZZF1             2.465            0.000               0.0   \n",
       "12428  USAZZI1             2.354            0.000               0.0   \n",
       "12429  USAZZJ1             2.826            0.000               0.0   \n",
       "12430  USAZZL1             1.895            0.000               0.0   \n",
       "12431  USAZZP1             2.410            0.000               0.0   \n",
       "12432  USAZZR1             2.120            0.000               0.0   \n",
       "12433  USAZZX1            -1.522            0.000               0.0   \n",
       "12434  USAZZY1            -2.405            0.000               0.0   \n",
       "\n",
       "       USFASTD_ALUMSTEL  USFASTD_APPAREL  USFASTD_AUTO  USFASTD_BANKS  \\\n",
       "0                   0.0              0.0           0.0            0.0   \n",
       "1                   0.0              0.0           0.0            0.0   \n",
       "2                   0.0              0.0           0.0            0.0   \n",
       "3                   0.0              0.0           0.0            0.0   \n",
       "4                   0.0              0.0           0.0            0.0   \n",
       "5                   0.0              0.0           0.0            0.0   \n",
       "6                   0.0              0.0           0.0            0.0   \n",
       "7                   0.0              0.0           0.0            0.0   \n",
       "8                   0.0              0.0           0.0            0.0   \n",
       "9                   0.0              0.0           0.0            0.0   \n",
       "10                  0.0              0.0           0.0            0.0   \n",
       "11                  0.0              0.0           0.0            0.0   \n",
       "12                  0.0              0.0           0.0            0.0   \n",
       "13                  0.0              0.0           0.0            0.0   \n",
       "14                  0.0              0.0           0.0            0.0   \n",
       "15                  0.0              0.0           0.0            0.0   \n",
       "16                  0.0              0.0           0.0            0.0   \n",
       "17                  0.0              0.0           0.0            0.0   \n",
       "18                  0.0              0.0           0.0            0.0   \n",
       "19                  0.0              0.0           0.0            0.0   \n",
       "20                  0.0              0.0           0.0            0.0   \n",
       "21                  0.0              0.0           0.0            0.0   \n",
       "22                  0.0              0.0           0.0            0.0   \n",
       "23                  0.0              0.0           0.0            0.0   \n",
       "24                  0.0              0.0           0.0            0.0   \n",
       "25                  0.0              0.0           0.0            0.0   \n",
       "26                  0.0              0.0           0.0            0.0   \n",
       "27                  0.0              0.0           0.0            0.0   \n",
       "28                  0.0              0.0           0.0            1.0   \n",
       "29                  0.0              0.0           0.0            0.0   \n",
       "...                 ...              ...           ...            ...   \n",
       "12405               0.0              0.0           0.0            0.0   \n",
       "12406               0.0              0.0           0.0            0.0   \n",
       "12407               0.0              0.0           0.0            0.0   \n",
       "12408               0.0              0.0           0.0            0.0   \n",
       "12409               0.0              0.0           0.0            0.0   \n",
       "12410               0.0              0.0           0.0            0.0   \n",
       "12411               0.0              0.0           0.0            0.0   \n",
       "12412               0.0              0.0           0.0            0.0   \n",
       "12413               0.0              0.0           0.0            0.0   \n",
       "12414               0.0              0.0           0.0            0.0   \n",
       "12415               0.0              0.0           0.0            0.0   \n",
       "12416               0.0              0.0           0.0            0.0   \n",
       "12417               0.0              0.0           0.0            0.0   \n",
       "12418               0.0              0.0           0.0            0.0   \n",
       "12419               0.0              0.0           0.0            0.0   \n",
       "12420               0.0              0.0           0.0            0.0   \n",
       "12421               0.0              0.0           0.0            0.0   \n",
       "12422               0.0              0.0           0.0            0.0   \n",
       "12423               0.0              0.0           0.0            0.0   \n",
       "12424               0.0              0.0           0.0            0.0   \n",
       "12425               0.0              0.0           0.0            0.0   \n",
       "12426               0.0              0.0           0.0            0.0   \n",
       "12427               0.0              0.0           0.0            0.0   \n",
       "12428               0.0              0.0           0.0            0.0   \n",
       "12429               0.0              0.0           0.0            0.0   \n",
       "12430               0.0              0.0           0.0            0.0   \n",
       "12431               0.0              0.0           0.0            0.0   \n",
       "12432               0.0              0.0           0.0            0.0   \n",
       "12433               0.0              0.0           0.0            0.0   \n",
       "12434               0.0              0.0           0.0            0.0   \n",
       "\n",
       "       USFASTD_BETA  USFASTD_BEVTOB  ...  IssuerMarketCap     Yield  \\\n",
       "0            -2.177           0.000  ...     5.392988e+10  0.188679   \n",
       "1            -2.176           0.000  ...     5.874999e+09  0.000000   \n",
       "2            -2.061           0.000  ...     7.304963e+10  2.103004   \n",
       "3            -2.003           0.000  ...     2.866562e+10  2.243494   \n",
       "4            -1.967           0.000  ...     5.720420e+10  2.167256   \n",
       "5            -2.025           0.000  ...     1.742470e+11  0.392275   \n",
       "6            -2.214           0.000  ...     1.644681e+10  4.679803   \n",
       "7            -1.882           0.000  ...     8.054473e+10  0.000000   \n",
       "8            -2.190           0.000  ...     1.681907e+10  0.087623   \n",
       "9            -2.198           0.863  ...     4.335559e+10  1.670463   \n",
       "10           -2.334           0.000  ...     3.677209e+10  0.000000   \n",
       "11           -1.098           0.000  ...     2.377153e+10  1.413784   \n",
       "12           -1.615           0.000  ...     6.177471e+09  2.641914   \n",
       "13           -1.141           0.000  ...     1.576241e+10  1.244629   \n",
       "14           -2.176           0.000  ...     1.041914e+10  1.458435   \n",
       "15           -2.440           0.000  ...     3.359884e+10  1.613669   \n",
       "16           -1.183           0.000  ...     3.359884e+10  1.613669   \n",
       "17           -1.943           0.000  ...     2.664403e+10  0.196207   \n",
       "18           -2.045           0.000  ...     2.851823e+10  1.782703   \n",
       "19           -1.981           0.000  ...     9.179657e+10  3.380021   \n",
       "20           -1.777           0.000  ...     1.691907e+11  0.000000   \n",
       "21           -2.634           1.000  ...     1.237492e+11  1.733990   \n",
       "22           -0.176           0.000  ...     1.328618e+10  0.000000   \n",
       "23           -1.905           0.000  ...     8.798649e+10  0.000000   \n",
       "24           -2.160           0.000  ...     4.534344e+10  3.050774   \n",
       "25           -1.147           0.000  ...     3.184106e+10  0.000000   \n",
       "26           -2.140           0.000  ...     7.248961e+09  1.947799   \n",
       "27           -1.188           0.000  ...     7.248961e+09  1.947799   \n",
       "28           -1.387           0.000  ...     7.215026e+10  2.398082   \n",
       "29           -2.085           0.000  ...     3.117866e+11  2.582311   \n",
       "...             ...             ...  ...              ...       ...   \n",
       "12405        -2.176           0.000  ...     5.056250e+06  0.000000   \n",
       "12406        -1.569           0.000  ...     6.638950e+06  0.000000   \n",
       "12407        -0.586           0.000  ...     3.012930e+06  0.000000   \n",
       "12408        -0.366           0.000  ...     2.452000e+05  0.000000   \n",
       "12409        -0.563           0.000  ...     4.740600e+06  0.000000   \n",
       "12410        -0.431           0.000  ...     2.525880e+07  0.000000   \n",
       "12411         0.029           0.000  ...     6.832300e+04  0.000000   \n",
       "12412         0.188           0.000  ...     2.270100e+06  0.000000   \n",
       "12413        -0.975           0.000  ...     1.003100e+07  0.000000   \n",
       "12414         0.190           0.000  ...     5.030700e+01  0.000000   \n",
       "12415        -0.867           0.000  ...     2.763600e+07  0.000000   \n",
       "12416        -0.674           0.000  ...     3.100469e+06  0.000000   \n",
       "12417        -1.376           0.000  ...     4.236672e+07  0.000000   \n",
       "12418        -1.466           0.000  ...     6.264510e+06  0.000000   \n",
       "12419        -0.368           0.000  ...     7.414000e+04  0.000000   \n",
       "12420        -0.798           0.000  ...     2.224400e+06  0.000000   \n",
       "12421        -0.741           0.000  ...     2.684070e+07  0.000000   \n",
       "12422        -1.538           1.000  ...     2.911190e+10  4.714286   \n",
       "12423         0.114           0.000  ...     1.352860e+06  0.000000   \n",
       "12424        -0.517           0.000  ...     7.609700e+05  0.000000   \n",
       "12425        -1.584           0.000  ...     1.251480e+06  0.000000   \n",
       "12426         0.228           0.000  ...     4.318500e+05  0.000000   \n",
       "12427        -0.452           0.000  ...     1.848960e+06  0.000000   \n",
       "12428        -0.518           1.000  ...     1.055250e+06  0.000000   \n",
       "12429        -1.981           0.000  ...     7.826553e+06  0.000000   \n",
       "12430        -0.318           0.000  ...     3.430560e+07  0.000000   \n",
       "12431        -1.100           1.000  ...     2.614480e+06  0.000000   \n",
       "12432        -1.167           0.000  ...     8.280000e+04  0.000000   \n",
       "12433         0.247           0.000  ...     2.031860e+06  0.000000   \n",
       "12434        -0.411           0.000  ...     8.306788e+08  0.620877   \n",
       "\n",
       "        TotalRisk    SpecRisk  HistBeta  PredBeta  DataDate  DlyReturn  \\\n",
       "0       13.959397    9.014505 -0.000189  0.156387  20040102   0.000000   \n",
       "1       17.033359   11.726327  0.000013  0.147900  20040102   0.000000   \n",
       "2       21.738218   18.047415  0.053033  0.216422  20040102   0.000000   \n",
       "3       23.129496   20.830128  0.079755  0.355564  20040102   0.000000   \n",
       "4       25.391653   21.458171  0.096238  0.412602  20040102   0.000000   \n",
       "5       15.695637   11.912117  0.069464  0.346033  20040102   0.000000   \n",
       "6       21.654431   14.431033 -0.017417  0.026702  20040102   0.000000   \n",
       "7       22.765658   18.313856  0.135674  0.267576  20040102   0.000000   \n",
       "8       20.410134   14.133102 -0.006358  0.278503  20040102   0.000000   \n",
       "9       21.686440   19.249760 -0.010228  0.194933  20040102   0.000000   \n",
       "10      33.867332   26.375334 -0.072812  0.475343  20040102   0.000000   \n",
       "11      21.424437   16.195982  0.496970  0.853930  20040102   0.000000   \n",
       "12      18.112924   12.495233  0.258616  0.673043  20040102   0.000000   \n",
       "13      21.922494   19.035684  0.477142  0.558508  20040102   0.000259   \n",
       "14      12.385339    8.420332  0.000013  0.083475  20040102   0.000000   \n",
       "15      24.839671   21.502548 -0.121604  0.145560  20040102   0.000000   \n",
       "16      28.025448   23.914479  0.457450  0.713817  20040102  -0.026300   \n",
       "17      15.087449   12.143365  0.107272  0.220367  20040102   0.000000   \n",
       "18      23.016956   20.028493  0.060553  0.355385  20040102   0.000000   \n",
       "19      23.209763   19.935156  0.089837  0.278654  20040102   0.000000   \n",
       "20      27.138099   23.901111  0.183841  0.410674  20040102   0.000000   \n",
       "21      22.222874   19.652249 -0.210865  0.042602  20040102   0.000000   \n",
       "22      29.844475   23.970616  0.921471  1.005869  20040102   0.000000   \n",
       "23      24.742676   21.356169  0.125102  0.519813  20040102   0.000000   \n",
       "24      18.248930   14.319948  0.007271  0.359541  20040102   0.000000   \n",
       "25      24.017693   19.557779  0.474128  0.720445  20040102   0.000000   \n",
       "26      11.185751    7.613359  0.016464  0.268383  20040102   0.000000   \n",
       "27      32.801110   28.797618  0.455392  0.823334  20040102  -0.008790   \n",
       "28      21.698318   18.244674  0.363409  0.574217  20040102   0.000000   \n",
       "29      22.480566   19.563198  0.042230  0.340393  20040102   0.000000   \n",
       "...           ...         ...       ...       ...       ...        ...   \n",
       "12405   19.208371   12.488067  0.000013  0.050859  20040102   0.000000   \n",
       "12406   74.640585   72.370109  0.279903  0.579444  20040102   0.000000   \n",
       "12407   67.334667   63.572209  0.732842  1.041313  20040102   0.000000   \n",
       "12408   87.497910   83.717198  0.833859  1.149809  20040102   0.000000   \n",
       "12409   76.863310   73.357836  0.743190  1.041294  20040102   0.166667   \n",
       "12410   73.338050   69.331053  0.803832  1.162438  20040102   0.142857   \n",
       "12411   72.972597   68.149533  1.016101  1.354084  20040102   0.000000   \n",
       "12412   80.656370   76.499271  1.089179  1.282783  20040102   0.000000   \n",
       "12413  112.592276  110.419717  0.553212  0.788145  20040102  -0.035714   \n",
       "12414   43.661249   33.805533  1.089953  1.379310  20040102   0.000000   \n",
       "12415   72.956591   70.049127  0.603339  0.850369  20040102  -0.019608   \n",
       "12416  119.257445  117.005538  0.692038  0.970822  20040102   0.000000   \n",
       "12417   25.602659   21.212255  0.368721  0.289544  20040102   0.000000   \n",
       "12418   71.497468   69.006331  0.327400  0.629735  20040102  -0.100000   \n",
       "12419   38.279688   30.066884  0.832962  1.114710  20040102   0.000000   \n",
       "12420  114.260252  111.809094  0.634920  1.013968  20040102  -0.250000   \n",
       "12421   67.522512   63.419945  0.661152  0.900018  20040102   0.000000   \n",
       "12422   21.679651   18.778080  0.294241  0.401738  20040102   0.004320   \n",
       "12423   45.970832   36.773965  1.054950  1.224731  20040102   0.000000   \n",
       "12424   86.928704   83.337116  0.764430  1.151915  20040102   0.000000   \n",
       "12425   31.424176   24.267277  0.272805  0.689609  20040102   0.000000   \n",
       "12426   86.053340   82.523258  1.107541  1.236199  20040102   0.000000   \n",
       "12427   88.774107   85.172848  0.794524  1.180092  20040102   0.022222   \n",
       "12428   94.608398   91.998727  0.764140  0.982174  20040102   0.022222   \n",
       "12429   62.764089   59.348666  0.090069  0.346851  20040102   0.069643   \n",
       "12430   58.542009   53.503883  0.855973  1.148298  20040102   0.068966   \n",
       "12431   79.293774   76.269788  0.495782  0.872594  20040102   0.000000   \n",
       "12432   40.228029   34.504433  0.464922  0.853555  20040102   0.000000   \n",
       "12433  126.289675  123.366131  1.116599  1.320642  20040102   0.058824   \n",
       "12434   32.573024   22.297109  0.813423  0.911993  20040102   0.010721   \n",
       "\n",
       "       DlyReturnDate  h.opt.previous  \n",
       "0           20040102             0.0  \n",
       "1           20040102             0.0  \n",
       "2           20040102             0.0  \n",
       "3           20040102             0.0  \n",
       "4           20040102             0.0  \n",
       "5           20040102             0.0  \n",
       "6           20040102             0.0  \n",
       "7           20040102             0.0  \n",
       "8           20040102             0.0  \n",
       "9           20040102             0.0  \n",
       "10          20040102             0.0  \n",
       "11          20040102             0.0  \n",
       "12          20040102             0.0  \n",
       "13          20040102             0.0  \n",
       "14          20040102             0.0  \n",
       "15          20040102             0.0  \n",
       "16          20040102             0.0  \n",
       "17          20040102             0.0  \n",
       "18          20040102             0.0  \n",
       "19          20040102             0.0  \n",
       "20          20040102             0.0  \n",
       "21          20040102             0.0  \n",
       "22          20040102             0.0  \n",
       "23          20040102             0.0  \n",
       "24          20040102             0.0  \n",
       "25          20040102             0.0  \n",
       "26          20040102             0.0  \n",
       "27          20040102             0.0  \n",
       "28          20040102             0.0  \n",
       "29          20040102             0.0  \n",
       "...              ...             ...  \n",
       "12405       20040102             0.0  \n",
       "12406       20040102             0.0  \n",
       "12407       20040102             0.0  \n",
       "12408       20040102             0.0  \n",
       "12409       20040102             0.0  \n",
       "12410       20040102             0.0  \n",
       "12411       20040102             0.0  \n",
       "12412       20040102             0.0  \n",
       "12413       20040102             0.0  \n",
       "12414       20040102             0.0  \n",
       "12415       20040102             0.0  \n",
       "12416       20040102             0.0  \n",
       "12417       20040102             0.0  \n",
       "12418       20040102             0.0  \n",
       "12419       20040102             0.0  \n",
       "12420       20040102             0.0  \n",
       "12421       20040102             0.0  \n",
       "12422       20040102             0.0  \n",
       "12423       20040102             0.0  \n",
       "12424       20040102             0.0  \n",
       "12425       20040102             0.0  \n",
       "12426       20040102             0.0  \n",
       "12427       20040102             0.0  \n",
       "12428       20040102             0.0  \n",
       "12429       20040102             0.0  \n",
       "12430       20040102             0.0  \n",
       "12431       20040102             0.0  \n",
       "12432       20040102             0.0  \n",
       "12433       20040102             0.0  \n",
       "12434       20040102             0.0  \n",
       "\n",
       "[12435 rows x 95 columns]>"
      ]
     },
     "execution_count": 14,
     "metadata": {},
     "output_type": "execute_result"
    }
   ],
   "source": [
    "previous_holdings = pd.DataFrame(data = {\"Barrid\" : [\"USA02P1\"], \"h.opt.previous\" : np.array(0)})\n",
    "df = frames[my_dates[0].strftime('%Y%m%d')]\n",
    "\n",
    "df = df.merge(previous_holdings, how = 'left', on = 'Barrid')\n",
    "df = clean_nas(df)\n",
    "df.loc[df['SpecRisk'] == 0]['SpecRisk'] = median(df['SpecRisk'])\n",
    "df.head"
   ]
  },
  {
   "cell_type": "markdown",
   "metadata": {},
   "source": [
    "## Build Universe Based on Filters (TODO)\n",
    "\n",
    "In the cell below, implement the function `get_universe` that creates a stock universe by selecting only those companies that have a market capitalization of at least 1 billion dollars **OR** that are in the previous day's holdings, even if on the current day, the company no longer meets the 1 billion dollar criteria.\n",
    "\n",
    "When creating the universe, make sure you use the `.copy()` attribute to create a copy of the data. Also, it is very important to make sure that we are not looking at returns when forming the portfolio! to make this impossible, make sure to drop the column containing the daily return."
   ]
  },
  {
   "cell_type": "code",
   "execution_count": 15,
   "metadata": {},
   "outputs": [
    {
     "name": "stdout",
     "output_type": "stream",
     "text": [
      "(2265, 94)\n",
      "['Barrid' 'USFASTD_1DREVRSL' 'USFASTD_AERODEF' 'USFASTD_AIRLINES'\n",
      " 'USFASTD_ALUMSTEL' 'USFASTD_APPAREL' 'USFASTD_AUTO' 'USFASTD_BANKS'\n",
      " 'USFASTD_BETA' 'USFASTD_BEVTOB' 'USFASTD_BIOLIFE' 'USFASTD_BLDGPROD'\n",
      " 'USFASTD_CHEM' 'USFASTD_CNSTENG' 'USFASTD_CNSTMACH' 'USFASTD_CNSTMATL'\n",
      " 'USFASTD_COMMEQP' 'USFASTD_COMPELEC' 'USFASTD_COMSVCS' 'USFASTD_CONGLOM'\n",
      " 'USFASTD_CONTAINR' 'USFASTD_DISTRIB' 'USFASTD_DIVFIN' 'USFASTD_DIVYILD'\n",
      " 'USFASTD_DWNRISK' 'USFASTD_EARNQLTY' 'USFASTD_EARNYILD' 'USFASTD_ELECEQP'\n",
      " 'USFASTD_ELECUTIL' 'USFASTD_FOODPROD' 'USFASTD_FOODRET' 'USFASTD_GASUTIL'\n",
      " 'USFASTD_GROWTH' 'USFASTD_HLTHEQP' 'USFASTD_HLTHSVCS' 'USFASTD_HOMEBLDG'\n",
      " 'USFASTD_HOUSEDUR' 'USFASTD_INDMACH' 'USFASTD_INDMOM' 'USFASTD_INSURNCE'\n",
      " 'USFASTD_INTERNET' 'USFASTD_LEISPROD' 'USFASTD_LEISSVCS'\n",
      " 'USFASTD_LEVERAGE' 'USFASTD_LIFEINS' 'USFASTD_LIQUIDTY'\n",
      " 'USFASTD_LTREVRSL' 'USFASTD_MEDIA' 'USFASTD_MGDHLTH' 'USFASTD_MGMTQLTY'\n",
      " 'USFASTD_MIDCAP' 'USFASTD_MOMENTUM' 'USFASTD_MULTUTIL' 'USFASTD_OILGSCON'\n",
      " 'USFASTD_OILGSDRL' 'USFASTD_OILGSEQP' 'USFASTD_OILGSEXP' 'USFASTD_PAPER'\n",
      " 'USFASTD_PHARMA' 'USFASTD_PRECMTLS' 'USFASTD_PROFIT' 'USFASTD_PROSPECT'\n",
      " 'USFASTD_PSNLPROD' 'USFASTD_REALEST' 'USFASTD_RESTAUR' 'USFASTD_RESVOL'\n",
      " 'USFASTD_ROADRAIL' 'USFASTD_SEASON' 'USFASTD_SEMICOND' 'USFASTD_SEMIEQP'\n",
      " 'USFASTD_SENTMT' 'USFASTD_SIZE' 'USFASTD_SOFTWARE' 'USFASTD_SPLTYRET'\n",
      " 'USFASTD_SPTYCHEM' 'USFASTD_SPTYSTOR' 'USFASTD_STREVRSL'\n",
      " 'USFASTD_TELECOM' 'USFASTD_TRADECO' 'USFASTD_TRANSPRT' 'USFASTD_VALUE'\n",
      " 'USFASTD_WIRELESS' 'BidAskSpread' 'DailyVolume' 'ADTCA_30'\n",
      " 'IssuerMarketCap' 'Yield' 'TotalRisk' 'SpecRisk' 'HistBeta' 'PredBeta'\n",
      " 'DataDate' 'DlyReturnDate' 'h.opt.previous']\n"
     ]
    },
    {
     "data": {
      "text/plain": [
       "<bound method NDFrame.head of         Barrid  USFASTD_1DREVRSL  USFASTD_AERODEF  USFASTD_AIRLINES  \\\n",
       "0      USA0001            -0.032            0.000               0.0   \n",
       "1      USA0011            -0.059            0.000               0.0   \n",
       "2      USA0031             0.457            0.000               0.0   \n",
       "3      USA0062            -0.128            0.431               0.0   \n",
       "4      USA00E2             0.374            0.000               0.0   \n",
       "5      USA00F1            -0.254            0.000               0.0   \n",
       "6      USA00G2            -0.317            0.000               0.0   \n",
       "7      USA00H1             0.157            0.000               0.0   \n",
       "8      USA00I1            -0.550            0.000               0.0   \n",
       "9      USA00J1            -0.169            0.000               0.0   \n",
       "10     USA00K1            -1.019            0.000               0.0   \n",
       "11     USA00P1             0.334            0.000               0.0   \n",
       "12     USA00R1             0.490            0.000               0.0   \n",
       "13     USA00S1            -0.169            0.000               0.0   \n",
       "14     USA00V1            -0.642            0.000               0.0   \n",
       "15     USA0131            -0.609            1.000               0.0   \n",
       "16     USA0161            -0.098            1.000               0.0   \n",
       "17     USA01I1            -0.230            0.000               0.0   \n",
       "18     USA01J2            -0.175            0.000               0.0   \n",
       "19     USA01L1            -0.116            0.000               0.0   \n",
       "20     USA01P1             0.701            0.000               0.0   \n",
       "21     USA01Q1            -0.249            0.000               0.0   \n",
       "22     USA0202             0.735            0.000               0.0   \n",
       "23     USA0231            -0.007            0.000               0.0   \n",
       "24     USA0281            -0.133            0.000               0.0   \n",
       "25     USA0291             0.639            0.000               0.0   \n",
       "26     USA02A1            -0.339            0.000               0.0   \n",
       "27     USA02B1            -2.745            0.000               0.0   \n",
       "28     USA02H1            -0.560            0.000               0.0   \n",
       "29     USA02P1             0.166            0.000               0.0   \n",
       "...        ...               ...              ...               ...   \n",
       "12083  USAZGN1            -1.560            0.000               0.0   \n",
       "12106  USAZHT1             0.057            0.000               0.0   \n",
       "12129  USAZJ11            -0.652            0.000               0.0   \n",
       "12138  USAZJH1            -0.325            0.000               0.0   \n",
       "12152  USAZK61             1.205            0.000               0.0   \n",
       "12160  USAZKM1             0.091            0.435               0.0   \n",
       "12167  USAZKZ1             0.829            0.000               0.0   \n",
       "12188  USAZM61            -0.353            0.000               0.0   \n",
       "12198  USAZMU1            -1.267            0.000               0.0   \n",
       "12229  USAZOE1            -0.248            0.000               0.0   \n",
       "12250  USAZPE1            -2.273            0.000               0.0   \n",
       "12251  USAZPF1             0.567            0.000               0.0   \n",
       "12270  USAZQD1            -0.562            0.000               0.0   \n",
       "12276  USAZQK1             0.833            0.000               0.0   \n",
       "12277  USAZQN1             0.111            0.000               0.0   \n",
       "12292  USAZRB1            -0.279            0.000               0.0   \n",
       "12294  USAZRD1            -0.183            0.000               0.0   \n",
       "12296  USAZRG1             0.964            0.000               0.0   \n",
       "12297  USAZRK1            -0.962            0.000               0.0   \n",
       "12300  USAZRU1            -1.014            0.000               0.0   \n",
       "12303  USAZRY1            -0.797            0.000               0.0   \n",
       "12306  USAZS21            -0.123            0.000               0.0   \n",
       "12310  USAZS81             0.404            0.000               0.0   \n",
       "12328  USAZTI1            -1.714            0.000               0.0   \n",
       "12347  USAZUA1             0.585            0.000               0.0   \n",
       "12350  USAZUH1             0.321            0.000               0.0   \n",
       "12358  USAZV51             0.017            0.000               0.0   \n",
       "12380  USAZWU1             0.108            0.000               0.0   \n",
       "12391  USAZXI1             0.594            0.000               0.0   \n",
       "12422  USAZZ81            -0.164            0.000               0.0   \n",
       "\n",
       "       USFASTD_ALUMSTEL  USFASTD_APPAREL  USFASTD_AUTO  USFASTD_BANKS  \\\n",
       "0                   0.0              0.0           0.0          0.000   \n",
       "1                   0.0              0.0           0.0          0.000   \n",
       "2                   0.0              0.0           0.0          0.000   \n",
       "3                   0.0              0.0           0.0          0.000   \n",
       "4                   0.0              0.0           0.0          0.000   \n",
       "5                   0.0              0.0           0.0          0.000   \n",
       "6                   0.0              0.0           0.0          0.000   \n",
       "7                   0.0              0.0           0.0          0.000   \n",
       "8                   0.0              0.0           0.0          0.000   \n",
       "9                   0.0              0.0           0.0          0.000   \n",
       "10                  0.0              0.0           0.0          0.000   \n",
       "11                  0.0              0.0           0.0          0.000   \n",
       "12                  0.0              0.0           0.0          0.000   \n",
       "13                  0.0              0.0           0.0          0.000   \n",
       "14                  0.0              0.0           0.0          0.000   \n",
       "15                  0.0              0.0           0.0          0.000   \n",
       "16                  0.0              0.0           0.0          0.000   \n",
       "17                  0.0              0.0           0.0          0.000   \n",
       "18                  0.0              0.0           0.0          0.000   \n",
       "19                  0.0              0.0           0.0          0.000   \n",
       "20                  0.0              0.0           0.0          0.000   \n",
       "21                  0.0              0.0           0.0          0.000   \n",
       "22                  0.0              0.0           0.0          0.000   \n",
       "23                  0.0              0.0           0.0          0.000   \n",
       "24                  0.0              0.0           0.0          0.000   \n",
       "25                  0.0              0.0           0.0          0.000   \n",
       "26                  0.0              0.0           0.0          0.000   \n",
       "27                  0.0              0.0           0.0          0.000   \n",
       "28                  0.0              0.0           0.0          1.000   \n",
       "29                  0.0              0.0           0.0          0.000   \n",
       "...                 ...              ...           ...            ...   \n",
       "12083               0.0              0.0           0.0          0.966   \n",
       "12106               0.0              0.0           0.0          0.000   \n",
       "12129               0.0              0.0           0.0          0.000   \n",
       "12138               0.0              0.0           0.0          0.000   \n",
       "12152               0.0              0.0           0.0          0.000   \n",
       "12160               0.0              0.0           0.0          0.000   \n",
       "12167               0.0              0.0           0.0          0.000   \n",
       "12188               0.0              0.0           0.0          0.000   \n",
       "12198               0.0              0.0           0.0          0.000   \n",
       "12229               0.0              0.0           0.0          0.000   \n",
       "12250               0.0              0.0           0.0          0.000   \n",
       "12251               0.0              0.0           0.0          0.000   \n",
       "12270               0.0              0.0           0.0          0.000   \n",
       "12276               0.0              0.0           0.0          0.000   \n",
       "12277               0.0              0.0           0.0          0.000   \n",
       "12292               0.0              0.0           0.0          0.000   \n",
       "12294               0.0              0.0           0.0          0.000   \n",
       "12296               0.0              0.0           0.0          0.000   \n",
       "12297               0.0              0.0           0.0          0.000   \n",
       "12300               0.0              0.0           0.0          0.000   \n",
       "12303               0.0              0.0           0.0          0.000   \n",
       "12306               0.0              0.0           0.0          0.000   \n",
       "12310               0.0              0.0           0.0          0.000   \n",
       "12328               0.0              0.0           0.0          0.000   \n",
       "12347               0.0              0.0           0.0          0.000   \n",
       "12350               0.0              0.0           0.0          0.000   \n",
       "12358               0.0              0.0           0.0          0.000   \n",
       "12380               0.0              0.0           0.0          0.000   \n",
       "12391               0.0              0.0           0.0          0.000   \n",
       "12422               0.0              0.0           0.0          0.000   \n",
       "\n",
       "       USFASTD_BETA  USFASTD_BEVTOB  ...     ADTCA_30  IssuerMarketCap  \\\n",
       "0            -2.177           0.000  ...         0.00     5.392988e+10   \n",
       "1            -2.176           0.000  ...         0.00     5.874999e+09   \n",
       "2            -2.061           0.000  ...         0.00     7.304963e+10   \n",
       "3            -2.003           0.000  ...         0.00     2.866562e+10   \n",
       "4            -1.967           0.000  ...         0.00     5.720420e+10   \n",
       "5            -2.025           0.000  ...         0.00     1.742470e+11   \n",
       "6            -2.214           0.000  ...         0.00     1.644681e+10   \n",
       "7            -1.882           0.000  ...         0.00     8.054473e+10   \n",
       "8            -2.190           0.000  ...         0.00     1.681907e+10   \n",
       "9            -2.198           0.863  ...         0.00     4.335559e+10   \n",
       "10           -2.334           0.000  ...         0.00     3.677209e+10   \n",
       "11           -1.098           0.000  ...         0.00     2.377153e+10   \n",
       "12           -1.615           0.000  ...         0.00     6.177471e+09   \n",
       "13           -1.141           0.000  ...         0.00     1.576241e+10   \n",
       "14           -2.176           0.000  ...         0.00     1.041914e+10   \n",
       "15           -2.440           0.000  ...         0.00     3.359884e+10   \n",
       "16           -1.183           0.000  ...         0.00     3.359884e+10   \n",
       "17           -1.943           0.000  ...         0.00     2.664403e+10   \n",
       "18           -2.045           0.000  ...         0.00     2.851823e+10   \n",
       "19           -1.981           0.000  ...         0.00     9.179657e+10   \n",
       "20           -1.777           0.000  ...         0.00     1.691907e+11   \n",
       "21           -2.634           1.000  ...         0.00     1.237492e+11   \n",
       "22           -0.176           0.000  ...         0.00     1.328618e+10   \n",
       "23           -1.905           0.000  ...         0.00     8.798649e+10   \n",
       "24           -2.160           0.000  ...         0.00     4.534344e+10   \n",
       "25           -1.147           0.000  ...         0.00     3.184106e+10   \n",
       "26           -2.140           0.000  ...         0.00     7.248961e+09   \n",
       "27           -1.188           0.000  ...         0.00     7.248961e+09   \n",
       "28           -1.387           0.000  ...         0.00     7.215026e+10   \n",
       "29           -2.085           0.000  ...         0.00     3.117866e+11   \n",
       "...             ...             ...  ...          ...              ...   \n",
       "12083        -0.187           0.000  ...   4882329.73     1.072521e+09   \n",
       "12106         3.010           0.000  ...  25275910.86     3.160606e+09   \n",
       "12129        -1.249           0.000  ...   2739081.55     1.144486e+09   \n",
       "12138        -1.181           0.794  ...   9324872.60     3.861130e+09   \n",
       "12152         0.325           0.000  ...  12773606.90     3.130313e+09   \n",
       "12160        -0.257           0.000  ...  28587732.25     4.925593e+09   \n",
       "12167        -0.875           0.000  ...   6180605.60     1.066323e+09   \n",
       "12188        -1.026           0.000  ...  15472717.70     5.853132e+09   \n",
       "12198        -1.723           0.000  ...    915547.97     1.110543e+09   \n",
       "12229        -0.765           0.000  ...  23718310.15     9.026600e+09   \n",
       "12250         0.942           0.000  ...  48377499.36     2.959957e+09   \n",
       "12251         1.407           0.000  ...  47380987.20     4.838072e+09   \n",
       "12270        -0.187           0.000  ...  25898525.25     5.982290e+09   \n",
       "12276         0.511           0.000  ...  13247634.19     1.424779e+09   \n",
       "12277        -0.358           0.000  ...  20054408.85     3.734103e+09   \n",
       "12292        -0.689           0.000  ...  23699729.40     6.840300e+09   \n",
       "12294        -2.176           0.000  ...    352270.91     1.131629e+10   \n",
       "12296         2.036           0.000  ...   9858768.19     1.099484e+09   \n",
       "12297         1.429           0.000  ...  17461210.85     3.477316e+09   \n",
       "12300        -0.813           0.000  ...  11918928.15     4.184880e+09   \n",
       "12303        -1.076           0.000  ...    955745.45     3.958733e+09   \n",
       "12306        -1.061           0.000  ...   2810949.95     2.347204e+09   \n",
       "12310         1.657           0.000  ...  19490217.56     1.655830e+09   \n",
       "12328        -0.142           0.000  ...     40545.70     2.670143e+09   \n",
       "12347        -1.549           0.000  ...   5456306.05     5.148089e+09   \n",
       "12350        -1.195           0.000  ...   8974611.10     2.174866e+09   \n",
       "12358        -0.286           0.000  ...  54805887.30     1.065549e+10   \n",
       "12380         1.479           0.000  ...  13801649.40     2.519952e+09   \n",
       "12391         0.454           0.000  ...  12215845.45     2.403877e+09   \n",
       "12422        -1.538           1.000  ...   1307457.05     2.911190e+10   \n",
       "\n",
       "          Yield  TotalRisk   SpecRisk  HistBeta  PredBeta  DataDate  \\\n",
       "0      0.188679  13.959397   9.014505 -0.000189  0.156387  20040102   \n",
       "1      0.000000  17.033359  11.726327  0.000013  0.147900  20040102   \n",
       "2      2.103004  21.738218  18.047415  0.053033  0.216422  20040102   \n",
       "3      2.243494  23.129496  20.830128  0.079755  0.355564  20040102   \n",
       "4      2.167256  25.391653  21.458171  0.096238  0.412602  20040102   \n",
       "5      0.392275  15.695637  11.912117  0.069464  0.346033  20040102   \n",
       "6      4.679803  21.654431  14.431033 -0.017417  0.026702  20040102   \n",
       "7      0.000000  22.765658  18.313856  0.135674  0.267576  20040102   \n",
       "8      0.087623  20.410134  14.133102 -0.006358  0.278503  20040102   \n",
       "9      1.670463  21.686440  19.249760 -0.010228  0.194933  20040102   \n",
       "10     0.000000  33.867332  26.375334 -0.072812  0.475343  20040102   \n",
       "11     1.413784  21.424437  16.195982  0.496970  0.853930  20040102   \n",
       "12     2.641914  18.112924  12.495233  0.258616  0.673043  20040102   \n",
       "13     1.244629  21.922494  19.035684  0.477142  0.558508  20040102   \n",
       "14     1.458435  12.385339   8.420332  0.000013  0.083475  20040102   \n",
       "15     1.613669  24.839671  21.502548 -0.121604  0.145560  20040102   \n",
       "16     1.613669  28.025448  23.914479  0.457450  0.713817  20040102   \n",
       "17     0.196207  15.087449  12.143365  0.107272  0.220367  20040102   \n",
       "18     1.782703  23.016956  20.028493  0.060553  0.355385  20040102   \n",
       "19     3.380021  23.209763  19.935156  0.089837  0.278654  20040102   \n",
       "20     0.000000  27.138099  23.901111  0.183841  0.410674  20040102   \n",
       "21     1.733990  22.222874  19.652249 -0.210865  0.042602  20040102   \n",
       "22     0.000000  29.844475  23.970616  0.921471  1.005869  20040102   \n",
       "23     0.000000  24.742676  21.356169  0.125102  0.519813  20040102   \n",
       "24     3.050774  18.248930  14.319948  0.007271  0.359541  20040102   \n",
       "25     0.000000  24.017693  19.557779  0.474128  0.720445  20040102   \n",
       "26     1.947799  11.185751   7.613359  0.016464  0.268383  20040102   \n",
       "27     1.947799  32.801110  28.797618  0.455392  0.823334  20040102   \n",
       "28     2.398082  21.698318  18.244674  0.363409  0.574217  20040102   \n",
       "29     2.582311  22.480566  19.563198  0.042230  0.340393  20040102   \n",
       "...         ...        ...        ...       ...       ...       ...   \n",
       "12083  1.609658  21.783851  15.798271  0.916546  0.949068  20040102   \n",
       "12106  0.000000  49.492103  31.422737  2.842251  2.312463  20040102   \n",
       "12129  6.635071  15.296278  11.490650  0.427301  0.502732  20040102   \n",
       "12138  0.969142  18.201189  14.918864  0.458332  0.566454  20040102   \n",
       "12152  1.158038  27.037878  19.618228  1.152493  1.246464  20040102   \n",
       "12160  0.000000  19.266420  13.856953  0.884129  0.858799  20040102   \n",
       "12167  0.000000  18.379686  13.939597  0.599482  0.694221  20040102   \n",
       "12188  4.836957  13.659462   9.079246  0.530017  0.552170  20040102   \n",
       "12198  0.796215  35.027972  29.938695  0.208681  0.370896  20040102   \n",
       "12229  0.297275  16.335456  11.882850  0.650036  0.681422  20040102   \n",
       "12250  0.000000  36.142007  27.237898  1.436725  1.412571  20040102   \n",
       "12251  0.000000  43.269806  32.798840  1.650776  1.818193  20040102   \n",
       "12270  0.321802  19.852772  14.435776  0.916664  0.895810  20040102   \n",
       "12276  0.000000  29.919677  22.658355  1.237936  1.268537  20040102   \n",
       "12277  0.000000  31.831665  27.050359  0.837699  0.894894  20040102   \n",
       "12292  3.326680  16.752344  11.342998  0.685010  0.699345  20040102   \n",
       "12294  2.315563  12.846131   8.295271  0.000013  0.135944  20040102   \n",
       "12296  0.000000  41.888803  27.763874  1.940437  1.896225  20040102   \n",
       "12297  0.000000  40.446463  30.152393  1.661142  1.705148  20040102   \n",
       "12300  0.936403  18.195606  14.320388  0.628059  0.702290  20040102   \n",
       "12303  0.594943  21.260536  18.068736  0.506909  0.572747  20040102   \n",
       "12306  1.141553  21.950931  17.310510  0.513696  0.616492  20040102   \n",
       "12310  0.000000  41.784233  31.932920  1.765807  1.769838  20040102   \n",
       "12328  0.000000  37.528088  31.282103  0.937153  0.916919  20040102   \n",
       "12347  6.486762  21.941545  18.999146  0.288851  0.477279  20040102   \n",
       "12350  0.000000  19.139833  16.094151  0.452048  0.549935  20040102   \n",
       "12358  2.475822  20.630581  14.250759  0.870721  0.946899  20040102   \n",
       "12380  0.000000  38.759682  30.385409  1.683928  1.584244  20040102   \n",
       "12391  0.000000  42.478709  33.717181  1.211796  1.274806  20040102   \n",
       "12422  4.714286  21.679651  18.778080  0.294241  0.401738  20040102   \n",
       "\n",
       "       DlyReturnDate  h.opt.previous  \n",
       "0           20040102             0.0  \n",
       "1           20040102             0.0  \n",
       "2           20040102             0.0  \n",
       "3           20040102             0.0  \n",
       "4           20040102             0.0  \n",
       "5           20040102             0.0  \n",
       "6           20040102             0.0  \n",
       "7           20040102             0.0  \n",
       "8           20040102             0.0  \n",
       "9           20040102             0.0  \n",
       "10          20040102             0.0  \n",
       "11          20040102             0.0  \n",
       "12          20040102             0.0  \n",
       "13          20040102             0.0  \n",
       "14          20040102             0.0  \n",
       "15          20040102             0.0  \n",
       "16          20040102             0.0  \n",
       "17          20040102             0.0  \n",
       "18          20040102             0.0  \n",
       "19          20040102             0.0  \n",
       "20          20040102             0.0  \n",
       "21          20040102             0.0  \n",
       "22          20040102             0.0  \n",
       "23          20040102             0.0  \n",
       "24          20040102             0.0  \n",
       "25          20040102             0.0  \n",
       "26          20040102             0.0  \n",
       "27          20040102             0.0  \n",
       "28          20040102             0.0  \n",
       "29          20040102             0.0  \n",
       "...              ...             ...  \n",
       "12083       20040102             0.0  \n",
       "12106       20040102             0.0  \n",
       "12129       20040102             0.0  \n",
       "12138       20040102             0.0  \n",
       "12152       20040102             0.0  \n",
       "12160       20040102             0.0  \n",
       "12167       20040102             0.0  \n",
       "12188       20040102             0.0  \n",
       "12198       20040102             0.0  \n",
       "12229       20040102             0.0  \n",
       "12250       20040102             0.0  \n",
       "12251       20040102             0.0  \n",
       "12270       20040102             0.0  \n",
       "12276       20040102             0.0  \n",
       "12277       20040102             0.0  \n",
       "12292       20040102             0.0  \n",
       "12294       20040102             0.0  \n",
       "12296       20040102             0.0  \n",
       "12297       20040102             0.0  \n",
       "12300       20040102             0.0  \n",
       "12303       20040102             0.0  \n",
       "12306       20040102             0.0  \n",
       "12310       20040102             0.0  \n",
       "12328       20040102             0.0  \n",
       "12347       20040102             0.0  \n",
       "12350       20040102             0.0  \n",
       "12358       20040102             0.0  \n",
       "12380       20040102             0.0  \n",
       "12391       20040102             0.0  \n",
       "12422       20040102             0.0  \n",
       "\n",
       "[2265 rows x 94 columns]>"
      ]
     },
     "execution_count": 15,
     "metadata": {},
     "output_type": "execute_result"
    }
   ],
   "source": [
    "def get_universe(df):\n",
    "    \"\"\"\n",
    "    Create a stock universe based on filters\n",
    "\n",
    "    Parameters\n",
    "    ----------\n",
    "    df : DataFrame\n",
    "        All stocks\n",
    "        \n",
    "    Returns\n",
    "    -------\n",
    "    universe : DataFrame\n",
    "        Selected stocks based on filters\n",
    "    \"\"\"\n",
    "    \n",
    "    # TODO: Implement\n",
    "    \n",
    "    universe = df[(df['IssuerMarketCap'] > 1e9) | (abs(df['h.opt.previous']) > 0)].copy(deep=True)\n",
    "    universe = universe.drop('DlyReturn',axis=1)\n",
    "    #print(universe)\n",
    "    return universe\n",
    "\n",
    "universe = get_universe(df)\n",
    "print(universe.shape) # shape is 94, not 93, because DlyReturnDate was added before\n",
    "print(universe.columns.values)\n",
    "universe.head"
   ]
  },
  {
   "cell_type": "code",
   "execution_count": 16,
   "metadata": {},
   "outputs": [
    {
     "data": {
      "text/plain": [
       "'20040102'"
      ]
     },
     "execution_count": 16,
     "metadata": {},
     "output_type": "execute_result"
    }
   ],
   "source": [
    "date = str(int(universe['DataDate'][1])) \n",
    "date"
   ]
  },
  {
   "cell_type": "markdown",
   "metadata": {},
   "source": [
    "## Factors\n",
    "\n",
    "We will now extract both the risk factors and alpha factors. We begin by first getting all the factors using the `factors_from_names` function defined previously."
   ]
  },
  {
   "cell_type": "code",
   "execution_count": 17,
   "metadata": {},
   "outputs": [],
   "source": [
    "all_factors = factors_from_names(list(universe))"
   ]
  },
  {
   "cell_type": "markdown",
   "metadata": {},
   "source": [
    "We will now create the function `setdiff` to just select the factors that we have not defined as alpha factors"
   ]
  },
  {
   "cell_type": "code",
   "execution_count": 18,
   "metadata": {},
   "outputs": [],
   "source": [
    "def setdiff(temp1, temp2): \n",
    "    s = set(temp2)\n",
    "    temp3 = [x for x in temp1 if x not in s]\n",
    "    return temp3"
   ]
  },
  {
   "cell_type": "code",
   "execution_count": 19,
   "metadata": {},
   "outputs": [
    {
     "data": {
      "text/plain": [
       "['USFASTD_AERODEF',\n",
       " 'USFASTD_AIRLINES',\n",
       " 'USFASTD_ALUMSTEL',\n",
       " 'USFASTD_APPAREL',\n",
       " 'USFASTD_AUTO',\n",
       " 'USFASTD_BANKS',\n",
       " 'USFASTD_BETA',\n",
       " 'USFASTD_BEVTOB',\n",
       " 'USFASTD_BIOLIFE',\n",
       " 'USFASTD_BLDGPROD',\n",
       " 'USFASTD_CHEM',\n",
       " 'USFASTD_CNSTENG',\n",
       " 'USFASTD_CNSTMACH',\n",
       " 'USFASTD_CNSTMATL',\n",
       " 'USFASTD_COMMEQP',\n",
       " 'USFASTD_COMPELEC',\n",
       " 'USFASTD_COMSVCS',\n",
       " 'USFASTD_CONGLOM',\n",
       " 'USFASTD_CONTAINR',\n",
       " 'USFASTD_DISTRIB',\n",
       " 'USFASTD_DIVFIN',\n",
       " 'USFASTD_DIVYILD',\n",
       " 'USFASTD_DWNRISK',\n",
       " 'USFASTD_EARNQLTY',\n",
       " 'USFASTD_ELECEQP',\n",
       " 'USFASTD_ELECUTIL',\n",
       " 'USFASTD_FOODPROD',\n",
       " 'USFASTD_FOODRET',\n",
       " 'USFASTD_GASUTIL',\n",
       " 'USFASTD_GROWTH',\n",
       " 'USFASTD_HLTHEQP',\n",
       " 'USFASTD_HLTHSVCS',\n",
       " 'USFASTD_HOMEBLDG',\n",
       " 'USFASTD_HOUSEDUR',\n",
       " 'USFASTD_INDMACH',\n",
       " 'USFASTD_INDMOM',\n",
       " 'USFASTD_INSURNCE',\n",
       " 'USFASTD_INTERNET',\n",
       " 'USFASTD_LEISPROD',\n",
       " 'USFASTD_LEISSVCS',\n",
       " 'USFASTD_LEVERAGE',\n",
       " 'USFASTD_LIFEINS',\n",
       " 'USFASTD_LIQUIDTY',\n",
       " 'USFASTD_LTREVRSL',\n",
       " 'USFASTD_MEDIA',\n",
       " 'USFASTD_MGDHLTH',\n",
       " 'USFASTD_MGMTQLTY',\n",
       " 'USFASTD_MIDCAP',\n",
       " 'USFASTD_MOMENTUM',\n",
       " 'USFASTD_MULTUTIL',\n",
       " 'USFASTD_OILGSCON',\n",
       " 'USFASTD_OILGSDRL',\n",
       " 'USFASTD_OILGSEQP',\n",
       " 'USFASTD_OILGSEXP',\n",
       " 'USFASTD_PAPER',\n",
       " 'USFASTD_PHARMA',\n",
       " 'USFASTD_PRECMTLS',\n",
       " 'USFASTD_PROFIT',\n",
       " 'USFASTD_PROSPECT',\n",
       " 'USFASTD_PSNLPROD',\n",
       " 'USFASTD_REALEST',\n",
       " 'USFASTD_RESTAUR',\n",
       " 'USFASTD_RESVOL',\n",
       " 'USFASTD_ROADRAIL',\n",
       " 'USFASTD_SEASON',\n",
       " 'USFASTD_SEMICOND',\n",
       " 'USFASTD_SEMIEQP',\n",
       " 'USFASTD_SIZE',\n",
       " 'USFASTD_SOFTWARE',\n",
       " 'USFASTD_SPLTYRET',\n",
       " 'USFASTD_SPTYCHEM',\n",
       " 'USFASTD_SPTYSTOR',\n",
       " 'USFASTD_STREVRSL',\n",
       " 'USFASTD_TELECOM',\n",
       " 'USFASTD_TRADECO',\n",
       " 'USFASTD_TRANSPRT',\n",
       " 'USFASTD_WIRELESS']"
      ]
     },
     "execution_count": 19,
     "metadata": {},
     "output_type": "execute_result"
    }
   ],
   "source": [
    "risk_factors = setdiff(all_factors, alpha_factors)\n",
    "risk_factors"
   ]
  },
  {
   "cell_type": "markdown",
   "metadata": {},
   "source": [
    "We will also save the column that contains the previous holdings in a separate variable because we are going to use it later when we perform our portfolio optimization."
   ]
  },
  {
   "cell_type": "code",
   "execution_count": 20,
   "metadata": {},
   "outputs": [],
   "source": [
    "h0 = universe['h.opt.previous']"
   ]
  },
  {
   "cell_type": "markdown",
   "metadata": {},
   "source": [
    "## Matrix of Risk Factor Exposures\n",
    "\n",
    "Our dataframe contains several columns that we'll use as risk factors exposures.  Extract these and put them into a matrix.\n",
    "\n",
    "The data, such as industry category, are already one-hot encoded, but if this were not the case, then using `patsy.dmatrices` would help, as this function extracts categories and performs the one-hot encoding.  We'll practice using this package, as you may find it useful with future data sets.  You could also store the factors in a dataframe if you prefer.\n",
    "\n",
    "#### How to use patsy.dmatrices\n",
    "\n",
    "`patsy.dmatrices` takes in a formula and the dataframe.  The formula tells the function which columns to take.  The formula will look something like this:  \n",
    "`SpecRisk ~ 0 + USFASTD_AERODEF + USFASTD_AIRLINES + ...`  \n",
    "where the variable to the left of the ~ is the \"dependent variable\" and the others to the right are the independent variables (as if we were preparing data to be fit to a model).\n",
    "\n",
    "This just means that the `pasty.dmatrices` function will return two matrix variables, one that contains the single column for the dependent variable `outcome`, and the independent variable columns are stored in a matrix `predictors`.\n",
    "\n",
    "The `predictors` matrix will contain the matrix of risk factors, which is what we want.  We don't actually need the `outcome` matrix; it's just created because that's the way patsy.dmatrices works."
   ]
  },
  {
   "cell_type": "code",
   "execution_count": 21,
   "metadata": {},
   "outputs": [],
   "source": [
    "formula = get_formula(risk_factors, \"SpecRisk\")"
   ]
  },
  {
   "cell_type": "code",
   "execution_count": 22,
   "metadata": {},
   "outputs": [],
   "source": [
    "def model_matrix(formula, data): \n",
    "    outcome, predictors = patsy.dmatrices(formula, data)\n",
    "    return predictors"
   ]
  },
  {
   "cell_type": "code",
   "execution_count": 23,
   "metadata": {},
   "outputs": [
    {
     "data": {
      "text/plain": [
       "DesignMatrix with shape (2265, 77)\n",
       "  Columns:\n",
       "    ['USFASTD_AERODEF',\n",
       "     'USFASTD_AIRLINES',\n",
       "     'USFASTD_ALUMSTEL',\n",
       "     'USFASTD_APPAREL',\n",
       "     'USFASTD_AUTO',\n",
       "     'USFASTD_BANKS',\n",
       "     'USFASTD_BETA',\n",
       "     'USFASTD_BEVTOB',\n",
       "     'USFASTD_BIOLIFE',\n",
       "     'USFASTD_BLDGPROD',\n",
       "     'USFASTD_CHEM',\n",
       "     'USFASTD_CNSTENG',\n",
       "     'USFASTD_CNSTMACH',\n",
       "     'USFASTD_CNSTMATL',\n",
       "     'USFASTD_COMMEQP',\n",
       "     'USFASTD_COMPELEC',\n",
       "     'USFASTD_COMSVCS',\n",
       "     'USFASTD_CONGLOM',\n",
       "     'USFASTD_CONTAINR',\n",
       "     'USFASTD_DISTRIB',\n",
       "     'USFASTD_DIVFIN',\n",
       "     'USFASTD_DIVYILD',\n",
       "     'USFASTD_DWNRISK',\n",
       "     'USFASTD_EARNQLTY',\n",
       "     'USFASTD_ELECEQP',\n",
       "     'USFASTD_ELECUTIL',\n",
       "     'USFASTD_FOODPROD',\n",
       "     'USFASTD_FOODRET',\n",
       "     'USFASTD_GASUTIL',\n",
       "     'USFASTD_GROWTH',\n",
       "     'USFASTD_HLTHEQP',\n",
       "     'USFASTD_HLTHSVCS',\n",
       "     'USFASTD_HOMEBLDG',\n",
       "     'USFASTD_HOUSEDUR',\n",
       "     'USFASTD_INDMACH',\n",
       "     'USFASTD_INDMOM',\n",
       "     'USFASTD_INSURNCE',\n",
       "     'USFASTD_INTERNET',\n",
       "     'USFASTD_LEISPROD',\n",
       "     'USFASTD_LEISSVCS',\n",
       "     'USFASTD_LEVERAGE',\n",
       "     'USFASTD_LIFEINS',\n",
       "     'USFASTD_LIQUIDTY',\n",
       "     'USFASTD_LTREVRSL',\n",
       "     'USFASTD_MEDIA',\n",
       "     'USFASTD_MGDHLTH',\n",
       "     'USFASTD_MGMTQLTY',\n",
       "     'USFASTD_MIDCAP',\n",
       "     'USFASTD_MOMENTUM',\n",
       "     'USFASTD_MULTUTIL',\n",
       "     'USFASTD_OILGSCON',\n",
       "     'USFASTD_OILGSDRL',\n",
       "     'USFASTD_OILGSEQP',\n",
       "     'USFASTD_OILGSEXP',\n",
       "     'USFASTD_PAPER',\n",
       "     'USFASTD_PHARMA',\n",
       "     'USFASTD_PRECMTLS',\n",
       "     'USFASTD_PROFIT',\n",
       "     'USFASTD_PROSPECT',\n",
       "     'USFASTD_PSNLPROD',\n",
       "     'USFASTD_REALEST',\n",
       "     'USFASTD_RESTAUR',\n",
       "     'USFASTD_RESVOL',\n",
       "     'USFASTD_ROADRAIL',\n",
       "     'USFASTD_SEASON',\n",
       "     'USFASTD_SEMICOND',\n",
       "     'USFASTD_SEMIEQP',\n",
       "     'USFASTD_SIZE',\n",
       "     'USFASTD_SOFTWARE',\n",
       "     'USFASTD_SPLTYRET',\n",
       "     'USFASTD_SPTYCHEM',\n",
       "     'USFASTD_SPTYSTOR',\n",
       "     'USFASTD_STREVRSL',\n",
       "     'USFASTD_TELECOM',\n",
       "     'USFASTD_TRADECO',\n",
       "     'USFASTD_TRANSPRT',\n",
       "     'USFASTD_WIRELESS']\n",
       "  Terms:\n",
       "    'USFASTD_AERODEF' (column 0)\n",
       "    'USFASTD_AIRLINES' (column 1)\n",
       "    'USFASTD_ALUMSTEL' (column 2)\n",
       "    'USFASTD_APPAREL' (column 3)\n",
       "    'USFASTD_AUTO' (column 4)\n",
       "    'USFASTD_BANKS' (column 5)\n",
       "    'USFASTD_BETA' (column 6)\n",
       "    'USFASTD_BEVTOB' (column 7)\n",
       "    'USFASTD_BIOLIFE' (column 8)\n",
       "    'USFASTD_BLDGPROD' (column 9)\n",
       "    'USFASTD_CHEM' (column 10)\n",
       "    'USFASTD_CNSTENG' (column 11)\n",
       "    'USFASTD_CNSTMACH' (column 12)\n",
       "    'USFASTD_CNSTMATL' (column 13)\n",
       "    'USFASTD_COMMEQP' (column 14)\n",
       "    'USFASTD_COMPELEC' (column 15)\n",
       "    'USFASTD_COMSVCS' (column 16)\n",
       "    'USFASTD_CONGLOM' (column 17)\n",
       "    'USFASTD_CONTAINR' (column 18)\n",
       "    'USFASTD_DISTRIB' (column 19)\n",
       "    'USFASTD_DIVFIN' (column 20)\n",
       "    'USFASTD_DIVYILD' (column 21)\n",
       "    'USFASTD_DWNRISK' (column 22)\n",
       "    'USFASTD_EARNQLTY' (column 23)\n",
       "    'USFASTD_ELECEQP' (column 24)\n",
       "    'USFASTD_ELECUTIL' (column 25)\n",
       "    'USFASTD_FOODPROD' (column 26)\n",
       "    'USFASTD_FOODRET' (column 27)\n",
       "    'USFASTD_GASUTIL' (column 28)\n",
       "    'USFASTD_GROWTH' (column 29)\n",
       "    'USFASTD_HLTHEQP' (column 30)\n",
       "    'USFASTD_HLTHSVCS' (column 31)\n",
       "    'USFASTD_HOMEBLDG' (column 32)\n",
       "    'USFASTD_HOUSEDUR' (column 33)\n",
       "    'USFASTD_INDMACH' (column 34)\n",
       "    'USFASTD_INDMOM' (column 35)\n",
       "    'USFASTD_INSURNCE' (column 36)\n",
       "    'USFASTD_INTERNET' (column 37)\n",
       "    'USFASTD_LEISPROD' (column 38)\n",
       "    'USFASTD_LEISSVCS' (column 39)\n",
       "    'USFASTD_LEVERAGE' (column 40)\n",
       "    'USFASTD_LIFEINS' (column 41)\n",
       "    'USFASTD_LIQUIDTY' (column 42)\n",
       "    'USFASTD_LTREVRSL' (column 43)\n",
       "    'USFASTD_MEDIA' (column 44)\n",
       "    'USFASTD_MGDHLTH' (column 45)\n",
       "    'USFASTD_MGMTQLTY' (column 46)\n",
       "    'USFASTD_MIDCAP' (column 47)\n",
       "    'USFASTD_MOMENTUM' (column 48)\n",
       "    'USFASTD_MULTUTIL' (column 49)\n",
       "    'USFASTD_OILGSCON' (column 50)\n",
       "    'USFASTD_OILGSDRL' (column 51)\n",
       "    'USFASTD_OILGSEQP' (column 52)\n",
       "    'USFASTD_OILGSEXP' (column 53)\n",
       "    'USFASTD_PAPER' (column 54)\n",
       "    'USFASTD_PHARMA' (column 55)\n",
       "    'USFASTD_PRECMTLS' (column 56)\n",
       "    'USFASTD_PROFIT' (column 57)\n",
       "    'USFASTD_PROSPECT' (column 58)\n",
       "    'USFASTD_PSNLPROD' (column 59)\n",
       "    'USFASTD_REALEST' (column 60)\n",
       "    'USFASTD_RESTAUR' (column 61)\n",
       "    'USFASTD_RESVOL' (column 62)\n",
       "    'USFASTD_ROADRAIL' (column 63)\n",
       "    'USFASTD_SEASON' (column 64)\n",
       "    'USFASTD_SEMICOND' (column 65)\n",
       "    'USFASTD_SEMIEQP' (column 66)\n",
       "    'USFASTD_SIZE' (column 67)\n",
       "    'USFASTD_SOFTWARE' (column 68)\n",
       "    'USFASTD_SPLTYRET' (column 69)\n",
       "    'USFASTD_SPTYCHEM' (column 70)\n",
       "    'USFASTD_SPTYSTOR' (column 71)\n",
       "    'USFASTD_STREVRSL' (column 72)\n",
       "    'USFASTD_TELECOM' (column 73)\n",
       "    'USFASTD_TRADECO' (column 74)\n",
       "    'USFASTD_TRANSPRT' (column 75)\n",
       "    'USFASTD_WIRELESS' (column 76)\n",
       "  (to view full data, use np.asarray(this_obj))"
      ]
     },
     "execution_count": 23,
     "metadata": {},
     "output_type": "execute_result"
    }
   ],
   "source": [
    "B = model_matrix(formula, universe)\n",
    "BT = B.transpose()\n",
    "B"
   ]
  },
  {
   "cell_type": "markdown",
   "metadata": {},
   "source": [
    "## Calculate Specific Variance\n",
    "\n",
    "Notice that the specific risk data is in percent:"
   ]
  },
  {
   "cell_type": "code",
   "execution_count": 24,
   "metadata": {},
   "outputs": [
    {
     "data": {
      "text/plain": [
       "0     9.014505\n",
       "1    11.726327\n",
       "Name: SpecRisk, dtype: float64"
      ]
     },
     "execution_count": 24,
     "metadata": {},
     "output_type": "execute_result"
    }
   ],
   "source": [
    "universe['SpecRisk'][0:2]"
   ]
  },
  {
   "cell_type": "markdown",
   "metadata": {},
   "source": [
    "Therefore, in order to get the specific variance for each stock in the universe we first need to multiply these values by `0.01`  and then square them:"
   ]
  },
  {
   "cell_type": "code",
   "execution_count": 25,
   "metadata": {},
   "outputs": [
    {
     "data": {
      "text/plain": [
       "0        0.008126\n",
       "1        0.013751\n",
       "2        0.032571\n",
       "3        0.043389\n",
       "4        0.046045\n",
       "5        0.014190\n",
       "6        0.020825\n",
       "7        0.033540\n",
       "8        0.019974\n",
       "9        0.037055\n",
       "10       0.069566\n",
       "11       0.026231\n",
       "12       0.015613\n",
       "13       0.036236\n",
       "14       0.007090\n",
       "15       0.046236\n",
       "16       0.057190\n",
       "17       0.014746\n",
       "18       0.040114\n",
       "19       0.039741\n",
       "20       0.057126\n",
       "21       0.038621\n",
       "22       0.057459\n",
       "23       0.045609\n",
       "24       0.020506\n",
       "25       0.038251\n",
       "26       0.005796\n",
       "27       0.082930\n",
       "28       0.033287\n",
       "29       0.038272\n",
       "           ...   \n",
       "12083    0.024959\n",
       "12106    0.098739\n",
       "12129    0.013204\n",
       "12138    0.022257\n",
       "12152    0.038487\n",
       "12160    0.019202\n",
       "12167    0.019431\n",
       "12188    0.008243\n",
       "12198    0.089633\n",
       "12229    0.014120\n",
       "12250    0.074190\n",
       "12251    0.107576\n",
       "12270    0.020839\n",
       "12276    0.051340\n",
       "12277    0.073172\n",
       "12292    0.012866\n",
       "12294    0.006881\n",
       "12296    0.077083\n",
       "12297    0.090917\n",
       "12300    0.020507\n",
       "12303    0.032648\n",
       "12306    0.029965\n",
       "12310    0.101971\n",
       "12328    0.097857\n",
       "12347    0.036097\n",
       "12350    0.025902\n",
       "12358    0.020308\n",
       "12380    0.092327\n",
       "12391    0.113685\n",
       "12422    0.035262\n",
       "Name: SpecRisk, Length: 2265, dtype: float64"
      ]
     },
     "execution_count": 25,
     "metadata": {},
     "output_type": "execute_result"
    }
   ],
   "source": [
    "specVar = (0.01 * universe['SpecRisk']) ** 2\n",
    "specVar"
   ]
  },
  {
   "cell_type": "markdown",
   "metadata": {},
   "source": [
    "## Factor covariance matrix (TODO)\n",
    "\n",
    "Note that we already have factor covariances from Barra data, which is stored in the variable `covariance`.  `covariance` is a dictionary, where the key is each day's date, and the value is a dataframe containing the factor covariances."
   ]
  },
  {
   "cell_type": "code",
   "execution_count": 26,
   "metadata": {},
   "outputs": [
    {
     "data": {
      "text/html": [
       "<div>\n",
       "<style scoped>\n",
       "    .dataframe tbody tr th:only-of-type {\n",
       "        vertical-align: middle;\n",
       "    }\n",
       "\n",
       "    .dataframe tbody tr th {\n",
       "        vertical-align: top;\n",
       "    }\n",
       "\n",
       "    .dataframe thead th {\n",
       "        text-align: right;\n",
       "    }\n",
       "</style>\n",
       "<table border=\"1\" class=\"dataframe\">\n",
       "  <thead>\n",
       "    <tr style=\"text-align: right;\">\n",
       "      <th></th>\n",
       "      <th>Factor1</th>\n",
       "      <th>Factor2</th>\n",
       "      <th>VarCovar</th>\n",
       "      <th>DataDate</th>\n",
       "    </tr>\n",
       "  </thead>\n",
       "  <tbody>\n",
       "    <tr>\n",
       "      <th>0</th>\n",
       "      <td>USFASTD_1DREVRSL</td>\n",
       "      <td>USFASTD_1DREVRSL</td>\n",
       "      <td>1.958869</td>\n",
       "      <td>20040102</td>\n",
       "    </tr>\n",
       "    <tr>\n",
       "      <th>1</th>\n",
       "      <td>USFASTD_1DREVRSL</td>\n",
       "      <td>USFASTD_BETA</td>\n",
       "      <td>1.602458</td>\n",
       "      <td>20040102</td>\n",
       "    </tr>\n",
       "    <tr>\n",
       "      <th>2</th>\n",
       "      <td>USFASTD_1DREVRSL</td>\n",
       "      <td>USFASTD_DIVYILD</td>\n",
       "      <td>-0.012642</td>\n",
       "      <td>20040102</td>\n",
       "    </tr>\n",
       "    <tr>\n",
       "      <th>3</th>\n",
       "      <td>USFASTD_1DREVRSL</td>\n",
       "      <td>USFASTD_DWNRISK</td>\n",
       "      <td>-0.064387</td>\n",
       "      <td>20040102</td>\n",
       "    </tr>\n",
       "    <tr>\n",
       "      <th>4</th>\n",
       "      <td>USFASTD_1DREVRSL</td>\n",
       "      <td>USFASTD_EARNQLTY</td>\n",
       "      <td>0.046573</td>\n",
       "      <td>20040102</td>\n",
       "    </tr>\n",
       "  </tbody>\n",
       "</table>\n",
       "</div>"
      ],
      "text/plain": [
       "            Factor1           Factor2  VarCovar  DataDate\n",
       "0  USFASTD_1DREVRSL  USFASTD_1DREVRSL  1.958869  20040102\n",
       "1  USFASTD_1DREVRSL      USFASTD_BETA  1.602458  20040102\n",
       "2  USFASTD_1DREVRSL   USFASTD_DIVYILD -0.012642  20040102\n",
       "3  USFASTD_1DREVRSL   USFASTD_DWNRISK -0.064387  20040102\n",
       "4  USFASTD_1DREVRSL  USFASTD_EARNQLTY  0.046573  20040102"
      ]
     },
     "execution_count": 26,
     "metadata": {},
     "output_type": "execute_result"
    }
   ],
   "source": [
    "covariance['20040102'].head()"
   ]
  },
  {
   "cell_type": "markdown",
   "metadata": {},
   "source": [
    "In the code below, implement the function `diagonal_factor_cov` to create the factor covariance matrix. Note that the covariances are given in percentage units squared.  Therefore you must re-scale them appropriately so that they're in decimals squared. Use the given `colnames` function to get the column names from `B`. \n",
    "\n",
    "When creating factor covariance matrix, you can store the factor variances and covariances, or just store the factor variances.  Try both, and see if you notice any differences."
   ]
  },
  {
   "cell_type": "code",
   "execution_count": 27,
   "metadata": {},
   "outputs": [],
   "source": [
    "def colnames(B):\n",
    "    if type(B) == patsy.design_info.DesignMatrix: \n",
    "        return B.design_info.column_names\n",
    "    if type(B) == pandas.core.frame.DataFrame: \n",
    "        return B.columns.tolist()\n",
    "    return None"
   ]
  },
  {
   "cell_type": "code",
   "execution_count": 28,
   "metadata": {},
   "outputs": [
    {
     "name": "stdout",
     "output_type": "stream",
     "text": [
      "77\n"
     ]
    }
   ],
   "source": [
    "def diagonal_factor_cov(date, B):\n",
    "    \"\"\"\n",
    "    Create the factor covariance matrix\n",
    "\n",
    "    Parameters\n",
    "    ----------\n",
    "    date : string\n",
    "           date. For example 20040102\n",
    "        \n",
    "    B : patsy.design_info.DesignMatrix OR pandas.core.frame.DataFrame\n",
    "        Matrix of Risk Factors\n",
    "        \n",
    "    Returns\n",
    "    -------\n",
    "    Fm : Numpy ndarray\n",
    "        factor covariance matrix\n",
    "    \"\"\"\n",
    "    \n",
    "    cv = covariance[date]\n",
    "    print(B.shape[1])\n",
    "    #print(cv)\n",
    "    k = B.shape[1]\n",
    "    Fm = np.zeros([k,k])\n",
    "    \n",
    "    for j in range(0,k):\n",
    "        fac = colnames(B)[j]\n",
    "        Fm[j,j] = (0.01**2) * cv.loc[(cv.Factor1 == fac) & (cv.Factor2 == fac), \"VarCovar\"].iloc[0]\n",
    "        #print(Fm[j,j])\n",
    "    \n",
    "    return Fm\n",
    "\n",
    "Fvar = diagonal_factor_cov(date, B)"
   ]
  },
  {
   "cell_type": "markdown",
   "metadata": {},
   "source": [
    "## Transaction Costs\n",
    "\n",
    "To get the transaction cost, or slippage, we have to multiply the price change due to market impact by the amount of dollars traded:\n",
    "\n",
    "$$\n",
    "\\mbox{tcost_{i,t}} = \\% \\Delta \\mbox{price}_{i,t} \\times \\mbox{trade}_{i,t}\n",
    "$$\n",
    "\n",
    "In summation notation it looks like this:  \n",
    "$$\n",
    "\\mbox{tcost}_{i,t} = \\sum_i^{N} \\lambda_{i,t} (h_{i,t} - h_{i,t-1})^2\n",
    "$$  \n",
    "where\n",
    "$$\n",
    "\\lambda_{i,t} = \\frac{1}{10\\times \\mbox{ADV}_{i,t}}\n",
    "$$\n",
    "\n",
    "Note that since we're dividing by ADV, we'll want to handle cases when ADV is missing or zero.  In those instances, we can set ADV to a small positive number, such as 10,000, which, in practice assumes that the stock is illiquid. In the code below if there is no volume information we assume the asset is illiquid."
   ]
  },
  {
   "cell_type": "code",
   "execution_count": 29,
   "metadata": {},
   "outputs": [],
   "source": [
    "def get_lambda(universe, composite_volume_column = 'ADTCA_30'):\n",
    "    universe.loc[np.isnan(universe[composite_volume_column]), composite_volume_column] = 1.0e4\n",
    "    universe.loc[universe[composite_volume_column] == 0, composite_volume_column] = 1.0e4 \n",
    "\n",
    "    adv = universe[composite_volume_column]\n",
    "    \n",
    "    return 0.1 / adv\n",
    "\n",
    "Lambda = get_lambda(universe)"
   ]
  },
  {
   "cell_type": "markdown",
   "metadata": {},
   "source": [
    "## Alpha Combination (TODO)\n",
    "\n",
    "In the code below create a matrix of alpha factors and return it from the function `get_B_alpha`. Create this matrix in the same way you created the matrix of risk factors, i.e. using the `get_formula` and `model_matrix` functions we have defined above. Feel free to go back and look at the previous code."
   ]
  },
  {
   "cell_type": "code",
   "execution_count": 30,
   "metadata": {},
   "outputs": [
    {
     "name": "stdout",
     "output_type": "stream",
     "text": [
      "[[-0.032 -0.298  0.644 -0.922]\n",
      " [-0.059 -1.072 -0.646 -0.991]\n",
      " [ 0.457 -0.06  -0.668 -0.092]\n",
      " ...\n",
      " [ 0.108  0.019  0.42  -0.528]\n",
      " [ 0.594 -2.726  1.828  1.983]\n",
      " [-0.164  0.837 -0.152 -0.128]]\n",
      "[[-0.032 -0.059  0.457 ...  0.108  0.594 -0.164]\n",
      " [-0.298 -1.072 -0.06  ...  0.019 -2.726  0.837]\n",
      " [ 0.644 -0.646 -0.668 ...  0.42   1.828 -0.152]\n",
      " [-0.922 -0.991 -0.092 ... -0.528  1.983 -0.128]]\n"
     ]
    }
   ],
   "source": [
    "def get_B_alpha(alpha_factors, universe):\n",
    "    # TODO: Implement\n",
    "    formula = get_formula(alpha_factors, \"SpecRisk\")\n",
    "    B_alpha = model_matrix(formula, data=universe)\n",
    "    return B_alpha\n",
    "\n",
    "B_alpha = get_B_alpha(alpha_factors, universe)\n",
    "BT_alpha = B_alpha.transpose()\n",
    "\n",
    "print(B_alpha)\n",
    "print(BT_alpha)"
   ]
  },
  {
   "cell_type": "markdown",
   "metadata": {},
   "source": [
    "Now that you have the matrix containing the alpha factors we will combine them by adding its rows. By doing this we will collapse the `B_alpha` matrix into a single alpha vector. We'll multiply by `1e-4` so that the expression of expected portfolio return, $\\alpha^T \\mathbf{h}$, is in dollar units. "
   ]
  },
  {
   "cell_type": "code",
   "execution_count": 31,
   "metadata": {},
   "outputs": [
    {
     "data": {
      "text/plain": [
       "array([-6.080e-05, -2.768e-04, -3.630e-05, ...,  1.900e-06,  1.679e-04,\n",
       "        3.930e-05])"
      ]
     },
     "execution_count": 31,
     "metadata": {},
     "output_type": "execute_result"
    }
   ],
   "source": [
    "def get_alpha_vec(B_alpha):\n",
    "    \"\"\"\n",
    "    Create an alpha vecrtor\n",
    "\n",
    "    Parameters\n",
    "    ----------        \n",
    "    B_alpha : patsy.design_info.DesignMatrix \n",
    "        Matrix of Alpha Factors\n",
    "        \n",
    "    Returns\n",
    "    -------\n",
    "    alpha_vec : patsy.design_info.DesignMatrix \n",
    "        alpha vecrtor\n",
    "    \"\"\"\n",
    "    \n",
    "    alpha_vec = 1e-4 * np.sum(B_alpha, axis=1)\n",
    "    \n",
    "    return alpha_vec\n",
    "\n",
    "alpha_vec = get_alpha_vec(B_alpha)\n",
    "alpha_vec"
   ]
  },
  {
   "cell_type": "markdown",
   "metadata": {},
   "source": [
    "#### Optional Challenge\n",
    "\n",
    "You can also try to a more sophisticated method of alpha combination, by choosing the holding for each alpha based on the same metric of its performance, such as the factor returns, or sharpe ratio.  To make this more realistic, you can calculate a rolling average of the sharpe ratio, which is updated for each day.  Remember to only use data that occurs prior to the date of each optimization, and not data that occurs in the future.  Also, since factor returns and sharpe ratios may be negative, consider using a `max` function to give the holdings a lower bound of zero."
   ]
  },
  {
   "cell_type": "markdown",
   "metadata": {},
   "source": [
    "## Objective function (TODO)\n",
    "\n",
    "The objective function is given by:\n",
    "\n",
    "$$\n",
    "f(\\mathbf{h}) = \\frac{1}{2}\\kappa \\mathbf{h}_t^T\\mathbf{Q}^T\\mathbf{Q}\\mathbf{h}_t + \\frac{1}{2} \\kappa \\mathbf{h}_t^T \\mathbf{S} \\mathbf{h}_t - \\mathbf{\\alpha}^T \\mathbf{h}_t + (\\mathbf{h}_{t} - \\mathbf{h}_{t-1})^T \\mathbf{\\Lambda} (\\mathbf{h}_{t} - \\mathbf{h}_{t-1})\n",
    "$$\n",
    "\n",
    "Where the terms correspond to: factor risk + idiosyncratic risk - expected portfolio return + transaction costs, respectively. We should also note that $\\textbf{Q}^T\\textbf{Q}$ is defined to be the same as $\\textbf{BFB}^T$.  Review the lessons if you need a refresher of how we get $\\textbf{Q}$.\n",
    "\n",
    "Our objective is to minimize this objective function. To do this, we will use Scipy's optimization function:\n",
    "\n",
    "`scipy.optimize.fmin_l_bfgs_b(func, initial_guess, func_gradient)`\n",
    "\n",
    "where:\n",
    "\n",
    "* **func** : is the function we want to minimize\n",
    "\n",
    "* **initial_guess** : is out initial guess\n",
    "\n",
    "* **func_gradient** : is the gradient of the function we want to minimize\n",
    "\n",
    "So, in order to use the `scipy.optimize.fmin_l_bfgs_b` function we first need to define its parameters.\n",
    "\n",
    "In the code below implement the function `obj_func(h)` that corresponds to the objective function above that we want to minimize. We will set the risk aversion to be `1.0e-6`."
   ]
  },
  {
   "cell_type": "code",
   "execution_count": 32,
   "metadata": {},
   "outputs": [],
   "source": [
    "risk_aversion = 1.0e-6\n",
    "\n",
    "def get_obj_func(h0, risk_aversion, Q, specVar, alpha_vec, Lambda): \n",
    "    def obj_func(h):\n",
    "        # TODO: Implement\n",
    "        f = 0.0\n",
    "        f += 0.5 * risk_aversion * np.sum(np.matmul(Q, h) ** 2)\n",
    "        f += 0.5 * risk_aversion * np.dot(h ** 2, specVar) #since Specific Variance is diagonal, don't have to do matmul\n",
    "        f -= np.dot(h,alpha_vec)\n",
    "        f += np.dot((h - h0) ** 2, Lambda)\n",
    "        \n",
    "        return(f)\n",
    "    \n",
    "    return obj_func"
   ]
  },
  {
   "cell_type": "markdown",
   "metadata": {},
   "source": [
    "## Gradient (TODO)\n",
    "\n",
    "Now that we can generate the objective function using `get_obj_func`, we can now create a similar function with its gradient. The reason we're interested in calculating the gradient is so that we can tell the optimizer in which direction, and how much, it should shift the portfolio holdings in order to improve the objective function (minimize variance, minimize transaction cost, and maximize expected portfolio return).\n",
    "\n",
    "Before we implement the function we first need to know what the gradient looks like. The gradient, or derivative of the objective function, with respect to the portfolio holdings h, is given by:  \n",
    "\n",
    "$$\n",
    "f'(\\mathbf{h}) = \\frac{1}{2}\\kappa (2\\mathbf{Q}^T\\mathbf{Qh}) + \\frac{1}{2}\\kappa (2\\mathbf{Sh}) - \\mathbf{\\alpha} + 2(\\mathbf{h}_{t} - \\mathbf{h}_{t-1}) \\mathbf{\\Lambda}\n",
    "$$\n",
    "\n",
    "In the code below, implement the function `grad(h)` that corresponds to the function of the gradient given above."
   ]
  },
  {
   "cell_type": "markdown",
   "metadata": {},
   "source": [
    "\n",
    "becomes\n",
    "\n",
    "$f'(\\mathbf{h}) = \\kappa (\\mathbf{Q}^T\\mathbf{Qh} + \\mathbf{Sh}) - \\mathbf{\\alpha} + 2(\\mathbf{h}_{t} - \\mathbf{h}_{t-1}) \\mathbf{\\Lambda}$"
   ]
  },
  {
   "cell_type": "code",
   "execution_count": 33,
   "metadata": {},
   "outputs": [],
   "source": [
    "def get_grad_func(h0, risk_aversion, Q, QT, specVar, alpha_vec, Lambda):\n",
    "    def grad_func(h):\n",
    "        # TODO: Implement\n",
    "        g = risk_aversion * (np.matmul(QT, np.matmul(Q, h)) + (specVar * h)) - alpha_vec + (2 * (h-h0) * Lambda)\n",
    "        return (np.asarray(g))\n",
    "    \n",
    "    return grad_func"
   ]
  },
  {
   "cell_type": "markdown",
   "metadata": {},
   "source": [
    "## Optimize (TODO)\n",
    "\n",
    "Now that we can generate the objective function using `get_obj_func`, and its corresponding gradient using `get_grad_func` we are ready to minimize the objective function using Scipy's optimization function. For this, we will use out initial holdings as our `initial_guess` parameter.\n",
    "\n",
    "In the cell below, implement the function `get_h_star` that optimizes the objective function. Use the objective function (`obj_func`) and gradient function (`grad_func`) provided within `get_h_star` to optimize the objective function using the `scipy.optimize.fmin_l_bfgs_b` function."
   ]
  },
  {
   "cell_type": "code",
   "execution_count": 34,
   "metadata": {},
   "outputs": [
    {
     "data": {
      "text/plain": [
       "array([ -4.10305883, -22.20067593,   1.51978435, ..., 765.84215439,\n",
       "       513.53986377, 528.77798902])"
      ]
     },
     "execution_count": 34,
     "metadata": {},
     "output_type": "execute_result"
    }
   ],
   "source": [
    "risk_aversion = 1.0e-6\n",
    "\n",
    "Q = np.matmul(scipy.linalg.sqrtm(Fvar), BT)\n",
    "QT = Q.transpose()\n",
    "\n",
    "def get_h_star(risk_aversion, Q, QT, specVar, alpha_vec, h0, Lambda):\n",
    "    \"\"\"\n",
    "    Optimize the objective function\n",
    "\n",
    "    Parameters\n",
    "    ----------        \n",
    "    risk_aversion : int or float \n",
    "        Trader's risk aversion\n",
    "        \n",
    "    Q : patsy.design_info.DesignMatrix \n",
    "        Q Matrix\n",
    "        \n",
    "    QT : patsy.design_info.DesignMatrix \n",
    "        Transpose of the Q Matrix\n",
    "        \n",
    "    specVar: Pandas Series \n",
    "        Specific Variance\n",
    "        \n",
    "    alpha_vec: patsy.design_info.DesignMatrix \n",
    "        alpha vector\n",
    "        \n",
    "    h0 : Pandas Series  \n",
    "        initial holdings\n",
    "        \n",
    "    Lambda : Pandas Series  \n",
    "        Lambda\n",
    "        \n",
    "    Returns\n",
    "    -------\n",
    "    optimizer_result[0]: Numpy ndarray \n",
    "        optimized holdings\n",
    "    \"\"\"\n",
    "    obj_func = get_obj_func(h0, risk_aversion, Q, specVar, alpha_vec, Lambda)\n",
    "    grad_func = get_grad_func(h0, risk_aversion, Q, QT, specVar, alpha_vec, Lambda)\n",
    "    \n",
    "    # TODO: Implement \n",
    "    optimizer_result = scipy.optimize.fmin_l_bfgs_b(obj_func, h0, fprime=grad_func)\n",
    "    \n",
    "    return optimizer_result[0]\n",
    "\n",
    "h_star = get_h_star(risk_aversion, Q, QT, specVar, alpha_vec, h0, Lambda)\n",
    "h_star"
   ]
  },
  {
   "cell_type": "markdown",
   "metadata": {},
   "source": [
    "After we have optimized our objective function we can now use, `h_star` to create our optimal portfolio:"
   ]
  },
  {
   "cell_type": "code",
   "execution_count": 35,
   "metadata": {},
   "outputs": [
    {
     "data": {
      "text/html": [
       "<div>\n",
       "<style scoped>\n",
       "    .dataframe tbody tr th:only-of-type {\n",
       "        vertical-align: middle;\n",
       "    }\n",
       "\n",
       "    .dataframe tbody tr th {\n",
       "        vertical-align: top;\n",
       "    }\n",
       "\n",
       "    .dataframe thead th {\n",
       "        text-align: right;\n",
       "    }\n",
       "</style>\n",
       "<table border=\"1\" class=\"dataframe\">\n",
       "  <thead>\n",
       "    <tr style=\"text-align: right;\">\n",
       "      <th></th>\n",
       "      <th>Barrid</th>\n",
       "      <th>h.opt</th>\n",
       "    </tr>\n",
       "  </thead>\n",
       "  <tbody>\n",
       "    <tr>\n",
       "      <th>0</th>\n",
       "      <td>USA0001</td>\n",
       "      <td>-4.103059</td>\n",
       "    </tr>\n",
       "    <tr>\n",
       "      <th>1</th>\n",
       "      <td>USA0011</td>\n",
       "      <td>-22.200676</td>\n",
       "    </tr>\n",
       "    <tr>\n",
       "      <th>2</th>\n",
       "      <td>USA0031</td>\n",
       "      <td>1.519784</td>\n",
       "    </tr>\n",
       "    <tr>\n",
       "      <th>3</th>\n",
       "      <td>USA0062</td>\n",
       "      <td>-5.749995</td>\n",
       "    </tr>\n",
       "    <tr>\n",
       "      <th>4</th>\n",
       "      <td>USA00E2</td>\n",
       "      <td>6.810527</td>\n",
       "    </tr>\n",
       "    <tr>\n",
       "      <th>5</th>\n",
       "      <td>USA00F1</td>\n",
       "      <td>-5.726061</td>\n",
       "    </tr>\n",
       "    <tr>\n",
       "      <th>6</th>\n",
       "      <td>USA00G2</td>\n",
       "      <td>7.589228</td>\n",
       "    </tr>\n",
       "    <tr>\n",
       "      <th>7</th>\n",
       "      <td>USA00H1</td>\n",
       "      <td>4.809374</td>\n",
       "    </tr>\n",
       "    <tr>\n",
       "      <th>8</th>\n",
       "      <td>USA00I1</td>\n",
       "      <td>-9.642367</td>\n",
       "    </tr>\n",
       "    <tr>\n",
       "      <th>9</th>\n",
       "      <td>USA00J1</td>\n",
       "      <td>-3.183782</td>\n",
       "    </tr>\n",
       "    <tr>\n",
       "      <th>10</th>\n",
       "      <td>USA00K1</td>\n",
       "      <td>-7.864453</td>\n",
       "    </tr>\n",
       "    <tr>\n",
       "      <th>11</th>\n",
       "      <td>USA00P1</td>\n",
       "      <td>1.483460</td>\n",
       "    </tr>\n",
       "    <tr>\n",
       "      <th>12</th>\n",
       "      <td>USA00R1</td>\n",
       "      <td>-3.249811</td>\n",
       "    </tr>\n",
       "    <tr>\n",
       "      <th>13</th>\n",
       "      <td>USA00S1</td>\n",
       "      <td>0.690273</td>\n",
       "    </tr>\n",
       "    <tr>\n",
       "      <th>14</th>\n",
       "      <td>USA00V1</td>\n",
       "      <td>-4.741222</td>\n",
       "    </tr>\n",
       "    <tr>\n",
       "      <th>15</th>\n",
       "      <td>USA0131</td>\n",
       "      <td>-11.272261</td>\n",
       "    </tr>\n",
       "    <tr>\n",
       "      <th>16</th>\n",
       "      <td>USA0161</td>\n",
       "      <td>-7.186826</td>\n",
       "    </tr>\n",
       "    <tr>\n",
       "      <th>17</th>\n",
       "      <td>USA01I1</td>\n",
       "      <td>2.181586</td>\n",
       "    </tr>\n",
       "    <tr>\n",
       "      <th>18</th>\n",
       "      <td>USA01J2</td>\n",
       "      <td>-6.903525</td>\n",
       "    </tr>\n",
       "    <tr>\n",
       "      <th>19</th>\n",
       "      <td>USA01L1</td>\n",
       "      <td>-1.096186</td>\n",
       "    </tr>\n",
       "    <tr>\n",
       "      <th>20</th>\n",
       "      <td>USA01P1</td>\n",
       "      <td>-0.097555</td>\n",
       "    </tr>\n",
       "    <tr>\n",
       "      <th>21</th>\n",
       "      <td>USA01Q1</td>\n",
       "      <td>-4.284195</td>\n",
       "    </tr>\n",
       "    <tr>\n",
       "      <th>22</th>\n",
       "      <td>USA0202</td>\n",
       "      <td>13.541043</td>\n",
       "    </tr>\n",
       "    <tr>\n",
       "      <th>23</th>\n",
       "      <td>USA0231</td>\n",
       "      <td>-4.554782</td>\n",
       "    </tr>\n",
       "    <tr>\n",
       "      <th>24</th>\n",
       "      <td>USA0281</td>\n",
       "      <td>-5.341278</td>\n",
       "    </tr>\n",
       "    <tr>\n",
       "      <th>25</th>\n",
       "      <td>USA0291</td>\n",
       "      <td>14.614120</td>\n",
       "    </tr>\n",
       "    <tr>\n",
       "      <th>26</th>\n",
       "      <td>USA02A1</td>\n",
       "      <td>2.234342</td>\n",
       "    </tr>\n",
       "    <tr>\n",
       "      <th>27</th>\n",
       "      <td>USA02B1</td>\n",
       "      <td>-8.424432</td>\n",
       "    </tr>\n",
       "    <tr>\n",
       "      <th>28</th>\n",
       "      <td>USA02H1</td>\n",
       "      <td>0.465728</td>\n",
       "    </tr>\n",
       "    <tr>\n",
       "      <th>29</th>\n",
       "      <td>USA02P1</td>\n",
       "      <td>-4.872854</td>\n",
       "    </tr>\n",
       "    <tr>\n",
       "      <th>...</th>\n",
       "      <td>...</td>\n",
       "      <td>...</td>\n",
       "    </tr>\n",
       "    <tr>\n",
       "      <th>12083</th>\n",
       "      <td>USAZGN1</td>\n",
       "      <td>-1601.158503</td>\n",
       "    </tr>\n",
       "    <tr>\n",
       "      <th>12106</th>\n",
       "      <td>USAZHT1</td>\n",
       "      <td>90.648179</td>\n",
       "    </tr>\n",
       "    <tr>\n",
       "      <th>12129</th>\n",
       "      <td>USAZJ11</td>\n",
       "      <td>42.231280</td>\n",
       "    </tr>\n",
       "    <tr>\n",
       "      <th>12138</th>\n",
       "      <td>USAZJH1</td>\n",
       "      <td>-1586.998243</td>\n",
       "    </tr>\n",
       "    <tr>\n",
       "      <th>12152</th>\n",
       "      <td>USAZK61</td>\n",
       "      <td>738.306872</td>\n",
       "    </tr>\n",
       "    <tr>\n",
       "      <th>12160</th>\n",
       "      <td>USAZKM1</td>\n",
       "      <td>4546.795659</td>\n",
       "    </tr>\n",
       "    <tr>\n",
       "      <th>12167</th>\n",
       "      <td>USAZKZ1</td>\n",
       "      <td>3361.043829</td>\n",
       "    </tr>\n",
       "    <tr>\n",
       "      <th>12188</th>\n",
       "      <td>USAZM61</td>\n",
       "      <td>1138.285888</td>\n",
       "    </tr>\n",
       "    <tr>\n",
       "      <th>12198</th>\n",
       "      <td>USAZMU1</td>\n",
       "      <td>-30.553497</td>\n",
       "    </tr>\n",
       "    <tr>\n",
       "      <th>12229</th>\n",
       "      <td>USAZOE1</td>\n",
       "      <td>-8467.260237</td>\n",
       "    </tr>\n",
       "    <tr>\n",
       "      <th>12250</th>\n",
       "      <td>USAZPE1</td>\n",
       "      <td>-3718.480450</td>\n",
       "    </tr>\n",
       "    <tr>\n",
       "      <th>12251</th>\n",
       "      <td>USAZPF1</td>\n",
       "      <td>744.244415</td>\n",
       "    </tr>\n",
       "    <tr>\n",
       "      <th>12270</th>\n",
       "      <td>USAZQD1</td>\n",
       "      <td>-7310.184072</td>\n",
       "    </tr>\n",
       "    <tr>\n",
       "      <th>12276</th>\n",
       "      <td>USAZQK1</td>\n",
       "      <td>1394.555671</td>\n",
       "    </tr>\n",
       "    <tr>\n",
       "      <th>12277</th>\n",
       "      <td>USAZQN1</td>\n",
       "      <td>2226.564959</td>\n",
       "    </tr>\n",
       "    <tr>\n",
       "      <th>12292</th>\n",
       "      <td>USAZRB1</td>\n",
       "      <td>2360.422418</td>\n",
       "    </tr>\n",
       "    <tr>\n",
       "      <th>12294</th>\n",
       "      <td>USAZRD1</td>\n",
       "      <td>110.473285</td>\n",
       "    </tr>\n",
       "    <tr>\n",
       "      <th>12296</th>\n",
       "      <td>USAZRG1</td>\n",
       "      <td>-2094.575011</td>\n",
       "    </tr>\n",
       "    <tr>\n",
       "      <th>12297</th>\n",
       "      <td>USAZRK1</td>\n",
       "      <td>-2502.803003</td>\n",
       "    </tr>\n",
       "    <tr>\n",
       "      <th>12300</th>\n",
       "      <td>USAZRU1</td>\n",
       "      <td>-436.814318</td>\n",
       "    </tr>\n",
       "    <tr>\n",
       "      <th>12303</th>\n",
       "      <td>USAZRY1</td>\n",
       "      <td>-411.688528</td>\n",
       "    </tr>\n",
       "    <tr>\n",
       "      <th>12306</th>\n",
       "      <td>USAZS21</td>\n",
       "      <td>347.856011</td>\n",
       "    </tr>\n",
       "    <tr>\n",
       "      <th>12310</th>\n",
       "      <td>USAZS81</td>\n",
       "      <td>2721.606498</td>\n",
       "    </tr>\n",
       "    <tr>\n",
       "      <th>12328</th>\n",
       "      <td>USAZTI1</td>\n",
       "      <td>-13.198416</td>\n",
       "    </tr>\n",
       "    <tr>\n",
       "      <th>12347</th>\n",
       "      <td>USAZUA1</td>\n",
       "      <td>453.988981</td>\n",
       "    </tr>\n",
       "    <tr>\n",
       "      <th>12350</th>\n",
       "      <td>USAZUH1</td>\n",
       "      <td>1081.268618</td>\n",
       "    </tr>\n",
       "    <tr>\n",
       "      <th>12358</th>\n",
       "      <td>USAZV51</td>\n",
       "      <td>5397.217340</td>\n",
       "    </tr>\n",
       "    <tr>\n",
       "      <th>12380</th>\n",
       "      <td>USAZWU1</td>\n",
       "      <td>765.842154</td>\n",
       "    </tr>\n",
       "    <tr>\n",
       "      <th>12391</th>\n",
       "      <td>USAZXI1</td>\n",
       "      <td>513.539864</td>\n",
       "    </tr>\n",
       "    <tr>\n",
       "      <th>12422</th>\n",
       "      <td>USAZZ81</td>\n",
       "      <td>528.777989</td>\n",
       "    </tr>\n",
       "  </tbody>\n",
       "</table>\n",
       "<p>2265 rows × 2 columns</p>\n",
       "</div>"
      ],
      "text/plain": [
       "        Barrid        h.opt\n",
       "0      USA0001    -4.103059\n",
       "1      USA0011   -22.200676\n",
       "2      USA0031     1.519784\n",
       "3      USA0062    -5.749995\n",
       "4      USA00E2     6.810527\n",
       "5      USA00F1    -5.726061\n",
       "6      USA00G2     7.589228\n",
       "7      USA00H1     4.809374\n",
       "8      USA00I1    -9.642367\n",
       "9      USA00J1    -3.183782\n",
       "10     USA00K1    -7.864453\n",
       "11     USA00P1     1.483460\n",
       "12     USA00R1    -3.249811\n",
       "13     USA00S1     0.690273\n",
       "14     USA00V1    -4.741222\n",
       "15     USA0131   -11.272261\n",
       "16     USA0161    -7.186826\n",
       "17     USA01I1     2.181586\n",
       "18     USA01J2    -6.903525\n",
       "19     USA01L1    -1.096186\n",
       "20     USA01P1    -0.097555\n",
       "21     USA01Q1    -4.284195\n",
       "22     USA0202    13.541043\n",
       "23     USA0231    -4.554782\n",
       "24     USA0281    -5.341278\n",
       "25     USA0291    14.614120\n",
       "26     USA02A1     2.234342\n",
       "27     USA02B1    -8.424432\n",
       "28     USA02H1     0.465728\n",
       "29     USA02P1    -4.872854\n",
       "...        ...          ...\n",
       "12083  USAZGN1 -1601.158503\n",
       "12106  USAZHT1    90.648179\n",
       "12129  USAZJ11    42.231280\n",
       "12138  USAZJH1 -1586.998243\n",
       "12152  USAZK61   738.306872\n",
       "12160  USAZKM1  4546.795659\n",
       "12167  USAZKZ1  3361.043829\n",
       "12188  USAZM61  1138.285888\n",
       "12198  USAZMU1   -30.553497\n",
       "12229  USAZOE1 -8467.260237\n",
       "12250  USAZPE1 -3718.480450\n",
       "12251  USAZPF1   744.244415\n",
       "12270  USAZQD1 -7310.184072\n",
       "12276  USAZQK1  1394.555671\n",
       "12277  USAZQN1  2226.564959\n",
       "12292  USAZRB1  2360.422418\n",
       "12294  USAZRD1   110.473285\n",
       "12296  USAZRG1 -2094.575011\n",
       "12297  USAZRK1 -2502.803003\n",
       "12300  USAZRU1  -436.814318\n",
       "12303  USAZRY1  -411.688528\n",
       "12306  USAZS21   347.856011\n",
       "12310  USAZS81  2721.606498\n",
       "12328  USAZTI1   -13.198416\n",
       "12347  USAZUA1   453.988981\n",
       "12350  USAZUH1  1081.268618\n",
       "12358  USAZV51  5397.217340\n",
       "12380  USAZWU1   765.842154\n",
       "12391  USAZXI1   513.539864\n",
       "12422  USAZZ81   528.777989\n",
       "\n",
       "[2265 rows x 2 columns]"
      ]
     },
     "execution_count": 35,
     "metadata": {},
     "output_type": "execute_result"
    }
   ],
   "source": [
    "opt_portfolio = pd.DataFrame(data = {\"Barrid\" : universe['Barrid'], \"h.opt\" : h_star})\n",
    "opt_portfolio"
   ]
  },
  {
   "cell_type": "markdown",
   "metadata": {},
   "source": [
    "## Risk Exposures (TODO)\n",
    "\n",
    "We can also use `h_star` to calculate our portfolio's risk and alpha exposures.\n",
    "\n",
    "In the cells below implement the functions `get_risk_exposures` and `get_portfolio_alpha_exposure` that calculate the portfolio's risk and alpha exposures, respectively."
   ]
  },
  {
   "cell_type": "code",
   "execution_count": 36,
   "metadata": {},
   "outputs": [
    {
     "data": {
      "text/plain": [
       "DesignMatrix with shape (2265, 77)\n",
       "  Columns:\n",
       "    ['USFASTD_AERODEF',\n",
       "     'USFASTD_AIRLINES',\n",
       "     'USFASTD_ALUMSTEL',\n",
       "     'USFASTD_APPAREL',\n",
       "     'USFASTD_AUTO',\n",
       "     'USFASTD_BANKS',\n",
       "     'USFASTD_BETA',\n",
       "     'USFASTD_BEVTOB',\n",
       "     'USFASTD_BIOLIFE',\n",
       "     'USFASTD_BLDGPROD',\n",
       "     'USFASTD_CHEM',\n",
       "     'USFASTD_CNSTENG',\n",
       "     'USFASTD_CNSTMACH',\n",
       "     'USFASTD_CNSTMATL',\n",
       "     'USFASTD_COMMEQP',\n",
       "     'USFASTD_COMPELEC',\n",
       "     'USFASTD_COMSVCS',\n",
       "     'USFASTD_CONGLOM',\n",
       "     'USFASTD_CONTAINR',\n",
       "     'USFASTD_DISTRIB',\n",
       "     'USFASTD_DIVFIN',\n",
       "     'USFASTD_DIVYILD',\n",
       "     'USFASTD_DWNRISK',\n",
       "     'USFASTD_EARNQLTY',\n",
       "     'USFASTD_ELECEQP',\n",
       "     'USFASTD_ELECUTIL',\n",
       "     'USFASTD_FOODPROD',\n",
       "     'USFASTD_FOODRET',\n",
       "     'USFASTD_GASUTIL',\n",
       "     'USFASTD_GROWTH',\n",
       "     'USFASTD_HLTHEQP',\n",
       "     'USFASTD_HLTHSVCS',\n",
       "     'USFASTD_HOMEBLDG',\n",
       "     'USFASTD_HOUSEDUR',\n",
       "     'USFASTD_INDMACH',\n",
       "     'USFASTD_INDMOM',\n",
       "     'USFASTD_INSURNCE',\n",
       "     'USFASTD_INTERNET',\n",
       "     'USFASTD_LEISPROD',\n",
       "     'USFASTD_LEISSVCS',\n",
       "     'USFASTD_LEVERAGE',\n",
       "     'USFASTD_LIFEINS',\n",
       "     'USFASTD_LIQUIDTY',\n",
       "     'USFASTD_LTREVRSL',\n",
       "     'USFASTD_MEDIA',\n",
       "     'USFASTD_MGDHLTH',\n",
       "     'USFASTD_MGMTQLTY',\n",
       "     'USFASTD_MIDCAP',\n",
       "     'USFASTD_MOMENTUM',\n",
       "     'USFASTD_MULTUTIL',\n",
       "     'USFASTD_OILGSCON',\n",
       "     'USFASTD_OILGSDRL',\n",
       "     'USFASTD_OILGSEQP',\n",
       "     'USFASTD_OILGSEXP',\n",
       "     'USFASTD_PAPER',\n",
       "     'USFASTD_PHARMA',\n",
       "     'USFASTD_PRECMTLS',\n",
       "     'USFASTD_PROFIT',\n",
       "     'USFASTD_PROSPECT',\n",
       "     'USFASTD_PSNLPROD',\n",
       "     'USFASTD_REALEST',\n",
       "     'USFASTD_RESTAUR',\n",
       "     'USFASTD_RESVOL',\n",
       "     'USFASTD_ROADRAIL',\n",
       "     'USFASTD_SEASON',\n",
       "     'USFASTD_SEMICOND',\n",
       "     'USFASTD_SEMIEQP',\n",
       "     'USFASTD_SIZE',\n",
       "     'USFASTD_SOFTWARE',\n",
       "     'USFASTD_SPLTYRET',\n",
       "     'USFASTD_SPTYCHEM',\n",
       "     'USFASTD_SPTYSTOR',\n",
       "     'USFASTD_STREVRSL',\n",
       "     'USFASTD_TELECOM',\n",
       "     'USFASTD_TRADECO',\n",
       "     'USFASTD_TRANSPRT',\n",
       "     'USFASTD_WIRELESS']\n",
       "  Terms:\n",
       "    'USFASTD_AERODEF' (column 0)\n",
       "    'USFASTD_AIRLINES' (column 1)\n",
       "    'USFASTD_ALUMSTEL' (column 2)\n",
       "    'USFASTD_APPAREL' (column 3)\n",
       "    'USFASTD_AUTO' (column 4)\n",
       "    'USFASTD_BANKS' (column 5)\n",
       "    'USFASTD_BETA' (column 6)\n",
       "    'USFASTD_BEVTOB' (column 7)\n",
       "    'USFASTD_BIOLIFE' (column 8)\n",
       "    'USFASTD_BLDGPROD' (column 9)\n",
       "    'USFASTD_CHEM' (column 10)\n",
       "    'USFASTD_CNSTENG' (column 11)\n",
       "    'USFASTD_CNSTMACH' (column 12)\n",
       "    'USFASTD_CNSTMATL' (column 13)\n",
       "    'USFASTD_COMMEQP' (column 14)\n",
       "    'USFASTD_COMPELEC' (column 15)\n",
       "    'USFASTD_COMSVCS' (column 16)\n",
       "    'USFASTD_CONGLOM' (column 17)\n",
       "    'USFASTD_CONTAINR' (column 18)\n",
       "    'USFASTD_DISTRIB' (column 19)\n",
       "    'USFASTD_DIVFIN' (column 20)\n",
       "    'USFASTD_DIVYILD' (column 21)\n",
       "    'USFASTD_DWNRISK' (column 22)\n",
       "    'USFASTD_EARNQLTY' (column 23)\n",
       "    'USFASTD_ELECEQP' (column 24)\n",
       "    'USFASTD_ELECUTIL' (column 25)\n",
       "    'USFASTD_FOODPROD' (column 26)\n",
       "    'USFASTD_FOODRET' (column 27)\n",
       "    'USFASTD_GASUTIL' (column 28)\n",
       "    'USFASTD_GROWTH' (column 29)\n",
       "    'USFASTD_HLTHEQP' (column 30)\n",
       "    'USFASTD_HLTHSVCS' (column 31)\n",
       "    'USFASTD_HOMEBLDG' (column 32)\n",
       "    'USFASTD_HOUSEDUR' (column 33)\n",
       "    'USFASTD_INDMACH' (column 34)\n",
       "    'USFASTD_INDMOM' (column 35)\n",
       "    'USFASTD_INSURNCE' (column 36)\n",
       "    'USFASTD_INTERNET' (column 37)\n",
       "    'USFASTD_LEISPROD' (column 38)\n",
       "    'USFASTD_LEISSVCS' (column 39)\n",
       "    'USFASTD_LEVERAGE' (column 40)\n",
       "    'USFASTD_LIFEINS' (column 41)\n",
       "    'USFASTD_LIQUIDTY' (column 42)\n",
       "    'USFASTD_LTREVRSL' (column 43)\n",
       "    'USFASTD_MEDIA' (column 44)\n",
       "    'USFASTD_MGDHLTH' (column 45)\n",
       "    'USFASTD_MGMTQLTY' (column 46)\n",
       "    'USFASTD_MIDCAP' (column 47)\n",
       "    'USFASTD_MOMENTUM' (column 48)\n",
       "    'USFASTD_MULTUTIL' (column 49)\n",
       "    'USFASTD_OILGSCON' (column 50)\n",
       "    'USFASTD_OILGSDRL' (column 51)\n",
       "    'USFASTD_OILGSEQP' (column 52)\n",
       "    'USFASTD_OILGSEXP' (column 53)\n",
       "    'USFASTD_PAPER' (column 54)\n",
       "    'USFASTD_PHARMA' (column 55)\n",
       "    'USFASTD_PRECMTLS' (column 56)\n",
       "    'USFASTD_PROFIT' (column 57)\n",
       "    'USFASTD_PROSPECT' (column 58)\n",
       "    'USFASTD_PSNLPROD' (column 59)\n",
       "    'USFASTD_REALEST' (column 60)\n",
       "    'USFASTD_RESTAUR' (column 61)\n",
       "    'USFASTD_RESVOL' (column 62)\n",
       "    'USFASTD_ROADRAIL' (column 63)\n",
       "    'USFASTD_SEASON' (column 64)\n",
       "    'USFASTD_SEMICOND' (column 65)\n",
       "    'USFASTD_SEMIEQP' (column 66)\n",
       "    'USFASTD_SIZE' (column 67)\n",
       "    'USFASTD_SOFTWARE' (column 68)\n",
       "    'USFASTD_SPLTYRET' (column 69)\n",
       "    'USFASTD_SPTYCHEM' (column 70)\n",
       "    'USFASTD_SPTYSTOR' (column 71)\n",
       "    'USFASTD_STREVRSL' (column 72)\n",
       "    'USFASTD_TELECOM' (column 73)\n",
       "    'USFASTD_TRADECO' (column 74)\n",
       "    'USFASTD_TRANSPRT' (column 75)\n",
       "    'USFASTD_WIRELESS' (column 76)\n",
       "  (to view full data, use np.asarray(this_obj))"
      ]
     },
     "execution_count": 36,
     "metadata": {},
     "output_type": "execute_result"
    }
   ],
   "source": [
    "def get_risk_exposures(B, BT, h_star):\n",
    "    \"\"\"\n",
    "    Calculate portfolio's Risk Exposure\n",
    "\n",
    "    Parameters\n",
    "    ----------\n",
    "    B : patsy.design_info.DesignMatrix \n",
    "        Matrix of Risk Factors\n",
    "        \n",
    "    BT : patsy.design_info.DesignMatrix \n",
    "        Transpose of Matrix of Risk Factors\n",
    "        \n",
    "    h_star: Numpy ndarray \n",
    "        optimized holdings\n",
    "        \n",
    "    Returns\n",
    "    -------\n",
    "    risk_exposures : Pandas Series\n",
    "        Risk Exposures\n",
    "    \"\"\"\n",
    "    \n",
    "    # TODO: Implement\n",
    "    risk_exposures = np.matmul(B.T, h_star)\n",
    "    \n",
    "    return pd.Series(risk_exposures, index = colnames(B))\n",
    "\n",
    "risk_exposures = get_risk_exposures(B, BT, h_star)\n",
    "#risk_exposures\n",
    "B"
   ]
  },
  {
   "cell_type": "code",
   "execution_count": 37,
   "metadata": {},
   "outputs": [
    {
     "data": {
      "text/plain": [
       "USFASTD_1DREVRSL    2.259431e+06\n",
       "USFASTD_EARNYILD    1.753308e+06\n",
       "USFASTD_VALUE       2.255237e+06\n",
       "USFASTD_SENTMT      1.271437e+06\n",
       "dtype: float64"
      ]
     },
     "execution_count": 37,
     "metadata": {},
     "output_type": "execute_result"
    }
   ],
   "source": [
    "def get_portfolio_alpha_exposure(B_alpha, h_star):\n",
    "    \"\"\"\n",
    "    Calculate portfolio's Alpha Exposure\n",
    "\n",
    "    Parameters\n",
    "    ----------\n",
    "    B_alpha : patsy.design_info.DesignMatrix \n",
    "        Matrix of Alpha Factors\n",
    "        \n",
    "    h_star: Numpy ndarray \n",
    "        optimized holdings\n",
    "        \n",
    "    Returns\n",
    "    -------\n",
    "    alpha_exposures : Pandas Series\n",
    "        Alpha Exposures\n",
    "    \"\"\"\n",
    "    \n",
    "    # TODO: Implement\n",
    "    alpha_exposures = np.matmul(B_alpha.transpose(), h_star)\n",
    "    return pd.Series(alpha_exposures, index = colnames(B_alpha))\n",
    "\n",
    "portfolio_alpha_exposure = get_portfolio_alpha_exposure(B_alpha, h_star)\n",
    "portfolio_alpha_exposure"
   ]
  },
  {
   "cell_type": "markdown",
   "metadata": {},
   "source": [
    "## Transaction Costs (TODO)\n",
    "\n",
    "We can also use `h_star` to calculate our total transaction costs:\n",
    "$$\n",
    "\\mbox{tcost} = \\sum_i^{N} \\lambda_{i} (h_{i,t} - h_{i,t-1})^2\n",
    "$$\n",
    "\n",
    "In the cell below, implement the function `get_total_transaction_costs` that calculates the total transaction costs according to the equation above:"
   ]
  },
  {
   "cell_type": "code",
   "execution_count": 38,
   "metadata": {},
   "outputs": [
    {
     "data": {
      "text/plain": [
       "104.8752026977356"
      ]
     },
     "execution_count": 38,
     "metadata": {},
     "output_type": "execute_result"
    }
   ],
   "source": [
    "def get_total_transaction_costs(h0, h_star, Lambda):\n",
    "    \"\"\"\n",
    "    Calculate Total Transaction Costs\n",
    "\n",
    "    Parameters\n",
    "    ----------\n",
    "    h0 : Pandas Series\n",
    "        initial holdings (before optimization)\n",
    "        \n",
    "    h_star: Numpy ndarray \n",
    "        optimized holdings\n",
    "        \n",
    "    Lambda : Pandas Series  \n",
    "        Lambda\n",
    "        \n",
    "    Returns\n",
    "    -------\n",
    "    total_transaction_costs : float\n",
    "        Total Transaction Costs\n",
    "    \"\"\"\n",
    "    \n",
    "    # TODO: Implement\n",
    "    total_transaction_costs = np.sum(Lambda * ((h_star - h0) ** 2))\n",
    "    \n",
    "    return total_transaction_costs\n",
    "\n",
    "total_transaction_costs = get_total_transaction_costs(h0, h_star, Lambda)\n",
    "total_transaction_costs"
   ]
  },
  {
   "cell_type": "markdown",
   "metadata": {},
   "source": [
    "## Putting It All Together\n",
    "\n",
    "We can now take all the above functions we created above and use them to create a single function, `form_optimal_portfolio` that returns the optimal portfolio, the risk and alpha exposures, and the total transactions costs."
   ]
  },
  {
   "cell_type": "code",
   "execution_count": 39,
   "metadata": {},
   "outputs": [],
   "source": [
    "def form_optimal_portfolio(df, previous, risk_aversion):\n",
    "    df = df.merge(previous, how = 'left', on = 'Barrid')\n",
    "    df = clean_nas(df)\n",
    "    df.loc[df['SpecRisk'] == 0]['SpecRisk'] = median(df['SpecRisk'])\n",
    "  \n",
    "    universe = get_universe(df)\n",
    "    date = str(int(universe['DataDate'][1]))\n",
    "  \n",
    "    all_factors = factors_from_names(list(universe))\n",
    "    risk_factors = setdiff(all_factors, alpha_factors)\n",
    "  \n",
    "    h0 = universe['h.opt.previous']\n",
    "  \n",
    "    B = model_matrix(get_formula(risk_factors, \"SpecRisk\"), universe)\n",
    "    BT = B.transpose()\n",
    "  \n",
    "    specVar = (0.01 * universe['SpecRisk']) ** 2\n",
    "    Fvar = diagonal_factor_cov(date, B)\n",
    "    \n",
    "    Lambda = get_lambda(universe)\n",
    "    B_alpha = get_B_alpha(alpha_factors, universe)\n",
    "    alpha_vec = get_alpha_vec(B_alpha)\n",
    "  \n",
    "    Q = np.matmul(scipy.linalg.sqrtm(Fvar), BT)\n",
    "    QT = Q.transpose()\n",
    "    \n",
    "    h_star = get_h_star(risk_aversion, Q, QT, specVar, alpha_vec, h0, Lambda)\n",
    "    opt_portfolio = pd.DataFrame(data = {\"Barrid\" : universe['Barrid'], \"h.opt\" : h_star})\n",
    "    \n",
    "    risk_exposures = get_risk_exposures(B, BT, h_star)\n",
    "    portfolio_alpha_exposure = get_portfolio_alpha_exposure(B_alpha, h_star)\n",
    "    total_transaction_costs = get_total_transaction_costs(h0, h_star, Lambda)\n",
    "  \n",
    "    return {\n",
    "        \"opt.portfolio\" : opt_portfolio, \n",
    "        \"risk.exposures\" : risk_exposures, \n",
    "        \"alpha.exposures\" : portfolio_alpha_exposure,\n",
    "        \"total.cost\" : total_transaction_costs}"
   ]
  },
  {
   "cell_type": "markdown",
   "metadata": {},
   "source": [
    "## Build tradelist\n",
    "\n",
    "The trade list is the most recent optimal asset holdings minus the previous day's optimal holdings."
   ]
  },
  {
   "cell_type": "code",
   "execution_count": 40,
   "metadata": {},
   "outputs": [],
   "source": [
    "def build_tradelist(prev_holdings, opt_result):\n",
    "    tmp = prev_holdings.merge(opt_result['opt.portfolio'], how='outer', on = 'Barrid')\n",
    "    tmp['h.opt.previous'] = np.nan_to_num(tmp['h.opt.previous'])\n",
    "    tmp['h.opt'] = np.nan_to_num(tmp['h.opt'])\n",
    "    return tmp"
   ]
  },
  {
   "cell_type": "markdown",
   "metadata": {},
   "source": [
    "## Save optimal holdings as previous optimal holdings.\n",
    "\n",
    "As we walk through each day, we'll re-use the column for previous holdings by storing the \"current\" optimal holdings as the \"previous\" optimal holdings."
   ]
  },
  {
   "cell_type": "code",
   "execution_count": 41,
   "metadata": {},
   "outputs": [],
   "source": [
    "def convert_to_previous(result): \n",
    "    prev = result['opt.portfolio']\n",
    "    prev = prev.rename(index=str, columns={\"h.opt\": \"h.opt.previous\"}, copy=True, inplace=False)\n",
    "    return prev"
   ]
  },
  {
   "cell_type": "markdown",
   "metadata": {},
   "source": [
    "## Run the backtest\n",
    "\n",
    "Walk through each day, calculating the optimal portfolio holdings and trade list.  This may take some time, but should finish sooner if you've chosen all the optimizations you learned in the lessons."
   ]
  },
  {
   "cell_type": "code",
   "execution_count": 42,
   "metadata": {},
   "outputs": [
    {
     "name": "stderr",
     "output_type": "stream",
     "text": [
      "\r",
      "Optimizing Portfolio:   0%|          | 0/252 [00:00<?, ?day/s]"
     ]
    },
    {
     "name": "stdout",
     "output_type": "stream",
     "text": [
      "77\n"
     ]
    },
    {
     "name": "stderr",
     "output_type": "stream",
     "text": [
      "\r",
      "Optimizing Portfolio:   0%|          | 1/252 [00:06<27:25,  6.55s/day]"
     ]
    },
    {
     "name": "stdout",
     "output_type": "stream",
     "text": [
      "77\n"
     ]
    },
    {
     "name": "stderr",
     "output_type": "stream",
     "text": [
      "\r",
      "Optimizing Portfolio:   1%|          | 2/252 [00:12<27:03,  6.49s/day]"
     ]
    },
    {
     "name": "stdout",
     "output_type": "stream",
     "text": [
      "77\n"
     ]
    },
    {
     "name": "stderr",
     "output_type": "stream",
     "text": [
      "\r",
      "Optimizing Portfolio:   1%|          | 3/252 [00:18<25:00,  6.03s/day]"
     ]
    },
    {
     "name": "stdout",
     "output_type": "stream",
     "text": [
      "77\n"
     ]
    },
    {
     "name": "stderr",
     "output_type": "stream",
     "text": [
      "\r",
      "Optimizing Portfolio:   2%|▏         | 4/252 [00:22<23:26,  5.67s/day]"
     ]
    },
    {
     "name": "stdout",
     "output_type": "stream",
     "text": [
      "77\n"
     ]
    },
    {
     "name": "stderr",
     "output_type": "stream",
     "text": [
      "\r",
      "Optimizing Portfolio:   2%|▏         | 5/252 [00:28<23:47,  5.78s/day]"
     ]
    },
    {
     "name": "stdout",
     "output_type": "stream",
     "text": [
      "77\n"
     ]
    },
    {
     "name": "stderr",
     "output_type": "stream",
     "text": [
      "\r",
      "Optimizing Portfolio:   2%|▏         | 6/252 [00:34<23:31,  5.74s/day]"
     ]
    },
    {
     "name": "stdout",
     "output_type": "stream",
     "text": [
      "77\n"
     ]
    },
    {
     "name": "stderr",
     "output_type": "stream",
     "text": [
      "\r",
      "Optimizing Portfolio:   3%|▎         | 7/252 [00:40<23:30,  5.76s/day]"
     ]
    },
    {
     "name": "stdout",
     "output_type": "stream",
     "text": [
      "77\n"
     ]
    },
    {
     "name": "stderr",
     "output_type": "stream",
     "text": [
      "\r",
      "Optimizing Portfolio:   3%|▎         | 8/252 [00:45<23:06,  5.68s/day]"
     ]
    },
    {
     "name": "stdout",
     "output_type": "stream",
     "text": [
      "77\n"
     ]
    },
    {
     "name": "stderr",
     "output_type": "stream",
     "text": [
      "\r",
      "Optimizing Portfolio:   4%|▎         | 9/252 [00:50<22:32,  5.56s/day]"
     ]
    },
    {
     "name": "stdout",
     "output_type": "stream",
     "text": [
      "77\n"
     ]
    },
    {
     "name": "stderr",
     "output_type": "stream",
     "text": [
      "\r",
      "Optimizing Portfolio:   4%|▍         | 10/252 [00:54<22:08,  5.49s/day]"
     ]
    },
    {
     "name": "stdout",
     "output_type": "stream",
     "text": [
      "77\n"
     ]
    },
    {
     "name": "stderr",
     "output_type": "stream",
     "text": [
      "\r",
      "Optimizing Portfolio:   4%|▍         | 11/252 [01:00<22:00,  5.48s/day]"
     ]
    },
    {
     "name": "stdout",
     "output_type": "stream",
     "text": [
      "77\n"
     ]
    },
    {
     "name": "stderr",
     "output_type": "stream",
     "text": [
      "\r",
      "Optimizing Portfolio:   5%|▍         | 12/252 [01:04<21:34,  5.39s/day]"
     ]
    },
    {
     "name": "stdout",
     "output_type": "stream",
     "text": [
      "77\n"
     ]
    },
    {
     "name": "stderr",
     "output_type": "stream",
     "text": [
      "\r",
      "Optimizing Portfolio:   5%|▌         | 13/252 [01:09<21:09,  5.31s/day]"
     ]
    },
    {
     "name": "stdout",
     "output_type": "stream",
     "text": [
      "77\n"
     ]
    },
    {
     "name": "stderr",
     "output_type": "stream",
     "text": [
      "\r",
      "Optimizing Portfolio:   6%|▌         | 14/252 [01:13<20:50,  5.26s/day]"
     ]
    },
    {
     "name": "stdout",
     "output_type": "stream",
     "text": [
      "77\n"
     ]
    },
    {
     "name": "stderr",
     "output_type": "stream",
     "text": [
      "\r",
      "Optimizing Portfolio:   6%|▌         | 15/252 [01:17<20:27,  5.18s/day]"
     ]
    },
    {
     "name": "stdout",
     "output_type": "stream",
     "text": [
      "77\n"
     ]
    },
    {
     "name": "stderr",
     "output_type": "stream",
     "text": [
      "\r",
      "Optimizing Portfolio:   6%|▋         | 16/252 [01:21<20:05,  5.11s/day]"
     ]
    },
    {
     "name": "stdout",
     "output_type": "stream",
     "text": [
      "77\n"
     ]
    },
    {
     "name": "stderr",
     "output_type": "stream",
     "text": [
      "\r",
      "Optimizing Portfolio:   7%|▋         | 17/252 [01:24<19:34,  5.00s/day]"
     ]
    },
    {
     "name": "stdout",
     "output_type": "stream",
     "text": [
      "77\n"
     ]
    },
    {
     "name": "stderr",
     "output_type": "stream",
     "text": [
      "\r",
      "Optimizing Portfolio:   7%|▋         | 18/252 [01:27<19:03,  4.89s/day]"
     ]
    },
    {
     "name": "stdout",
     "output_type": "stream",
     "text": [
      "77\n"
     ]
    },
    {
     "name": "stderr",
     "output_type": "stream",
     "text": [
      "\r",
      "Optimizing Portfolio:   8%|▊         | 19/252 [01:31<18:39,  4.81s/day]"
     ]
    },
    {
     "name": "stdout",
     "output_type": "stream",
     "text": [
      "77\n"
     ]
    },
    {
     "name": "stderr",
     "output_type": "stream",
     "text": [
      "\r",
      "Optimizing Portfolio:   8%|▊         | 20/252 [01:34<18:10,  4.70s/day]"
     ]
    },
    {
     "name": "stdout",
     "output_type": "stream",
     "text": [
      "77\n"
     ]
    },
    {
     "name": "stderr",
     "output_type": "stream",
     "text": [
      "\r",
      "Optimizing Portfolio:   8%|▊         | 21/252 [01:36<17:40,  4.59s/day]"
     ]
    },
    {
     "name": "stdout",
     "output_type": "stream",
     "text": [
      "77\n"
     ]
    },
    {
     "name": "stderr",
     "output_type": "stream",
     "text": [
      "\r",
      "Optimizing Portfolio:   9%|▊         | 22/252 [01:38<17:14,  4.50s/day]"
     ]
    },
    {
     "name": "stdout",
     "output_type": "stream",
     "text": [
      "77\n"
     ]
    },
    {
     "name": "stderr",
     "output_type": "stream",
     "text": [
      "\r",
      "Optimizing Portfolio:   9%|▉         | 23/252 [01:41<16:50,  4.41s/day]"
     ]
    },
    {
     "name": "stdout",
     "output_type": "stream",
     "text": [
      "77\n"
     ]
    },
    {
     "name": "stderr",
     "output_type": "stream",
     "text": [
      "\r",
      "Optimizing Portfolio:  10%|▉         | 24/252 [01:43<16:26,  4.32s/day]"
     ]
    },
    {
     "name": "stdout",
     "output_type": "stream",
     "text": [
      "77\n"
     ]
    },
    {
     "name": "stderr",
     "output_type": "stream",
     "text": [
      "\r",
      "Optimizing Portfolio:  10%|▉         | 25/252 [01:46<16:05,  4.25s/day]"
     ]
    },
    {
     "name": "stdout",
     "output_type": "stream",
     "text": [
      "77\n"
     ]
    },
    {
     "name": "stderr",
     "output_type": "stream",
     "text": [
      "\r",
      "Optimizing Portfolio:  10%|█         | 26/252 [01:51<16:05,  4.27s/day]"
     ]
    },
    {
     "name": "stdout",
     "output_type": "stream",
     "text": [
      "77\n"
     ]
    },
    {
     "name": "stderr",
     "output_type": "stream",
     "text": [
      "\r",
      "Optimizing Portfolio:  11%|█         | 27/252 [01:55<16:04,  4.29s/day]"
     ]
    },
    {
     "name": "stdout",
     "output_type": "stream",
     "text": [
      "77\n"
     ]
    },
    {
     "name": "stderr",
     "output_type": "stream",
     "text": [
      "\r",
      "Optimizing Portfolio:  11%|█         | 28/252 [02:00<16:05,  4.31s/day]"
     ]
    },
    {
     "name": "stdout",
     "output_type": "stream",
     "text": [
      "77\n"
     ]
    },
    {
     "name": "stderr",
     "output_type": "stream",
     "text": [
      "\r",
      "Optimizing Portfolio:  12%|█▏        | 29/252 [02:05<16:05,  4.33s/day]"
     ]
    },
    {
     "name": "stdout",
     "output_type": "stream",
     "text": [
      "77\n"
     ]
    },
    {
     "name": "stderr",
     "output_type": "stream",
     "text": [
      "\r",
      "Optimizing Portfolio:  12%|█▏        | 30/252 [02:09<16:00,  4.33s/day]"
     ]
    },
    {
     "name": "stdout",
     "output_type": "stream",
     "text": [
      "77\n"
     ]
    },
    {
     "name": "stderr",
     "output_type": "stream",
     "text": [
      "\r",
      "Optimizing Portfolio:  12%|█▏        | 31/252 [02:14<15:59,  4.34s/day]"
     ]
    },
    {
     "name": "stdout",
     "output_type": "stream",
     "text": [
      "77\n"
     ]
    },
    {
     "name": "stderr",
     "output_type": "stream",
     "text": [
      "\r",
      "Optimizing Portfolio:  13%|█▎        | 32/252 [02:19<15:56,  4.35s/day]"
     ]
    },
    {
     "name": "stdout",
     "output_type": "stream",
     "text": [
      "77\n"
     ]
    },
    {
     "name": "stderr",
     "output_type": "stream",
     "text": [
      "\r",
      "Optimizing Portfolio:  13%|█▎        | 33/252 [02:23<15:52,  4.35s/day]"
     ]
    },
    {
     "name": "stdout",
     "output_type": "stream",
     "text": [
      "77\n"
     ]
    },
    {
     "name": "stderr",
     "output_type": "stream",
     "text": [
      "\r",
      "Optimizing Portfolio:  13%|█▎        | 34/252 [02:27<15:47,  4.35s/day]"
     ]
    },
    {
     "name": "stdout",
     "output_type": "stream",
     "text": [
      "77\n"
     ]
    },
    {
     "name": "stderr",
     "output_type": "stream",
     "text": [
      "\r",
      "Optimizing Portfolio:  14%|█▍        | 35/252 [02:32<15:44,  4.35s/day]"
     ]
    },
    {
     "name": "stdout",
     "output_type": "stream",
     "text": [
      "77\n"
     ]
    },
    {
     "name": "stderr",
     "output_type": "stream",
     "text": [
      "\r",
      "Optimizing Portfolio:  14%|█▍        | 36/252 [02:37<15:46,  4.38s/day]"
     ]
    },
    {
     "name": "stdout",
     "output_type": "stream",
     "text": [
      "77\n"
     ]
    },
    {
     "name": "stderr",
     "output_type": "stream",
     "text": [
      "\r",
      "Optimizing Portfolio:  15%|█▍        | 37/252 [02:42<15:46,  4.40s/day]"
     ]
    },
    {
     "name": "stdout",
     "output_type": "stream",
     "text": [
      "77\n"
     ]
    },
    {
     "name": "stderr",
     "output_type": "stream",
     "text": [
      "\r",
      "Optimizing Portfolio:  15%|█▌        | 38/252 [02:47<15:45,  4.42s/day]"
     ]
    },
    {
     "name": "stdout",
     "output_type": "stream",
     "text": [
      "77\n"
     ]
    },
    {
     "name": "stderr",
     "output_type": "stream",
     "text": [
      "\r",
      "Optimizing Portfolio:  15%|█▌        | 39/252 [02:52<15:40,  4.42s/day]"
     ]
    },
    {
     "name": "stdout",
     "output_type": "stream",
     "text": [
      "77\n"
     ]
    },
    {
     "name": "stderr",
     "output_type": "stream",
     "text": [
      "\r",
      "Optimizing Portfolio:  16%|█▌        | 40/252 [02:57<15:38,  4.43s/day]"
     ]
    },
    {
     "name": "stdout",
     "output_type": "stream",
     "text": [
      "77\n"
     ]
    },
    {
     "name": "stderr",
     "output_type": "stream",
     "text": [
      "\r",
      "Optimizing Portfolio:  16%|█▋        | 41/252 [03:02<15:36,  4.44s/day]"
     ]
    },
    {
     "name": "stdout",
     "output_type": "stream",
     "text": [
      "77\n"
     ]
    },
    {
     "name": "stderr",
     "output_type": "stream",
     "text": [
      "\r",
      "Optimizing Portfolio:  17%|█▋        | 42/252 [03:06<15:34,  4.45s/day]"
     ]
    },
    {
     "name": "stdout",
     "output_type": "stream",
     "text": [
      "77\n"
     ]
    },
    {
     "name": "stderr",
     "output_type": "stream",
     "text": [
      "\r",
      "Optimizing Portfolio:  17%|█▋        | 43/252 [03:12<15:34,  4.47s/day]"
     ]
    },
    {
     "name": "stdout",
     "output_type": "stream",
     "text": [
      "77\n"
     ]
    },
    {
     "name": "stderr",
     "output_type": "stream",
     "text": [
      "\r",
      "Optimizing Portfolio:  17%|█▋        | 44/252 [03:17<15:35,  4.50s/day]"
     ]
    },
    {
     "name": "stdout",
     "output_type": "stream",
     "text": [
      "77\n"
     ]
    },
    {
     "name": "stderr",
     "output_type": "stream",
     "text": [
      "\r",
      "Optimizing Portfolio:  18%|█▊        | 45/252 [03:23<15:34,  4.51s/day]"
     ]
    },
    {
     "name": "stdout",
     "output_type": "stream",
     "text": [
      "77\n"
     ]
    },
    {
     "name": "stderr",
     "output_type": "stream",
     "text": [
      "\r",
      "Optimizing Portfolio:  18%|█▊        | 46/252 [03:28<15:35,  4.54s/day]"
     ]
    },
    {
     "name": "stdout",
     "output_type": "stream",
     "text": [
      "77\n"
     ]
    },
    {
     "name": "stderr",
     "output_type": "stream",
     "text": [
      "\r",
      "Optimizing Portfolio:  19%|█▊        | 47/252 [03:46<16:25,  4.81s/day]"
     ]
    },
    {
     "name": "stdout",
     "output_type": "stream",
     "text": [
      "77\n"
     ]
    },
    {
     "name": "stderr",
     "output_type": "stream",
     "text": [
      "\r",
      "Optimizing Portfolio:  19%|█▉        | 48/252 [03:51<16:22,  4.82s/day]"
     ]
    },
    {
     "name": "stdout",
     "output_type": "stream",
     "text": [
      "77\n"
     ]
    },
    {
     "name": "stderr",
     "output_type": "stream",
     "text": [
      "\r",
      "Optimizing Portfolio:  19%|█▉        | 49/252 [03:57<16:23,  4.84s/day]"
     ]
    },
    {
     "name": "stdout",
     "output_type": "stream",
     "text": [
      "77\n"
     ]
    },
    {
     "name": "stderr",
     "output_type": "stream",
     "text": [
      "\r",
      "Optimizing Portfolio:  20%|█▉        | 50/252 [04:01<16:14,  4.82s/day]"
     ]
    },
    {
     "name": "stdout",
     "output_type": "stream",
     "text": [
      "77\n"
     ]
    },
    {
     "name": "stderr",
     "output_type": "stream",
     "text": [
      "\r",
      "Optimizing Portfolio:  20%|██        | 51/252 [04:04<16:04,  4.80s/day]"
     ]
    },
    {
     "name": "stdout",
     "output_type": "stream",
     "text": [
      "77\n"
     ]
    },
    {
     "name": "stderr",
     "output_type": "stream",
     "text": [
      "\r",
      "Optimizing Portfolio:  21%|██        | 52/252 [04:07<15:50,  4.75s/day]"
     ]
    },
    {
     "name": "stdout",
     "output_type": "stream",
     "text": [
      "77\n"
     ]
    },
    {
     "name": "stderr",
     "output_type": "stream",
     "text": [
      "\r",
      "Optimizing Portfolio:  21%|██        | 53/252 [04:13<15:52,  4.79s/day]"
     ]
    },
    {
     "name": "stdout",
     "output_type": "stream",
     "text": [
      "77\n"
     ]
    },
    {
     "name": "stderr",
     "output_type": "stream",
     "text": [
      "\r",
      "Optimizing Portfolio:  21%|██▏       | 54/252 [04:16<15:40,  4.75s/day]"
     ]
    },
    {
     "name": "stdout",
     "output_type": "stream",
     "text": [
      "77\n"
     ]
    },
    {
     "name": "stderr",
     "output_type": "stream",
     "text": [
      "\r",
      "Optimizing Portfolio:  22%|██▏       | 55/252 [04:28<16:02,  4.89s/day]"
     ]
    },
    {
     "name": "stdout",
     "output_type": "stream",
     "text": [
      "77\n"
     ]
    },
    {
     "name": "stderr",
     "output_type": "stream",
     "text": [
      "\r",
      "Optimizing Portfolio:  22%|██▏       | 56/252 [04:32<15:55,  4.87s/day]"
     ]
    },
    {
     "name": "stdout",
     "output_type": "stream",
     "text": [
      "77\n"
     ]
    },
    {
     "name": "stderr",
     "output_type": "stream",
     "text": [
      "\r",
      "Optimizing Portfolio:  23%|██▎       | 57/252 [04:36<15:44,  4.84s/day]"
     ]
    },
    {
     "name": "stdout",
     "output_type": "stream",
     "text": [
      "77\n"
     ]
    },
    {
     "name": "stderr",
     "output_type": "stream",
     "text": [
      "\r",
      "Optimizing Portfolio:  23%|██▎       | 58/252 [04:39<15:33,  4.81s/day]"
     ]
    },
    {
     "name": "stdout",
     "output_type": "stream",
     "text": [
      "77\n"
     ]
    },
    {
     "name": "stderr",
     "output_type": "stream",
     "text": [
      "\r",
      "Optimizing Portfolio:  23%|██▎       | 59/252 [04:41<15:21,  4.77s/day]"
     ]
    },
    {
     "name": "stdout",
     "output_type": "stream",
     "text": [
      "77\n"
     ]
    },
    {
     "name": "stderr",
     "output_type": "stream",
     "text": [
      "\r",
      "Optimizing Portfolio:  24%|██▍       | 60/252 [04:44<15:10,  4.74s/day]"
     ]
    },
    {
     "name": "stdout",
     "output_type": "stream",
     "text": [
      "77\n"
     ]
    },
    {
     "name": "stderr",
     "output_type": "stream",
     "text": [
      "\r",
      "Optimizing Portfolio:  24%|██▍       | 61/252 [04:47<15:00,  4.72s/day]"
     ]
    },
    {
     "name": "stdout",
     "output_type": "stream",
     "text": [
      "77\n"
     ]
    },
    {
     "name": "stderr",
     "output_type": "stream",
     "text": [
      "\r",
      "Optimizing Portfolio:  25%|██▍       | 62/252 [04:50<14:49,  4.68s/day]"
     ]
    },
    {
     "name": "stdout",
     "output_type": "stream",
     "text": [
      "77\n"
     ]
    },
    {
     "name": "stderr",
     "output_type": "stream",
     "text": [
      "\r",
      "Optimizing Portfolio:  25%|██▌       | 63/252 [05:00<15:02,  4.78s/day]"
     ]
    },
    {
     "name": "stdout",
     "output_type": "stream",
     "text": [
      "77\n"
     ]
    },
    {
     "name": "stderr",
     "output_type": "stream",
     "text": [
      "\r",
      "Optimizing Portfolio:  25%|██▌       | 64/252 [05:05<14:57,  4.78s/day]"
     ]
    },
    {
     "name": "stdout",
     "output_type": "stream",
     "text": [
      "77\n"
     ]
    },
    {
     "name": "stderr",
     "output_type": "stream",
     "text": [
      "\r",
      "Optimizing Portfolio:  26%|██▌       | 65/252 [05:10<14:54,  4.78s/day]"
     ]
    },
    {
     "name": "stdout",
     "output_type": "stream",
     "text": [
      "77\n"
     ]
    },
    {
     "name": "stderr",
     "output_type": "stream",
     "text": [
      "\r",
      "Optimizing Portfolio:  26%|██▌       | 66/252 [05:15<14:49,  4.78s/day]"
     ]
    },
    {
     "name": "stdout",
     "output_type": "stream",
     "text": [
      "77\n"
     ]
    },
    {
     "name": "stderr",
     "output_type": "stream",
     "text": [
      "\r",
      "Optimizing Portfolio:  27%|██▋       | 67/252 [05:20<14:46,  4.79s/day]"
     ]
    },
    {
     "name": "stdout",
     "output_type": "stream",
     "text": [
      "77\n"
     ]
    },
    {
     "name": "stderr",
     "output_type": "stream",
     "text": [
      "\r",
      "Optimizing Portfolio:  27%|██▋       | 68/252 [05:28<14:47,  4.83s/day]"
     ]
    },
    {
     "name": "stdout",
     "output_type": "stream",
     "text": [
      "77\n"
     ]
    },
    {
     "name": "stderr",
     "output_type": "stream",
     "text": [
      "\r",
      "Optimizing Portfolio:  27%|██▋       | 69/252 [05:34<14:46,  4.84s/day]"
     ]
    },
    {
     "name": "stdout",
     "output_type": "stream",
     "text": [
      "77\n"
     ]
    },
    {
     "name": "stderr",
     "output_type": "stream",
     "text": [
      "\r",
      "Optimizing Portfolio:  28%|██▊       | 70/252 [05:39<14:41,  4.84s/day]"
     ]
    },
    {
     "name": "stdout",
     "output_type": "stream",
     "text": [
      "77\n"
     ]
    },
    {
     "name": "stderr",
     "output_type": "stream",
     "text": [
      "\r",
      "Optimizing Portfolio:  28%|██▊       | 71/252 [05:43<14:36,  4.84s/day]"
     ]
    },
    {
     "name": "stdout",
     "output_type": "stream",
     "text": [
      "77\n"
     ]
    },
    {
     "name": "stderr",
     "output_type": "stream",
     "text": [
      "\r",
      "Optimizing Portfolio:  29%|██▊       | 72/252 [05:51<14:37,  4.88s/day]"
     ]
    },
    {
     "name": "stdout",
     "output_type": "stream",
     "text": [
      "77\n"
     ]
    },
    {
     "name": "stderr",
     "output_type": "stream",
     "text": [
      "\r",
      "Optimizing Portfolio:  29%|██▉       | 73/252 [05:57<14:35,  4.89s/day]"
     ]
    },
    {
     "name": "stdout",
     "output_type": "stream",
     "text": [
      "77\n"
     ]
    },
    {
     "name": "stderr",
     "output_type": "stream",
     "text": [
      "\r",
      "Optimizing Portfolio:  29%|██▉       | 74/252 [06:02<14:33,  4.90s/day]"
     ]
    },
    {
     "name": "stdout",
     "output_type": "stream",
     "text": [
      "77\n"
     ]
    },
    {
     "name": "stderr",
     "output_type": "stream",
     "text": [
      "\r",
      "Optimizing Portfolio:  30%|██▉       | 75/252 [06:07<14:28,  4.91s/day]"
     ]
    },
    {
     "name": "stdout",
     "output_type": "stream",
     "text": [
      "77\n"
     ]
    },
    {
     "name": "stderr",
     "output_type": "stream",
     "text": [
      "\r",
      "Optimizing Portfolio:  30%|███       | 76/252 [06:14<14:27,  4.93s/day]"
     ]
    },
    {
     "name": "stdout",
     "output_type": "stream",
     "text": [
      "77\n"
     ]
    },
    {
     "name": "stderr",
     "output_type": "stream",
     "text": [
      "\r",
      "Optimizing Portfolio:  31%|███       | 77/252 [06:21<14:26,  4.95s/day]"
     ]
    },
    {
     "name": "stdout",
     "output_type": "stream",
     "text": [
      "77\n"
     ]
    },
    {
     "name": "stderr",
     "output_type": "stream",
     "text": [
      "\r",
      "Optimizing Portfolio:  31%|███       | 78/252 [06:26<14:23,  4.96s/day]"
     ]
    },
    {
     "name": "stdout",
     "output_type": "stream",
     "text": [
      "77\n"
     ]
    },
    {
     "name": "stderr",
     "output_type": "stream",
     "text": [
      "\r",
      "Optimizing Portfolio:  31%|███▏      | 79/252 [06:32<14:18,  4.97s/day]"
     ]
    },
    {
     "name": "stdout",
     "output_type": "stream",
     "text": [
      "77\n"
     ]
    },
    {
     "name": "stderr",
     "output_type": "stream",
     "text": [
      "\r",
      "Optimizing Portfolio:  32%|███▏      | 80/252 [06:38<14:16,  4.98s/day]"
     ]
    },
    {
     "name": "stdout",
     "output_type": "stream",
     "text": [
      "77\n"
     ]
    },
    {
     "name": "stderr",
     "output_type": "stream",
     "text": [
      "\r",
      "Optimizing Portfolio:  32%|███▏      | 81/252 [06:43<14:12,  4.99s/day]"
     ]
    },
    {
     "name": "stdout",
     "output_type": "stream",
     "text": [
      "77\n"
     ]
    },
    {
     "name": "stderr",
     "output_type": "stream",
     "text": [
      "\r",
      "Optimizing Portfolio:  33%|███▎      | 82/252 [06:51<14:12,  5.02s/day]"
     ]
    },
    {
     "name": "stdout",
     "output_type": "stream",
     "text": [
      "77\n"
     ]
    },
    {
     "name": "stderr",
     "output_type": "stream",
     "text": [
      "\r",
      "Optimizing Portfolio:  33%|███▎      | 83/252 [06:58<14:11,  5.04s/day]"
     ]
    },
    {
     "name": "stdout",
     "output_type": "stream",
     "text": [
      "77\n"
     ]
    },
    {
     "name": "stderr",
     "output_type": "stream",
     "text": [
      "\r",
      "Optimizing Portfolio:  33%|███▎      | 84/252 [07:03<14:07,  5.05s/day]"
     ]
    },
    {
     "name": "stdout",
     "output_type": "stream",
     "text": [
      "77\n"
     ]
    },
    {
     "name": "stderr",
     "output_type": "stream",
     "text": [
      "\r",
      "Optimizing Portfolio:  34%|███▎      | 85/252 [07:10<14:06,  5.07s/day]"
     ]
    },
    {
     "name": "stdout",
     "output_type": "stream",
     "text": [
      "77\n"
     ]
    },
    {
     "name": "stderr",
     "output_type": "stream",
     "text": [
      "\r",
      "Optimizing Portfolio:  34%|███▍      | 86/252 [07:14<13:58,  5.05s/day]"
     ]
    },
    {
     "name": "stdout",
     "output_type": "stream",
     "text": [
      "77\n"
     ]
    },
    {
     "name": "stderr",
     "output_type": "stream",
     "text": [
      "\r",
      "Optimizing Portfolio:  35%|███▍      | 87/252 [07:17<13:50,  5.03s/day]"
     ]
    },
    {
     "name": "stdout",
     "output_type": "stream",
     "text": [
      "77\n"
     ]
    },
    {
     "name": "stderr",
     "output_type": "stream",
     "text": [
      "\r",
      "Optimizing Portfolio:  35%|███▍      | 88/252 [07:20<13:41,  5.01s/day]"
     ]
    },
    {
     "name": "stdout",
     "output_type": "stream",
     "text": [
      "77\n"
     ]
    },
    {
     "name": "stderr",
     "output_type": "stream",
     "text": [
      "\r",
      "Optimizing Portfolio:  35%|███▌      | 89/252 [07:24<13:33,  4.99s/day]"
     ]
    },
    {
     "name": "stdout",
     "output_type": "stream",
     "text": [
      "77\n"
     ]
    },
    {
     "name": "stderr",
     "output_type": "stream",
     "text": [
      "\r",
      "Optimizing Portfolio:  36%|███▌      | 90/252 [07:27<13:24,  4.97s/day]"
     ]
    },
    {
     "name": "stdout",
     "output_type": "stream",
     "text": [
      "77\n"
     ]
    },
    {
     "name": "stderr",
     "output_type": "stream",
     "text": [
      "\r",
      "Optimizing Portfolio:  36%|███▌      | 91/252 [07:30<13:16,  4.95s/day]"
     ]
    },
    {
     "name": "stdout",
     "output_type": "stream",
     "text": [
      "77\n"
     ]
    },
    {
     "name": "stderr",
     "output_type": "stream",
     "text": [
      "\r",
      "Optimizing Portfolio:  37%|███▋      | 92/252 [07:33<13:08,  4.93s/day]"
     ]
    },
    {
     "name": "stdout",
     "output_type": "stream",
     "text": [
      "77\n"
     ]
    },
    {
     "name": "stderr",
     "output_type": "stream",
     "text": [
      "\r",
      "Optimizing Portfolio:  37%|███▋      | 93/252 [07:37<13:01,  4.92s/day]"
     ]
    },
    {
     "name": "stdout",
     "output_type": "stream",
     "text": [
      "77\n"
     ]
    },
    {
     "name": "stderr",
     "output_type": "stream",
     "text": [
      "\r",
      "Optimizing Portfolio:  37%|███▋      | 94/252 [07:40<12:53,  4.90s/day]"
     ]
    },
    {
     "name": "stdout",
     "output_type": "stream",
     "text": [
      "77\n"
     ]
    },
    {
     "name": "stderr",
     "output_type": "stream",
     "text": [
      "\r",
      "Optimizing Portfolio:  38%|███▊      | 95/252 [07:44<12:46,  4.88s/day]"
     ]
    },
    {
     "name": "stdout",
     "output_type": "stream",
     "text": [
      "77\n"
     ]
    },
    {
     "name": "stderr",
     "output_type": "stream",
     "text": [
      "\r",
      "Optimizing Portfolio:  38%|███▊      | 96/252 [07:48<12:41,  4.88s/day]"
     ]
    },
    {
     "name": "stdout",
     "output_type": "stream",
     "text": [
      "77\n"
     ]
    },
    {
     "name": "stderr",
     "output_type": "stream",
     "text": [
      "\r",
      "Optimizing Portfolio:  38%|███▊      | 97/252 [07:52<12:35,  4.88s/day]"
     ]
    },
    {
     "name": "stdout",
     "output_type": "stream",
     "text": [
      "77\n"
     ]
    },
    {
     "name": "stderr",
     "output_type": "stream",
     "text": [
      "\r",
      "Optimizing Portfolio:  39%|███▉      | 98/252 [07:57<12:30,  4.87s/day]"
     ]
    },
    {
     "name": "stdout",
     "output_type": "stream",
     "text": [
      "77\n"
     ]
    },
    {
     "name": "stderr",
     "output_type": "stream",
     "text": [
      "\r",
      "Optimizing Portfolio:  39%|███▉      | 99/252 [07:59<12:21,  4.85s/day]"
     ]
    },
    {
     "name": "stdout",
     "output_type": "stream",
     "text": [
      "77\n"
     ]
    },
    {
     "name": "stderr",
     "output_type": "stream",
     "text": [
      "\r",
      "Optimizing Portfolio:  40%|███▉      | 100/252 [08:03<12:15,  4.84s/day]"
     ]
    },
    {
     "name": "stdout",
     "output_type": "stream",
     "text": [
      "77\n"
     ]
    },
    {
     "name": "stderr",
     "output_type": "stream",
     "text": [
      "\r",
      "Optimizing Portfolio:  40%|████      | 101/252 [08:08<12:10,  4.84s/day]"
     ]
    },
    {
     "name": "stdout",
     "output_type": "stream",
     "text": [
      "77\n"
     ]
    },
    {
     "name": "stderr",
     "output_type": "stream",
     "text": [
      "\r",
      "Optimizing Portfolio:  40%|████      | 102/252 [08:13<12:05,  4.84s/day]"
     ]
    },
    {
     "name": "stdout",
     "output_type": "stream",
     "text": [
      "77\n"
     ]
    },
    {
     "name": "stderr",
     "output_type": "stream",
     "text": [
      "\r",
      "Optimizing Portfolio:  41%|████      | 103/252 [08:18<12:00,  4.84s/day]"
     ]
    },
    {
     "name": "stdout",
     "output_type": "stream",
     "text": [
      "77\n"
     ]
    },
    {
     "name": "stderr",
     "output_type": "stream",
     "text": [
      "\r",
      "Optimizing Portfolio:  41%|████▏     | 104/252 [08:22<11:55,  4.83s/day]"
     ]
    },
    {
     "name": "stdout",
     "output_type": "stream",
     "text": [
      "77\n"
     ]
    },
    {
     "name": "stderr",
     "output_type": "stream",
     "text": [
      "\r",
      "Optimizing Portfolio:  42%|████▏     | 105/252 [08:28<11:51,  4.84s/day]"
     ]
    },
    {
     "name": "stdout",
     "output_type": "stream",
     "text": [
      "77\n"
     ]
    },
    {
     "name": "stderr",
     "output_type": "stream",
     "text": [
      "\r",
      "Optimizing Portfolio:  42%|████▏     | 106/252 [08:32<11:46,  4.84s/day]"
     ]
    },
    {
     "name": "stdout",
     "output_type": "stream",
     "text": [
      "77\n"
     ]
    },
    {
     "name": "stderr",
     "output_type": "stream",
     "text": [
      "\r",
      "Optimizing Portfolio:  42%|████▏     | 107/252 [08:38<11:42,  4.85s/day]"
     ]
    },
    {
     "name": "stdout",
     "output_type": "stream",
     "text": [
      "77\n"
     ]
    },
    {
     "name": "stderr",
     "output_type": "stream",
     "text": [
      "\r",
      "Optimizing Portfolio:  43%|████▎     | 108/252 [08:43<11:38,  4.85s/day]"
     ]
    },
    {
     "name": "stdout",
     "output_type": "stream",
     "text": [
      "77\n"
     ]
    },
    {
     "name": "stderr",
     "output_type": "stream",
     "text": [
      "\r",
      "Optimizing Portfolio:  43%|████▎     | 109/252 [08:48<11:33,  4.85s/day]"
     ]
    },
    {
     "name": "stdout",
     "output_type": "stream",
     "text": [
      "77\n"
     ]
    },
    {
     "name": "stderr",
     "output_type": "stream",
     "text": [
      "\r",
      "Optimizing Portfolio:  44%|████▎     | 110/252 [08:53<11:29,  4.85s/day]"
     ]
    },
    {
     "name": "stdout",
     "output_type": "stream",
     "text": [
      "77\n"
     ]
    },
    {
     "name": "stderr",
     "output_type": "stream",
     "text": [
      "\r",
      "Optimizing Portfolio:  44%|████▍     | 111/252 [09:02<11:28,  4.88s/day]"
     ]
    },
    {
     "name": "stdout",
     "output_type": "stream",
     "text": [
      "77\n"
     ]
    },
    {
     "name": "stderr",
     "output_type": "stream",
     "text": [
      "\r",
      "Optimizing Portfolio:  44%|████▍     | 112/252 [09:09<11:26,  4.90s/day]"
     ]
    },
    {
     "name": "stdout",
     "output_type": "stream",
     "text": [
      "77\n"
     ]
    },
    {
     "name": "stderr",
     "output_type": "stream",
     "text": [
      "\r",
      "Optimizing Portfolio:  45%|████▍     | 113/252 [09:16<11:24,  4.92s/day]"
     ]
    },
    {
     "name": "stdout",
     "output_type": "stream",
     "text": [
      "77\n"
     ]
    },
    {
     "name": "stderr",
     "output_type": "stream",
     "text": [
      "\r",
      "Optimizing Portfolio:  45%|████▌     | 114/252 [09:26<11:25,  4.97s/day]"
     ]
    },
    {
     "name": "stdout",
     "output_type": "stream",
     "text": [
      "77\n"
     ]
    },
    {
     "name": "stderr",
     "output_type": "stream",
     "text": [
      "\r",
      "Optimizing Portfolio:  46%|████▌     | 115/252 [09:33<11:23,  4.99s/day]"
     ]
    },
    {
     "name": "stdout",
     "output_type": "stream",
     "text": [
      "77\n"
     ]
    },
    {
     "name": "stderr",
     "output_type": "stream",
     "text": [
      "\r",
      "Optimizing Portfolio:  46%|████▌     | 116/252 [09:41<11:21,  5.01s/day]"
     ]
    },
    {
     "name": "stdout",
     "output_type": "stream",
     "text": [
      "77\n"
     ]
    },
    {
     "name": "stderr",
     "output_type": "stream",
     "text": [
      "\r",
      "Optimizing Portfolio:  46%|████▋     | 117/252 [09:49<11:19,  5.04s/day]"
     ]
    },
    {
     "name": "stdout",
     "output_type": "stream",
     "text": [
      "77\n"
     ]
    },
    {
     "name": "stderr",
     "output_type": "stream",
     "text": [
      "\r",
      "Optimizing Portfolio:  47%|████▋     | 118/252 [09:54<11:14,  5.04s/day]"
     ]
    },
    {
     "name": "stdout",
     "output_type": "stream",
     "text": [
      "77\n"
     ]
    },
    {
     "name": "stderr",
     "output_type": "stream",
     "text": [
      "\r",
      "Optimizing Portfolio:  47%|████▋     | 119/252 [09:59<11:09,  5.03s/day]"
     ]
    },
    {
     "name": "stdout",
     "output_type": "stream",
     "text": [
      "77\n"
     ]
    },
    {
     "name": "stderr",
     "output_type": "stream",
     "text": [
      "\r",
      "Optimizing Portfolio:  48%|████▊     | 120/252 [10:05<11:06,  5.05s/day]"
     ]
    },
    {
     "name": "stdout",
     "output_type": "stream",
     "text": [
      "77\n"
     ]
    },
    {
     "name": "stderr",
     "output_type": "stream",
     "text": [
      "\r",
      "Optimizing Portfolio:  48%|████▊     | 121/252 [10:12<11:03,  5.07s/day]"
     ]
    },
    {
     "name": "stdout",
     "output_type": "stream",
     "text": [
      "77\n"
     ]
    },
    {
     "name": "stderr",
     "output_type": "stream",
     "text": [
      "\r",
      "Optimizing Portfolio:  48%|████▊     | 122/252 [10:19<11:00,  5.08s/day]"
     ]
    },
    {
     "name": "stdout",
     "output_type": "stream",
     "text": [
      "77\n"
     ]
    },
    {
     "name": "stderr",
     "output_type": "stream",
     "text": [
      "\r",
      "Optimizing Portfolio:  49%|████▉     | 123/252 [10:25<10:56,  5.09s/day]"
     ]
    },
    {
     "name": "stdout",
     "output_type": "stream",
     "text": [
      "77\n"
     ]
    },
    {
     "name": "stderr",
     "output_type": "stream",
     "text": [
      "\r",
      "Optimizing Portfolio:  49%|████▉     | 124/252 [10:32<10:53,  5.10s/day]"
     ]
    },
    {
     "name": "stdout",
     "output_type": "stream",
     "text": [
      "77\n"
     ]
    },
    {
     "name": "stderr",
     "output_type": "stream",
     "text": [
      "\r",
      "Optimizing Portfolio:  50%|████▉     | 125/252 [10:38<10:48,  5.11s/day]"
     ]
    },
    {
     "name": "stdout",
     "output_type": "stream",
     "text": [
      "77\n"
     ]
    },
    {
     "name": "stderr",
     "output_type": "stream",
     "text": [
      "\r",
      "Optimizing Portfolio:  50%|█████     | 126/252 [10:42<10:42,  5.10s/day]"
     ]
    },
    {
     "name": "stdout",
     "output_type": "stream",
     "text": [
      "77\n"
     ]
    },
    {
     "name": "stderr",
     "output_type": "stream",
     "text": [
      "\r",
      "Optimizing Portfolio:  50%|█████     | 127/252 [10:47<10:36,  5.10s/day]"
     ]
    },
    {
     "name": "stdout",
     "output_type": "stream",
     "text": [
      "77\n"
     ]
    },
    {
     "name": "stderr",
     "output_type": "stream",
     "text": [
      "\r",
      "Optimizing Portfolio:  51%|█████     | 128/252 [10:52<10:32,  5.10s/day]"
     ]
    },
    {
     "name": "stdout",
     "output_type": "stream",
     "text": [
      "77\n"
     ]
    },
    {
     "name": "stderr",
     "output_type": "stream",
     "text": [
      "\r",
      "Optimizing Portfolio:  51%|█████     | 129/252 [10:58<10:27,  5.11s/day]"
     ]
    },
    {
     "name": "stdout",
     "output_type": "stream",
     "text": [
      "77\n"
     ]
    },
    {
     "name": "stderr",
     "output_type": "stream",
     "text": [
      "\r",
      "Optimizing Portfolio:  52%|█████▏    | 130/252 [11:03<10:22,  5.10s/day]"
     ]
    },
    {
     "name": "stdout",
     "output_type": "stream",
     "text": [
      "77\n"
     ]
    },
    {
     "name": "stderr",
     "output_type": "stream",
     "text": [
      "\r",
      "Optimizing Portfolio:  52%|█████▏    | 131/252 [11:08<10:17,  5.10s/day]"
     ]
    },
    {
     "name": "stdout",
     "output_type": "stream",
     "text": [
      "77\n"
     ]
    },
    {
     "name": "stderr",
     "output_type": "stream",
     "text": [
      "\r",
      "Optimizing Portfolio:  52%|█████▏    | 132/252 [11:12<10:11,  5.09s/day]"
     ]
    },
    {
     "name": "stdout",
     "output_type": "stream",
     "text": [
      "77\n"
     ]
    },
    {
     "name": "stderr",
     "output_type": "stream",
     "text": [
      "\r",
      "Optimizing Portfolio:  53%|█████▎    | 133/252 [11:16<10:05,  5.09s/day]"
     ]
    },
    {
     "name": "stdout",
     "output_type": "stream",
     "text": [
      "77\n"
     ]
    },
    {
     "name": "stderr",
     "output_type": "stream",
     "text": [
      "\r",
      "Optimizing Portfolio:  53%|█████▎    | 134/252 [11:21<09:59,  5.08s/day]"
     ]
    },
    {
     "name": "stdout",
     "output_type": "stream",
     "text": [
      "77\n"
     ]
    },
    {
     "name": "stderr",
     "output_type": "stream",
     "text": [
      "\r",
      "Optimizing Portfolio:  54%|█████▎    | 135/252 [11:25<09:53,  5.07s/day]"
     ]
    },
    {
     "name": "stdout",
     "output_type": "stream",
     "text": [
      "77\n"
     ]
    },
    {
     "name": "stderr",
     "output_type": "stream",
     "text": [
      "\r",
      "Optimizing Portfolio:  54%|█████▍    | 136/252 [11:29<09:48,  5.07s/day]"
     ]
    },
    {
     "name": "stdout",
     "output_type": "stream",
     "text": [
      "77\n"
     ]
    },
    {
     "name": "stderr",
     "output_type": "stream",
     "text": [
      "\r",
      "Optimizing Portfolio:  54%|█████▍    | 137/252 [11:34<09:42,  5.07s/day]"
     ]
    },
    {
     "name": "stdout",
     "output_type": "stream",
     "text": [
      "77\n"
     ]
    },
    {
     "name": "stderr",
     "output_type": "stream",
     "text": [
      "\r",
      "Optimizing Portfolio:  55%|█████▍    | 138/252 [11:38<09:36,  5.06s/day]"
     ]
    },
    {
     "name": "stdout",
     "output_type": "stream",
     "text": [
      "77\n"
     ]
    },
    {
     "name": "stderr",
     "output_type": "stream",
     "text": [
      "\r",
      "Optimizing Portfolio:  55%|█████▌    | 139/252 [11:42<09:31,  5.06s/day]"
     ]
    },
    {
     "name": "stdout",
     "output_type": "stream",
     "text": [
      "77\n"
     ]
    },
    {
     "name": "stderr",
     "output_type": "stream",
     "text": [
      "\r",
      "Optimizing Portfolio:  56%|█████▌    | 140/252 [11:46<09:25,  5.05s/day]"
     ]
    },
    {
     "name": "stdout",
     "output_type": "stream",
     "text": [
      "77\n"
     ]
    },
    {
     "name": "stderr",
     "output_type": "stream",
     "text": [
      "\r",
      "Optimizing Portfolio:  56%|█████▌    | 141/252 [11:51<09:20,  5.05s/day]"
     ]
    },
    {
     "name": "stdout",
     "output_type": "stream",
     "text": [
      "77\n"
     ]
    },
    {
     "name": "stderr",
     "output_type": "stream",
     "text": [
      "\r",
      "Optimizing Portfolio:  56%|█████▋    | 142/252 [11:55<09:14,  5.04s/day]"
     ]
    },
    {
     "name": "stdout",
     "output_type": "stream",
     "text": [
      "77\n"
     ]
    },
    {
     "name": "stderr",
     "output_type": "stream",
     "text": [
      "\r",
      "Optimizing Portfolio:  57%|█████▋    | 143/252 [12:00<09:09,  5.04s/day]"
     ]
    },
    {
     "name": "stdout",
     "output_type": "stream",
     "text": [
      "77\n"
     ]
    },
    {
     "name": "stderr",
     "output_type": "stream",
     "text": [
      "\r",
      "Optimizing Portfolio:  57%|█████▋    | 144/252 [12:05<09:03,  5.03s/day]"
     ]
    },
    {
     "name": "stdout",
     "output_type": "stream",
     "text": [
      "77\n"
     ]
    },
    {
     "name": "stderr",
     "output_type": "stream",
     "text": [
      "\r",
      "Optimizing Portfolio:  58%|█████▊    | 145/252 [12:10<08:58,  5.04s/day]"
     ]
    },
    {
     "name": "stdout",
     "output_type": "stream",
     "text": [
      "77\n"
     ]
    },
    {
     "name": "stderr",
     "output_type": "stream",
     "text": [
      "\r",
      "Optimizing Portfolio:  58%|█████▊    | 146/252 [12:14<08:53,  5.03s/day]"
     ]
    },
    {
     "name": "stdout",
     "output_type": "stream",
     "text": [
      "77\n"
     ]
    },
    {
     "name": "stderr",
     "output_type": "stream",
     "text": [
      "\r",
      "Optimizing Portfolio:  58%|█████▊    | 147/252 [12:18<08:47,  5.03s/day]"
     ]
    },
    {
     "name": "stdout",
     "output_type": "stream",
     "text": [
      "77\n"
     ]
    },
    {
     "name": "stderr",
     "output_type": "stream",
     "text": [
      "\r",
      "Optimizing Portfolio:  59%|█████▊    | 148/252 [12:23<08:42,  5.02s/day]"
     ]
    },
    {
     "name": "stdout",
     "output_type": "stream",
     "text": [
      "77\n"
     ]
    },
    {
     "name": "stderr",
     "output_type": "stream",
     "text": [
      "\r",
      "Optimizing Portfolio:  59%|█████▉    | 149/252 [12:27<08:36,  5.02s/day]"
     ]
    },
    {
     "name": "stdout",
     "output_type": "stream",
     "text": [
      "77\n"
     ]
    },
    {
     "name": "stderr",
     "output_type": "stream",
     "text": [
      "\r",
      "Optimizing Portfolio:  60%|█████▉    | 150/252 [12:32<08:31,  5.01s/day]"
     ]
    },
    {
     "name": "stdout",
     "output_type": "stream",
     "text": [
      "77\n"
     ]
    },
    {
     "name": "stderr",
     "output_type": "stream",
     "text": [
      "\r",
      "Optimizing Portfolio:  60%|█████▉    | 151/252 [12:36<08:25,  5.01s/day]"
     ]
    },
    {
     "name": "stdout",
     "output_type": "stream",
     "text": [
      "77\n"
     ]
    },
    {
     "name": "stderr",
     "output_type": "stream",
     "text": [
      "\r",
      "Optimizing Portfolio:  60%|██████    | 152/252 [12:40<08:20,  5.01s/day]"
     ]
    },
    {
     "name": "stdout",
     "output_type": "stream",
     "text": [
      "77\n"
     ]
    },
    {
     "name": "stderr",
     "output_type": "stream",
     "text": [
      "\r",
      "Optimizing Portfolio:  61%|██████    | 153/252 [12:45<08:15,  5.01s/day]"
     ]
    },
    {
     "name": "stdout",
     "output_type": "stream",
     "text": [
      "77\n"
     ]
    },
    {
     "name": "stderr",
     "output_type": "stream",
     "text": [
      "\r",
      "Optimizing Portfolio:  61%|██████    | 154/252 [12:51<08:10,  5.01s/day]"
     ]
    },
    {
     "name": "stdout",
     "output_type": "stream",
     "text": [
      "77\n"
     ]
    },
    {
     "name": "stderr",
     "output_type": "stream",
     "text": [
      "\r",
      "Optimizing Portfolio:  62%|██████▏   | 155/252 [12:57<08:06,  5.02s/day]"
     ]
    },
    {
     "name": "stdout",
     "output_type": "stream",
     "text": [
      "77\n"
     ]
    },
    {
     "name": "stderr",
     "output_type": "stream",
     "text": [
      "\r",
      "Optimizing Portfolio:  62%|██████▏   | 156/252 [13:03<08:01,  5.02s/day]"
     ]
    },
    {
     "name": "stdout",
     "output_type": "stream",
     "text": [
      "77\n"
     ]
    },
    {
     "name": "stderr",
     "output_type": "stream",
     "text": [
      "\r",
      "Optimizing Portfolio:  62%|██████▏   | 157/252 [13:07<07:56,  5.02s/day]"
     ]
    },
    {
     "name": "stdout",
     "output_type": "stream",
     "text": [
      "77\n"
     ]
    },
    {
     "name": "stderr",
     "output_type": "stream",
     "text": [
      "\r",
      "Optimizing Portfolio:  63%|██████▎   | 158/252 [13:12<07:51,  5.02s/day]"
     ]
    },
    {
     "name": "stdout",
     "output_type": "stream",
     "text": [
      "77\n"
     ]
    },
    {
     "name": "stderr",
     "output_type": "stream",
     "text": [
      "\r",
      "Optimizing Portfolio:  63%|██████▎   | 159/252 [13:16<07:46,  5.01s/day]"
     ]
    },
    {
     "name": "stdout",
     "output_type": "stream",
     "text": [
      "77\n"
     ]
    },
    {
     "name": "stderr",
     "output_type": "stream",
     "text": [
      "\r",
      "Optimizing Portfolio:  63%|██████▎   | 160/252 [13:21<07:41,  5.01s/day]"
     ]
    },
    {
     "name": "stdout",
     "output_type": "stream",
     "text": [
      "77\n"
     ]
    },
    {
     "name": "stderr",
     "output_type": "stream",
     "text": [
      "\r",
      "Optimizing Portfolio:  64%|██████▍   | 161/252 [13:29<07:37,  5.03s/day]"
     ]
    },
    {
     "name": "stdout",
     "output_type": "stream",
     "text": [
      "77\n"
     ]
    },
    {
     "name": "stderr",
     "output_type": "stream",
     "text": [
      "\r",
      "Optimizing Portfolio:  64%|██████▍   | 162/252 [13:34<07:32,  5.03s/day]"
     ]
    },
    {
     "name": "stdout",
     "output_type": "stream",
     "text": [
      "77\n"
     ]
    },
    {
     "name": "stderr",
     "output_type": "stream",
     "text": [
      "\r",
      "Optimizing Portfolio:  65%|██████▍   | 163/252 [13:38<07:26,  5.02s/day]"
     ]
    },
    {
     "name": "stdout",
     "output_type": "stream",
     "text": [
      "77\n"
     ]
    },
    {
     "name": "stderr",
     "output_type": "stream",
     "text": [
      "\r",
      "Optimizing Portfolio:  65%|██████▌   | 164/252 [13:42<07:21,  5.01s/day]"
     ]
    },
    {
     "name": "stdout",
     "output_type": "stream",
     "text": [
      "77\n"
     ]
    },
    {
     "name": "stderr",
     "output_type": "stream",
     "text": [
      "\r",
      "Optimizing Portfolio:  65%|██████▌   | 165/252 [13:46<07:15,  5.01s/day]"
     ]
    },
    {
     "name": "stdout",
     "output_type": "stream",
     "text": [
      "77\n"
     ]
    },
    {
     "name": "stderr",
     "output_type": "stream",
     "text": [
      "\r",
      "Optimizing Portfolio:  66%|██████▌   | 166/252 [13:52<07:11,  5.01s/day]"
     ]
    },
    {
     "name": "stdout",
     "output_type": "stream",
     "text": [
      "77\n"
     ]
    },
    {
     "name": "stderr",
     "output_type": "stream",
     "text": [
      "\r",
      "Optimizing Portfolio:  66%|██████▋   | 167/252 [13:57<07:06,  5.02s/day]"
     ]
    },
    {
     "name": "stdout",
     "output_type": "stream",
     "text": [
      "77\n"
     ]
    },
    {
     "name": "stderr",
     "output_type": "stream",
     "text": [
      "\r",
      "Optimizing Portfolio:  67%|██████▋   | 168/252 [14:03<07:01,  5.02s/day]"
     ]
    },
    {
     "name": "stdout",
     "output_type": "stream",
     "text": [
      "77\n"
     ]
    },
    {
     "name": "stderr",
     "output_type": "stream",
     "text": [
      "\r",
      "Optimizing Portfolio:  67%|██████▋   | 169/252 [14:08<06:56,  5.02s/day]"
     ]
    },
    {
     "name": "stdout",
     "output_type": "stream",
     "text": [
      "77\n"
     ]
    },
    {
     "name": "stderr",
     "output_type": "stream",
     "text": [
      "\r",
      "Optimizing Portfolio:  67%|██████▋   | 170/252 [14:14<06:52,  5.02s/day]"
     ]
    },
    {
     "name": "stdout",
     "output_type": "stream",
     "text": [
      "77\n"
     ]
    },
    {
     "name": "stderr",
     "output_type": "stream",
     "text": [
      "\r",
      "Optimizing Portfolio:  68%|██████▊   | 171/252 [14:19<06:47,  5.03s/day]"
     ]
    },
    {
     "name": "stdout",
     "output_type": "stream",
     "text": [
      "77\n"
     ]
    },
    {
     "name": "stderr",
     "output_type": "stream",
     "text": [
      "\r",
      "Optimizing Portfolio:  68%|██████▊   | 172/252 [14:25<06:42,  5.03s/day]"
     ]
    },
    {
     "name": "stdout",
     "output_type": "stream",
     "text": [
      "77\n"
     ]
    },
    {
     "name": "stderr",
     "output_type": "stream",
     "text": [
      "\r",
      "Optimizing Portfolio:  69%|██████▊   | 173/252 [14:32<06:38,  5.04s/day]"
     ]
    },
    {
     "name": "stdout",
     "output_type": "stream",
     "text": [
      "77\n"
     ]
    },
    {
     "name": "stderr",
     "output_type": "stream",
     "text": [
      "\r",
      "Optimizing Portfolio:  69%|██████▉   | 174/252 [14:39<06:34,  5.06s/day]"
     ]
    },
    {
     "name": "stdout",
     "output_type": "stream",
     "text": [
      "77\n"
     ]
    },
    {
     "name": "stderr",
     "output_type": "stream",
     "text": [
      "\r",
      "Optimizing Portfolio:  69%|██████▉   | 175/252 [14:45<06:29,  5.06s/day]"
     ]
    },
    {
     "name": "stdout",
     "output_type": "stream",
     "text": [
      "77\n"
     ]
    },
    {
     "name": "stderr",
     "output_type": "stream",
     "text": [
      "\r",
      "Optimizing Portfolio:  70%|██████▉   | 176/252 [14:51<06:24,  5.06s/day]"
     ]
    },
    {
     "name": "stdout",
     "output_type": "stream",
     "text": [
      "77\n"
     ]
    },
    {
     "name": "stderr",
     "output_type": "stream",
     "text": [
      "\r",
      "Optimizing Portfolio:  70%|███████   | 177/252 [14:56<06:20,  5.07s/day]"
     ]
    },
    {
     "name": "stdout",
     "output_type": "stream",
     "text": [
      "77\n"
     ]
    },
    {
     "name": "stderr",
     "output_type": "stream",
     "text": [
      "\r",
      "Optimizing Portfolio:  71%|███████   | 178/252 [15:05<06:16,  5.09s/day]"
     ]
    },
    {
     "name": "stdout",
     "output_type": "stream",
     "text": [
      "77\n"
     ]
    },
    {
     "name": "stderr",
     "output_type": "stream",
     "text": [
      "\r",
      "Optimizing Portfolio:  71%|███████   | 179/252 [15:12<06:12,  5.10s/day]"
     ]
    },
    {
     "name": "stdout",
     "output_type": "stream",
     "text": [
      "77\n"
     ]
    },
    {
     "name": "stderr",
     "output_type": "stream",
     "text": [
      "\r",
      "Optimizing Portfolio:  71%|███████▏  | 180/252 [15:20<06:08,  5.11s/day]"
     ]
    },
    {
     "name": "stdout",
     "output_type": "stream",
     "text": [
      "77\n"
     ]
    },
    {
     "name": "stderr",
     "output_type": "stream",
     "text": [
      "\r",
      "Optimizing Portfolio:  72%|███████▏  | 181/252 [15:26<06:03,  5.12s/day]"
     ]
    },
    {
     "name": "stdout",
     "output_type": "stream",
     "text": [
      "77\n"
     ]
    },
    {
     "name": "stderr",
     "output_type": "stream",
     "text": [
      "\r",
      "Optimizing Portfolio:  72%|███████▏  | 182/252 [15:32<05:58,  5.12s/day]"
     ]
    },
    {
     "name": "stdout",
     "output_type": "stream",
     "text": [
      "77\n"
     ]
    },
    {
     "name": "stderr",
     "output_type": "stream",
     "text": [
      "\r",
      "Optimizing Portfolio:  73%|███████▎  | 183/252 [15:37<05:53,  5.13s/day]"
     ]
    },
    {
     "name": "stdout",
     "output_type": "stream",
     "text": [
      "77\n"
     ]
    },
    {
     "name": "stderr",
     "output_type": "stream",
     "text": [
      "\r",
      "Optimizing Portfolio:  73%|███████▎  | 184/252 [15:44<05:48,  5.13s/day]"
     ]
    },
    {
     "name": "stdout",
     "output_type": "stream",
     "text": [
      "77\n"
     ]
    },
    {
     "name": "stderr",
     "output_type": "stream",
     "text": [
      "\r",
      "Optimizing Portfolio:  73%|███████▎  | 185/252 [15:50<05:44,  5.14s/day]"
     ]
    },
    {
     "name": "stdout",
     "output_type": "stream",
     "text": [
      "77\n"
     ]
    },
    {
     "name": "stderr",
     "output_type": "stream",
     "text": [
      "\r",
      "Optimizing Portfolio:  74%|███████▍  | 186/252 [15:58<05:39,  5.15s/day]"
     ]
    },
    {
     "name": "stdout",
     "output_type": "stream",
     "text": [
      "77\n"
     ]
    },
    {
     "name": "stderr",
     "output_type": "stream",
     "text": [
      "\r",
      "Optimizing Portfolio:  74%|███████▍  | 187/252 [16:04<05:35,  5.16s/day]"
     ]
    },
    {
     "name": "stdout",
     "output_type": "stream",
     "text": [
      "77\n"
     ]
    },
    {
     "name": "stderr",
     "output_type": "stream",
     "text": [
      "\r",
      "Optimizing Portfolio:  75%|███████▍  | 188/252 [16:11<05:30,  5.17s/day]"
     ]
    },
    {
     "name": "stdout",
     "output_type": "stream",
     "text": [
      "77\n"
     ]
    },
    {
     "name": "stderr",
     "output_type": "stream",
     "text": [
      "\r",
      "Optimizing Portfolio:  75%|███████▌  | 189/252 [16:18<05:26,  5.17s/day]"
     ]
    },
    {
     "name": "stdout",
     "output_type": "stream",
     "text": [
      "77\n"
     ]
    },
    {
     "name": "stderr",
     "output_type": "stream",
     "text": [
      "\r",
      "Optimizing Portfolio:  75%|███████▌  | 190/252 [16:24<05:21,  5.18s/day]"
     ]
    },
    {
     "name": "stdout",
     "output_type": "stream",
     "text": [
      "77\n"
     ]
    },
    {
     "name": "stderr",
     "output_type": "stream",
     "text": [
      "\r",
      "Optimizing Portfolio:  76%|███████▌  | 191/252 [16:30<05:16,  5.18s/day]"
     ]
    },
    {
     "name": "stdout",
     "output_type": "stream",
     "text": [
      "77\n"
     ]
    },
    {
     "name": "stderr",
     "output_type": "stream",
     "text": [
      "\r",
      "Optimizing Portfolio:  76%|███████▌  | 192/252 [16:36<05:11,  5.19s/day]"
     ]
    },
    {
     "name": "stdout",
     "output_type": "stream",
     "text": [
      "77\n"
     ]
    },
    {
     "name": "stderr",
     "output_type": "stream",
     "text": [
      "\r",
      "Optimizing Portfolio:  77%|███████▋  | 193/252 [16:42<05:06,  5.20s/day]"
     ]
    },
    {
     "name": "stdout",
     "output_type": "stream",
     "text": [
      "77\n"
     ]
    },
    {
     "name": "stderr",
     "output_type": "stream",
     "text": [
      "\r",
      "Optimizing Portfolio:  77%|███████▋  | 194/252 [16:49<05:01,  5.21s/day]"
     ]
    },
    {
     "name": "stdout",
     "output_type": "stream",
     "text": [
      "77\n"
     ]
    },
    {
     "name": "stderr",
     "output_type": "stream",
     "text": [
      "\r",
      "Optimizing Portfolio:  77%|███████▋  | 195/252 [16:56<04:56,  5.21s/day]"
     ]
    },
    {
     "name": "stdout",
     "output_type": "stream",
     "text": [
      "77\n"
     ]
    },
    {
     "name": "stderr",
     "output_type": "stream",
     "text": [
      "\r",
      "Optimizing Portfolio:  78%|███████▊  | 196/252 [17:02<04:52,  5.22s/day]"
     ]
    },
    {
     "name": "stdout",
     "output_type": "stream",
     "text": [
      "77\n"
     ]
    },
    {
     "name": "stderr",
     "output_type": "stream",
     "text": [
      "\r",
      "Optimizing Portfolio:  78%|███████▊  | 197/252 [17:09<04:47,  5.22s/day]"
     ]
    },
    {
     "name": "stdout",
     "output_type": "stream",
     "text": [
      "77\n"
     ]
    },
    {
     "name": "stderr",
     "output_type": "stream",
     "text": [
      "\r",
      "Optimizing Portfolio:  79%|███████▊  | 198/252 [17:15<04:42,  5.23s/day]"
     ]
    },
    {
     "name": "stdout",
     "output_type": "stream",
     "text": [
      "77\n"
     ]
    },
    {
     "name": "stderr",
     "output_type": "stream",
     "text": [
      "\r",
      "Optimizing Portfolio:  79%|███████▉  | 199/252 [17:21<04:37,  5.23s/day]"
     ]
    },
    {
     "name": "stdout",
     "output_type": "stream",
     "text": [
      "77\n"
     ]
    },
    {
     "name": "stderr",
     "output_type": "stream",
     "text": [
      "\r",
      "Optimizing Portfolio:  79%|███████▉  | 200/252 [17:24<04:31,  5.22s/day]"
     ]
    },
    {
     "name": "stdout",
     "output_type": "stream",
     "text": [
      "77\n"
     ]
    },
    {
     "name": "stderr",
     "output_type": "stream",
     "text": [
      "\r",
      "Optimizing Portfolio:  80%|███████▉  | 201/252 [17:32<04:27,  5.24s/day]"
     ]
    },
    {
     "name": "stdout",
     "output_type": "stream",
     "text": [
      "77\n"
     ]
    },
    {
     "name": "stderr",
     "output_type": "stream",
     "text": [
      "\r",
      "Optimizing Portfolio:  80%|████████  | 202/252 [17:35<04:21,  5.23s/day]"
     ]
    },
    {
     "name": "stdout",
     "output_type": "stream",
     "text": [
      "77\n"
     ]
    },
    {
     "name": "stderr",
     "output_type": "stream",
     "text": [
      "\r",
      "Optimizing Portfolio:  81%|████████  | 203/252 [17:39<04:15,  5.22s/day]"
     ]
    },
    {
     "name": "stdout",
     "output_type": "stream",
     "text": [
      "77\n"
     ]
    },
    {
     "name": "stderr",
     "output_type": "stream",
     "text": [
      "\r",
      "Optimizing Portfolio:  81%|████████  | 204/252 [17:42<04:10,  5.21s/day]"
     ]
    },
    {
     "name": "stdout",
     "output_type": "stream",
     "text": [
      "77\n"
     ]
    },
    {
     "name": "stderr",
     "output_type": "stream",
     "text": [
      "\r",
      "Optimizing Portfolio:  81%|████████▏ | 205/252 [17:46<04:04,  5.20s/day]"
     ]
    },
    {
     "name": "stdout",
     "output_type": "stream",
     "text": [
      "77\n"
     ]
    },
    {
     "name": "stderr",
     "output_type": "stream",
     "text": [
      "\r",
      "Optimizing Portfolio:  82%|████████▏ | 206/252 [17:51<03:59,  5.20s/day]"
     ]
    },
    {
     "name": "stdout",
     "output_type": "stream",
     "text": [
      "77\n"
     ]
    },
    {
     "name": "stderr",
     "output_type": "stream",
     "text": [
      "\r",
      "Optimizing Portfolio:  82%|████████▏ | 207/252 [17:54<03:53,  5.19s/day]"
     ]
    },
    {
     "name": "stdout",
     "output_type": "stream",
     "text": [
      "77\n"
     ]
    },
    {
     "name": "stderr",
     "output_type": "stream",
     "text": [
      "\r",
      "Optimizing Portfolio:  83%|████████▎ | 208/252 [17:58<03:48,  5.19s/day]"
     ]
    },
    {
     "name": "stdout",
     "output_type": "stream",
     "text": [
      "77\n"
     ]
    },
    {
     "name": "stderr",
     "output_type": "stream",
     "text": [
      "\r",
      "Optimizing Portfolio:  83%|████████▎ | 209/252 [18:03<03:42,  5.18s/day]"
     ]
    },
    {
     "name": "stdout",
     "output_type": "stream",
     "text": [
      "77\n"
     ]
    },
    {
     "name": "stderr",
     "output_type": "stream",
     "text": [
      "\r",
      "Optimizing Portfolio:  83%|████████▎ | 210/252 [18:07<03:37,  5.18s/day]"
     ]
    },
    {
     "name": "stdout",
     "output_type": "stream",
     "text": [
      "77\n"
     ]
    },
    {
     "name": "stderr",
     "output_type": "stream",
     "text": [
      "\r",
      "Optimizing Portfolio:  84%|████████▎ | 211/252 [18:11<03:32,  5.17s/day]"
     ]
    },
    {
     "name": "stdout",
     "output_type": "stream",
     "text": [
      "77\n"
     ]
    },
    {
     "name": "stderr",
     "output_type": "stream",
     "text": [
      "\r",
      "Optimizing Portfolio:  84%|████████▍ | 212/252 [18:15<03:26,  5.17s/day]"
     ]
    },
    {
     "name": "stdout",
     "output_type": "stream",
     "text": [
      "77\n"
     ]
    },
    {
     "name": "stderr",
     "output_type": "stream",
     "text": [
      "\r",
      "Optimizing Portfolio:  85%|████████▍ | 213/252 [18:18<03:21,  5.16s/day]"
     ]
    },
    {
     "name": "stdout",
     "output_type": "stream",
     "text": [
      "77\n"
     ]
    },
    {
     "name": "stderr",
     "output_type": "stream",
     "text": [
      "\r",
      "Optimizing Portfolio:  85%|████████▍ | 214/252 [18:22<03:15,  5.15s/day]"
     ]
    },
    {
     "name": "stdout",
     "output_type": "stream",
     "text": [
      "77\n"
     ]
    },
    {
     "name": "stderr",
     "output_type": "stream",
     "text": [
      "\r",
      "Optimizing Portfolio:  85%|████████▌ | 215/252 [18:28<03:10,  5.15s/day]"
     ]
    },
    {
     "name": "stdout",
     "output_type": "stream",
     "text": [
      "77\n"
     ]
    },
    {
     "name": "stderr",
     "output_type": "stream",
     "text": [
      "\r",
      "Optimizing Portfolio:  86%|████████▌ | 216/252 [18:33<03:05,  5.15s/day]"
     ]
    },
    {
     "name": "stdout",
     "output_type": "stream",
     "text": [
      "77\n"
     ]
    },
    {
     "name": "stderr",
     "output_type": "stream",
     "text": [
      "\r",
      "Optimizing Portfolio:  86%|████████▌ | 217/252 [18:39<03:00,  5.16s/day]"
     ]
    },
    {
     "name": "stdout",
     "output_type": "stream",
     "text": [
      "77\n"
     ]
    },
    {
     "name": "stderr",
     "output_type": "stream",
     "text": [
      "\r",
      "Optimizing Portfolio:  87%|████████▋ | 218/252 [18:47<02:55,  5.17s/day]"
     ]
    },
    {
     "name": "stdout",
     "output_type": "stream",
     "text": [
      "77\n"
     ]
    },
    {
     "name": "stderr",
     "output_type": "stream",
     "text": [
      "\r",
      "Optimizing Portfolio:  87%|████████▋ | 219/252 [18:53<02:50,  5.18s/day]"
     ]
    },
    {
     "name": "stdout",
     "output_type": "stream",
     "text": [
      "77\n"
     ]
    },
    {
     "name": "stderr",
     "output_type": "stream",
     "text": [
      "\r",
      "Optimizing Portfolio:  87%|████████▋ | 220/252 [18:59<02:45,  5.18s/day]"
     ]
    },
    {
     "name": "stdout",
     "output_type": "stream",
     "text": [
      "77\n"
     ]
    },
    {
     "name": "stderr",
     "output_type": "stream",
     "text": [
      "\r",
      "Optimizing Portfolio:  88%|████████▊ | 221/252 [19:04<02:40,  5.18s/day]"
     ]
    },
    {
     "name": "stdout",
     "output_type": "stream",
     "text": [
      "77\n"
     ]
    },
    {
     "name": "stderr",
     "output_type": "stream",
     "text": [
      "\r",
      "Optimizing Portfolio:  88%|████████▊ | 222/252 [19:08<02:35,  5.17s/day]"
     ]
    },
    {
     "name": "stdout",
     "output_type": "stream",
     "text": [
      "77\n"
     ]
    },
    {
     "name": "stderr",
     "output_type": "stream",
     "text": [
      "\r",
      "Optimizing Portfolio:  88%|████████▊ | 223/252 [19:13<02:30,  5.17s/day]"
     ]
    },
    {
     "name": "stdout",
     "output_type": "stream",
     "text": [
      "77\n"
     ]
    },
    {
     "name": "stderr",
     "output_type": "stream",
     "text": [
      "\r",
      "Optimizing Portfolio:  89%|████████▉ | 224/252 [19:19<02:24,  5.18s/day]"
     ]
    },
    {
     "name": "stdout",
     "output_type": "stream",
     "text": [
      "77\n"
     ]
    },
    {
     "name": "stderr",
     "output_type": "stream",
     "text": [
      "\r",
      "Optimizing Portfolio:  89%|████████▉ | 225/252 [19:24<02:19,  5.17s/day]"
     ]
    },
    {
     "name": "stdout",
     "output_type": "stream",
     "text": [
      "77\n"
     ]
    },
    {
     "name": "stderr",
     "output_type": "stream",
     "text": [
      "\r",
      "Optimizing Portfolio:  90%|████████▉ | 226/252 [19:30<02:14,  5.18s/day]"
     ]
    },
    {
     "name": "stdout",
     "output_type": "stream",
     "text": [
      "77\n"
     ]
    },
    {
     "name": "stderr",
     "output_type": "stream",
     "text": [
      "\r",
      "Optimizing Portfolio:  90%|█████████ | 227/252 [19:36<02:09,  5.18s/day]"
     ]
    },
    {
     "name": "stdout",
     "output_type": "stream",
     "text": [
      "77\n"
     ]
    },
    {
     "name": "stderr",
     "output_type": "stream",
     "text": [
      "\r",
      "Optimizing Portfolio:  90%|█████████ | 228/252 [19:42<02:04,  5.19s/day]"
     ]
    },
    {
     "name": "stdout",
     "output_type": "stream",
     "text": [
      "77\n"
     ]
    },
    {
     "name": "stderr",
     "output_type": "stream",
     "text": [
      "\r",
      "Optimizing Portfolio:  91%|█████████ | 229/252 [19:48<01:59,  5.19s/day]"
     ]
    },
    {
     "name": "stdout",
     "output_type": "stream",
     "text": [
      "77\n"
     ]
    },
    {
     "name": "stderr",
     "output_type": "stream",
     "text": [
      "\r",
      "Optimizing Portfolio:  91%|█████████▏| 230/252 [19:58<01:54,  5.21s/day]"
     ]
    },
    {
     "name": "stdout",
     "output_type": "stream",
     "text": [
      "77\n"
     ]
    },
    {
     "name": "stderr",
     "output_type": "stream",
     "text": [
      "\r",
      "Optimizing Portfolio:  92%|█████████▏| 231/252 [20:04<01:49,  5.21s/day]"
     ]
    },
    {
     "name": "stdout",
     "output_type": "stream",
     "text": [
      "77\n"
     ]
    },
    {
     "name": "stderr",
     "output_type": "stream",
     "text": [
      "\r",
      "Optimizing Portfolio:  92%|█████████▏| 232/252 [20:09<01:44,  5.21s/day]"
     ]
    },
    {
     "name": "stdout",
     "output_type": "stream",
     "text": [
      "77\n"
     ]
    },
    {
     "name": "stderr",
     "output_type": "stream",
     "text": [
      "\r",
      "Optimizing Portfolio:  92%|█████████▏| 233/252 [20:15<01:39,  5.22s/day]"
     ]
    },
    {
     "name": "stdout",
     "output_type": "stream",
     "text": [
      "77\n"
     ]
    },
    {
     "name": "stderr",
     "output_type": "stream",
     "text": [
      "\r",
      "Optimizing Portfolio:  93%|█████████▎| 234/252 [20:19<01:33,  5.21s/day]"
     ]
    },
    {
     "name": "stdout",
     "output_type": "stream",
     "text": [
      "77\n"
     ]
    },
    {
     "name": "stderr",
     "output_type": "stream",
     "text": [
      "\r",
      "Optimizing Portfolio:  93%|█████████▎| 235/252 [20:25<01:28,  5.21s/day]"
     ]
    },
    {
     "name": "stdout",
     "output_type": "stream",
     "text": [
      "77\n"
     ]
    },
    {
     "name": "stderr",
     "output_type": "stream",
     "text": [
      "\r",
      "Optimizing Portfolio:  94%|█████████▎| 236/252 [20:30<01:23,  5.21s/day]"
     ]
    },
    {
     "name": "stdout",
     "output_type": "stream",
     "text": [
      "77\n"
     ]
    },
    {
     "name": "stderr",
     "output_type": "stream",
     "text": [
      "\r",
      "Optimizing Portfolio:  94%|█████████▍| 237/252 [20:39<01:18,  5.23s/day]"
     ]
    },
    {
     "name": "stdout",
     "output_type": "stream",
     "text": [
      "77\n"
     ]
    },
    {
     "name": "stderr",
     "output_type": "stream",
     "text": [
      "\r",
      "Optimizing Portfolio:  94%|█████████▍| 238/252 [20:46<01:13,  5.24s/day]"
     ]
    },
    {
     "name": "stdout",
     "output_type": "stream",
     "text": [
      "77\n"
     ]
    },
    {
     "name": "stderr",
     "output_type": "stream",
     "text": [
      "\r",
      "Optimizing Portfolio:  95%|█████████▍| 239/252 [20:55<01:08,  5.25s/day]"
     ]
    },
    {
     "name": "stdout",
     "output_type": "stream",
     "text": [
      "77\n"
     ]
    },
    {
     "name": "stderr",
     "output_type": "stream",
     "text": [
      "\r",
      "Optimizing Portfolio:  95%|█████████▌| 240/252 [21:02<01:03,  5.26s/day]"
     ]
    },
    {
     "name": "stdout",
     "output_type": "stream",
     "text": [
      "77\n"
     ]
    },
    {
     "name": "stderr",
     "output_type": "stream",
     "text": [
      "\r",
      "Optimizing Portfolio:  96%|█████████▌| 241/252 [21:10<00:57,  5.27s/day]"
     ]
    },
    {
     "name": "stdout",
     "output_type": "stream",
     "text": [
      "77\n"
     ]
    },
    {
     "name": "stderr",
     "output_type": "stream",
     "text": [
      "\r",
      "Optimizing Portfolio:  96%|█████████▌| 242/252 [21:19<00:52,  5.29s/day]"
     ]
    },
    {
     "name": "stdout",
     "output_type": "stream",
     "text": [
      "77\n"
     ]
    },
    {
     "name": "stderr",
     "output_type": "stream",
     "text": [
      "\r",
      "Optimizing Portfolio:  96%|█████████▋| 243/252 [21:28<00:47,  5.30s/day]"
     ]
    },
    {
     "name": "stdout",
     "output_type": "stream",
     "text": [
      "77\n"
     ]
    },
    {
     "name": "stderr",
     "output_type": "stream",
     "text": [
      "\r",
      "Optimizing Portfolio:  97%|█████████▋| 244/252 [21:36<00:42,  5.31s/day]"
     ]
    },
    {
     "name": "stdout",
     "output_type": "stream",
     "text": [
      "77\n"
     ]
    },
    {
     "name": "stderr",
     "output_type": "stream",
     "text": [
      "\r",
      "Optimizing Portfolio:  97%|█████████▋| 245/252 [21:45<00:37,  5.33s/day]"
     ]
    },
    {
     "name": "stdout",
     "output_type": "stream",
     "text": [
      "77\n"
     ]
    },
    {
     "name": "stderr",
     "output_type": "stream",
     "text": [
      "\r",
      "Optimizing Portfolio:  98%|█████████▊| 246/252 [21:51<00:31,  5.33s/day]"
     ]
    },
    {
     "name": "stdout",
     "output_type": "stream",
     "text": [
      "77\n"
     ]
    },
    {
     "name": "stderr",
     "output_type": "stream",
     "text": [
      "\r",
      "Optimizing Portfolio:  98%|█████████▊| 247/252 [21:58<00:26,  5.34s/day]"
     ]
    },
    {
     "name": "stdout",
     "output_type": "stream",
     "text": [
      "77\n"
     ]
    },
    {
     "name": "stderr",
     "output_type": "stream",
     "text": [
      "\r",
      "Optimizing Portfolio:  98%|█████████▊| 248/252 [22:06<00:21,  5.35s/day]"
     ]
    },
    {
     "name": "stdout",
     "output_type": "stream",
     "text": [
      "77\n"
     ]
    },
    {
     "name": "stderr",
     "output_type": "stream",
     "text": [
      "\r",
      "Optimizing Portfolio:  99%|█████████▉| 249/252 [22:15<00:16,  5.36s/day]"
     ]
    },
    {
     "name": "stdout",
     "output_type": "stream",
     "text": [
      "77\n"
     ]
    },
    {
     "name": "stderr",
     "output_type": "stream",
     "text": [
      "\r",
      "Optimizing Portfolio:  99%|█████████▉| 250/252 [22:22<00:10,  5.37s/day]"
     ]
    },
    {
     "name": "stdout",
     "output_type": "stream",
     "text": [
      "77\n"
     ]
    },
    {
     "name": "stderr",
     "output_type": "stream",
     "text": [
      "\r",
      "Optimizing Portfolio: 100%|█████████▉| 251/252 [22:30<00:05,  5.38s/day]"
     ]
    },
    {
     "name": "stdout",
     "output_type": "stream",
     "text": [
      "77\n"
     ]
    },
    {
     "name": "stderr",
     "output_type": "stream",
     "text": [
      "Optimizing Portfolio: 100%|██████████| 252/252 [22:41<00:00,  5.40s/day]\n"
     ]
    }
   ],
   "source": [
    "trades = {}\n",
    "port = {}\n",
    "\n",
    "for dt in tqdm(my_dates, desc='Optimizing Portfolio', unit='day'):\n",
    "    date = dt.strftime('%Y%m%d')\n",
    "\n",
    "    result = form_optimal_portfolio(frames[date], previous_holdings, risk_aversion)\n",
    "    trades[date] = build_tradelist(previous_holdings, result)\n",
    "    port[date] = result\n",
    "    previous_holdings = convert_to_previous(result)"
   ]
  },
  {
   "cell_type": "markdown",
   "metadata": {},
   "source": [
    "## Profit-and-Loss (PnL) attribution (TODO)\n",
    "\n",
    "Profit and Loss is the aggregate realized daily returns of the assets, weighted by the optimal portfolio holdings chosen, and summed up to get the portfolio's profit and loss.\n",
    "\n",
    "The PnL attributed to the alpha factors equals the factor returns times factor exposures for the alpha factors.  \n",
    "\n",
    "$$\n",
    "\\mbox{PnL}_{alpha}= f \\times b_{alpha}\n",
    "$$\n",
    "\n",
    "Similarly, the PnL attributed to the risk factors equals the factor returns times factor exposures of the risk factors.\n",
    "\n",
    "$$\n",
    "\\mbox{PnL}_{risk} = f \\times b_{risk}\n",
    "$$\n",
    "\n",
    "In the code below, in the function `build_pnl_attribution` calculate the PnL attributed to the alpha factors, the PnL attributed to the risk factors, and attribution to cost. "
   ]
  },
  {
   "cell_type": "code",
   "execution_count": 43,
   "metadata": {},
   "outputs": [],
   "source": [
    "## assumes v, w are pandas Series \n",
    "def partial_dot_product(v, w):\n",
    "    common = v.index.intersection(w.index)\n",
    "    return np.sum(v[common] * w[common])\n",
    "\n",
    "def build_pnl_attribution(): \n",
    "\n",
    "    df = pd.DataFrame(index = my_dates)\n",
    "    \n",
    "    for dt in my_dates:\n",
    "        date = dt.strftime('%Y%m%d')\n",
    "\n",
    "        p = port[date]\n",
    "        fr = facret[date]\n",
    "        mf = p['opt.portfolio'].merge(frames[date], how = 'left', on = \"Barrid\")\n",
    "        mf['DlyReturn'] = wins(mf['DlyReturn'], -0.5, 0.5)\n",
    "        df.at[dt,\"daily.pnl\"] = np.sum(mf['h.opt'] * mf['DlyReturn'])\n",
    "        # TODO: Implement\n",
    "    \n",
    "        df.at[dt,\"attribution.alpha.pnl\"] = partial_dot_product(p['alpha.exposures'],fr)\n",
    "        df.at[dt,\"attribution.risk.pnl\"] = partial_dot_product(p['risk.exposures'],fr) \n",
    "        df.at[dt,\"attribution.cost\"] = p['total.cost']\n",
    "        \n",
    "    return df"
   ]
  },
  {
   "cell_type": "code",
   "execution_count": 44,
   "metadata": {},
   "outputs": [
    {
     "data": {
      "image/png": "[encoded data removed]",
      "text/plain": [
       "<matplotlib.figure.Figure at 0x7f9c8e0b8748>"
      ]
     },
     "metadata": {
      "needs_background": "light"
     },
     "output_type": "display_data"
    }
   ],
   "source": [
    "attr = build_pnl_attribution()\n",
    "\n",
    "for column in attr.columns:\n",
    "        plt.plot(attr[column].cumsum(), label=column)\n",
    "plt.legend(loc='upper left')\n",
    "plt.xlabel('Date')\n",
    "plt.ylabel('PnL Attribution')\n",
    "plt.show()"
   ]
  },
  {
   "cell_type": "markdown",
   "metadata": {},
   "source": [
    "## Build portfolio characteristics (TODO)\n",
    "Calculate the sum of long positions, short positions, net positions, gross market value, and amount of dollars traded.\n",
    "\n",
    "In the code below, in the function `build_portfolio_characteristics` calculate the sum of long positions, short positions, net positions, gross market value, and amount of dollars traded.  "
   ]
  },
  {
   "cell_type": "code",
   "execution_count": 45,
   "metadata": {},
   "outputs": [],
   "source": [
    "def build_portfolio_characteristics(): \n",
    "    df = pd.DataFrame(index = my_dates)\n",
    "    \n",
    "    for dt in my_dates:\n",
    "        date = dt.strftime('%Y%m%d')\n",
    "  \n",
    "        p = port[date]\n",
    "        tradelist = trades[date]\n",
    "        h = p['opt.portfolio']['h.opt']\n",
    "        \n",
    "        # TODO: Implement\n",
    "        \n",
    "        ht = tradelist['h.opt']\n",
    "        ht0 = tradelist['h.opt.previous']\n",
    "        \n",
    "        df.at[dt,\"long\"] = np.sum(h[h >= 0])\n",
    "        df.at[dt,\"short\"] = np.sum(h[h < 0]) \n",
    "        df.at[dt,\"net\"] = np.sum(h)\n",
    "        df.at[dt,\"gmv\"] = np.sum(abs(h))\n",
    "        df.at[dt,\"traded\"] = np.sum(abs(ht-ht0))\n",
    "        \n",
    "    return df"
   ]
  },
  {
   "cell_type": "code",
   "execution_count": 46,
   "metadata": {},
   "outputs": [
    {
     "data": {
      "image/png": "[encoded data removed]",
      "text/plain": [
       "<matplotlib.figure.Figure at 0x7f9c72d1eb00>"
      ]
     },
     "metadata": {
      "needs_background": "light"
     },
     "output_type": "display_data"
    }
   ],
   "source": [
    "pchar = build_portfolio_characteristics()\n",
    "\n",
    "for column in pchar.columns:\n",
    "        plt.plot(pchar[column], label=column)\n",
    "plt.legend(loc='upper left')\n",
    "plt.xlabel('Date')\n",
    "plt.ylabel('Portfolio')\n",
    "plt.show()"
   ]
  },
  {
   "cell_type": "markdown",
   "metadata": {},
   "source": [
    "#### Optional\n",
    "Choose additional metrics to evaluate your portfolio."
   ]
  },
  {
   "cell_type": "code",
   "execution_count": 47,
   "metadata": {},
   "outputs": [],
   "source": [
    "# Optional\n"
   ]
  },
  {
   "cell_type": "markdown",
   "metadata": {},
   "source": [
    "## Submission\n",
    "Now that you're done with the project, it's time to submit it. Click the submit button in the bottom right. One of our reviewers will give you feedback on your project with a pass or not passed grade."
   ]
  }
 ],
 "metadata": {
  "kernelspec": {
   "display_name": "Python 3",
   "language": "python",
   "name": "python3"
  },
  "language_info": {
   "codemirror_mode": {
    "name": "ipython",
    "version": 3
   },
   "file_extension": ".py",
   "mimetype": "text/x-python",
   "name": "python",
   "nbconvert_exporter": "python",
   "pygments_lexer": "ipython3",
   "version": "3.6.3"
  }
 },
 "nbformat": 4,
 "nbformat_minor": 2
}
